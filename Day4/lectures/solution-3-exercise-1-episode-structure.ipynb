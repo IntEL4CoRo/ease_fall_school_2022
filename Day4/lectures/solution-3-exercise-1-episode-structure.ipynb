{
 "cells": [
  {
   "cell_type": "markdown",
   "id": "5a1ae446-b4ce-47c2-9fc2-e1ed26d6fbe3",
   "metadata": {},
   "source": [
    "# Episode Structure\n",
    "\n",
    "In this exercise, you will write queries for a recorded robotic episode. \n",
    "\n",
    "Before running this episode you need to add a episde into the data volume of this container:\n",
    "\n",
    "1. Download the episode at https://seafile.zfn.uni-bremen.de/f/68d6dc6010eb4445b63b/?dl=1\n",
    "2. Extract the episode and move the annoations, tf in the data directory of this Day\n",
    "3. Load the NEEM by running the following query:"
   ]
  },
  {
   "cell_type": "code",
   "execution_count": null,
   "id": "5aebec29-ef1c-4974-94f0-88a80e4f104a",
   "metadata": {},
   "outputs": [],
   "source": [
    "remember('/neem_data')."
   ]
  },
  {
   "cell_type": "markdown",
   "id": "7ad30b5a-64e0-49d9-b5c6-dffd44d189ef",
   "metadata": {},
   "source": [
    "The result of remember will be false. To test the success, run this query:"
   ]
  },
  {
   "cell_type": "code",
   "execution_count": null,
   "id": "f7cb0f0a-5aed-4b9a-b0cb-21770946d3b5",
   "metadata": {},
   "outputs": [],
   "source": [
    "triple(dul:'Action_RWETPSHC', dul:'executesTask', soma:'Fetching_BGQWXJTM')"
   ]
  },
  {
   "cell_type": "markdown",
   "id": "23b1fc2f-04c5-4838-a92b-24482085b9d2",
   "metadata": {},
   "source": [
    "If the result of this query is true, you can start with the excercise:"
   ]
  },
  {
   "cell_type": "markdown",
   "id": "a7928740-c6e5-4fbc-8888-15ac0702ac17",
   "metadata": {},
   "source": [
    "1. Write a query that yields the shortest action in which a transporting task was executed. Tip: You can use event_interval(*Action*, *Start*, *End*), where *Action* is the given action, and *Start* and *End* the start- and endtimepoint of the action. Use number(*End*) to ensure that *Start* and *End* is bound to a rational number. To obtain the executed task you can use the property *dul:executesTask*. Find the correct name for the transporting task in the SOMA ontology."
   ]
  },
  {
   "cell_type": "code",
   "execution_count": null,
   "id": "e79cb63a-1ba3-4972-afd7-c2f49b3469f7",
   "metadata": {
    "tags": []
   },
   "outputs": [],
   "source": [
    "% Get all events and their durations\n",
    "findall([Duration, Evt],\n",
    "  (  event_interval(Evt, Begin, End),\n",
    "     % Ensure that the Action executes a Transporting task\n",
    "     triple(Evt, dul:'executesTask', Tsk),\n",
    "     triple(Tsk, rdf:type, soma:'Transporting'),\n",
    "     % Ensure that the end is bound to a number\n",
    "     number(End),\n",
    "     % Calculate the duration\n",
    "     Duration is End - Begin\n",
    "  ),\n",
    "  Durations),\n",
    "% Get the minimal member of the solutions\n",
    "min_member([MinDuration, ShortestEvent], Durations)."
   ]
  },
  {
   "cell_type": "markdown",
   "id": "193cdf18-11b2-40a3-a97c-663cb66dcf3f",
   "metadata": {},
   "source": [
    "2. Write a query that yields the type of tasks that are executed in actions in which an agent manipulates an item.\n",
    "Tip: Being an item in an action is the role an object plays when a task is executed, the roles of a task are denoted by the *dul:isTaskOf* property.\n",
    "The type of the role of manipulated items is 'Item', and, for agents in a task, the role type is 'AgentRole'."
   ]
  },
  {
   "cell_type": "code",
   "execution_count": null,
   "id": "e158d045-80db-4503-8eed-17b1ed556d33",
   "metadata": {},
   "outputs": [],
   "source": [
    "% Get the executed Task\n",
    "triple(Act, dul:'executesTask', Tsk),\n",
    "% Ensure that there is a agent \n",
    "% and item during the Action\n",
    "triple(Tsk, dul:isTaskOf, ObjectRole),\n",
    "triple(ObjectRole, rdf:type, soma:'Item'),\n",
    "triple(Tsk, dul:isTaskOf, AgentRole),\n",
    "triple(AgentRole, rdf:type, soma:'AgentRole'),\n",
    "% Return the type of the task\n",
    "triple(Tsk, rdf:type, TskType)."
   ]
  },
  {
   "cell_type": "code",
   "execution_count": null,
   "id": "023e61cf-c594-4b18-9673-71477e27ea68",
   "metadata": {},
   "outputs": [],
   "source": []
  }
 ],
 "metadata": {
  "kernelspec": {
   "display_name": "KnowRob",
   "language": "",
   "name": "jknowrob"
  },
  "language_info": {
   "mimetype": "text/plain",
   "name": "swipl"
  }
 },
 "nbformat": 4,
 "nbformat_minor": 5
}
