{
 "cells": [
  {
   "cell_type": "markdown",
   "id": "216787ba-43cd-4c25-a21e-4a068fc47ce2",
   "metadata": {},
   "source": [
    "# Robot Structure\n",
    "\n",
    "In the first part of this exercise you will define relationships that are implemented via reasoning about the symbolic representation of the robot. \n",
    "\n",
    "1. Write the predicate robotPart(*Robot*, *Part*, *PartType*) where *Part* is reachable by *Robot* through the transitive closure of the parthood relationship *dul:'hasPart'*, and *PartType* is a type of *Part*, and a subclass of *dul:'PhysicalObject'*. Tip: The type of an object can be obtained by *rdf:type*, and its subclasses by *rdfs:subClassOf*.\n",
    "\n",
    "To write the predicate you can modify the Prolog Module file in *prolog/exercise1.pl*. After every change you have to reload the file by executing the following command:"
   ]
  },
  {
   "cell_type": "code",
   "execution_count": null,
   "id": "a93a8895-7d9b-4221-a2cf-bc5e7e977b82",
   "metadata": {},
   "outputs": [],
   "source": [
    "cloud_consult('/prolog/exercise1.pl')"
   ]
  },
  {
   "cell_type": "markdown",
   "id": "0d2bc605-bea0-426f-9f91-2bae31aac454",
   "metadata": {},
   "source": [
    "You can test your predicaate with the following call:"
   ]
  },
  {
   "cell_type": "code",
   "execution_count": null,
   "id": "434fac54-1411-4890-89bc-021cf297e5c9",
   "metadata": {},
   "outputs": [],
   "source": [
    "robot_part('http://knowrob.org/kb/PR2.owl#PR2_0', Part, PartType)."
   ]
  },
  {
   "cell_type": "markdown",
   "id": "2f15b499-e439-4eef-a17c-526218d5b335",
   "metadata": {},
   "source": [
    "2. Write a query that answers the following questions:(1) What are the reference frames associated to the base link of arms of the PR2 robot, and (2) how are the arms positioned relative to the base of the robot?\n",
    "Tips: The PR2 robot is identified by *pr2:'PR2\\_0'*, the type of arm components is *soma:'Arm'*, and their base link reference frame can be obtained through their property *urdf:hasBaseLinkName*. The base of the robot is of type *knowrob:'MobileBase'*.\n",
    "The position of an object **O** can be obtained via the 2-ary predicate *is_at*, written as *is_at(O,[F,Position,_])*, where the position of **O** is expressed relative to the reference frame **F**."
   ]
  },
  {
   "cell_type": "code",
   "execution_count": null,
   "id": "ee3de333-afab-4334-8e67-e8fb338a444b",
   "metadata": {},
   "outputs": [],
   "source": [
    "robotPart(pr2:'PR2_0', Base, knowrob:'MobileBase')"
   ]
  }
 ],
 "metadata": {
  "kernelspec": {
   "display_name": "KnowRob",
   "language": "",
   "name": "jknowrob"
  },
  "language_info": {
   "mimetype": "text/plain",
   "name": "swipl"
  }
 },
 "nbformat": 4,
 "nbformat_minor": 5
}
