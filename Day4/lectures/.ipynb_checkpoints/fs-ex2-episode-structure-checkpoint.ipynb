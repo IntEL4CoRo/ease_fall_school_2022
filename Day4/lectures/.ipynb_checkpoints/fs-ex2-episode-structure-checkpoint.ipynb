{
 "cells": [
  {
   "cell_type": "markdown",
   "id": "5a1ae446-b4ce-47c2-9fc2-e1ed26d6fbe3",
   "metadata": {},
   "source": [
    "# Episode Structure\n",
    "\n",
    "In this exercise, you will write queries for a recorded robotic NEEM. \n"
   ]
  },
  {
   "cell_type": "markdown",
   "id": "a7928740-c6e5-4fbc-8888-15ac0702ac17",
   "metadata": {},
   "source": [
    "1. Write a query that yields the shortest action in which a transporting task was executed. Tip: You can use event_interval(*Action*, *Start*, *End*), where *Action* is the given action, and *Start* and *End* the start- and endtimepoint of the action. Use number*End*) to ensure that *Start* and *End* is bound to a rational number. To obtain the executed task you can use the property *dul:executesTask*. The type of the task is *soma:'Transporting'*. "
   ]
  },
  {
   "cell_type": "code",
   "execution_count": null,
   "id": "e79cb63a-1ba3-4972-afd7-c2f49b3469f7",
   "metadata": {
    "tags": []
   },
   "outputs": [],
   "source": [
    "triple(Act, dul:'executesTask', Tsk)"
   ]
  },
  {
   "cell_type": "markdown",
   "id": "193cdf18-11b2-40a3-a97c-663cb66dcf3f",
   "metadata": {},
   "source": [
    "2. Write a query that yields the type of tasks that are executed in actions in which an agent manipulates an item.\n",
    "Tip: Being an item in an action is the role an object plays when a task is executed, the roles of a task are denoted by the *dul:isTaskOf* property.\n",
    "The type of the role of manipulated items is *soma:'Item'*, and, for agents in a task, the role type is *soma:'AgentRole'*."
   ]
  },
  {
   "cell_type": "code",
   "execution_count": null,
   "id": "e158d045-80db-4503-8eed-17b1ed556d33",
   "metadata": {},
   "outputs": [],
   "source": [
    "triple(Act, dul:'executesTask', Tsk)."
   ]
  }
 ],
 "metadata": {
  "kernelspec": {
   "display_name": "KnowRob",
   "language": "",
   "name": "jknowrob"
  },
  "language_info": {
   "mimetype": "text/plain",
   "name": "swipl"
  }
 },
 "nbformat": 4,
 "nbformat_minor": 5
}
