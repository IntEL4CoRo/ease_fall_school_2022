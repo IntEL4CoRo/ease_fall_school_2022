{
 "cells": [
  {
   "cell_type": "markdown",
   "id": "d4ac89bc-b9a9-43c6-acb3-8e299d421f14",
   "metadata": {},
   "source": [
    "# Running KnowRob on your System\n",
    "\n",
    "If you would just like to try KnowRob, you can use the Jupyter-Notebook, but if you would like to experiment more and adapt the packages, you should install the source distribution. Please refer to the [installation guide](https://github.com/knowrob/knowrob#installation) for instructions."
   ]
  },
  {
   "cell_type": "markdown",
   "id": "d524cfe0-808c-4280-a3b0-597fd9981935",
   "metadata": {},
   "source": [
    "You can now start KnowRob using the launch file. For this run:\n",
    "\n",
    "`roslaunch knowrob knowrob.launch`\n",
    "\n",
    "For general information about roslaunch you can look [here](http://wiki.ros.org/roslaunch)."
   ]
  },
  {
   "cell_type": "markdown",
   "id": "4fbd5564-2ad1-4cf8-a089-2576f0b1990b",
   "metadata": {},
   "source": [
    "You can now start KnowRob using the launch file. For this run:\n",
    "\n",
    "`rosrun rosprolog rosprolog_commandline.py`\n",
    "\n",
    "You should now see the KnowRob console. You can use the console to try commands,\n",
    "similiarly to the Jupyter-Notebook."
   ]
  },
  {
   "cell_type": "markdown",
   "id": "706a511f-f332-4bb0-98aa-3fed63dddd18",
   "metadata": {
    "tags": []
   },
   "source": [
    "## Create your own KnowRob package\n",
    "\n",
    "If your application requires functionality beyond that one already provided by the standard KnowRob packages, you will need to create your own KnowRob package. The following description assumes that you would like to add knowledge in terms of OWL ontologies, or implement new Prolog predicates, or both.\n",
    "\n",
    "KnowRob packages are normal ROS packages that, in addition, contain some special files and folders. This common structure allows rosprolog to automatically load the package and all its dependencies.\n",
    "\n",
    "```\n",
    "  your_package\n",
    "  |- package.xml\n",
    "  |- CMakeLists.txt\n",
    "  |- owl\n",
    "  |  \\- your_file.owl\n",
    "  |- src\n",
    "     |- __init__.pl\n",
    "     \\- your_module.pl\n",
    "```\n",
    "\n",
    "The example above assumes that you would like to create a package your_package with an OWL ontology your_file.owl and a Prolog file your_module.pl. Consider wrapping your functionality into a Prolog module to increase modularity and to avoid name clashes.\n",
    "\n",
    "The init.pl should initialize the package, which may include loading dependencies, parsing OWL files, and registering RDF namespaces. An example `__init__.pl` can be found [here](https://github.com/sasjonge/knowrob_k4r/blob/main/src/__init__.pl)\n",
    "\n",
    "Like in any other ROS package, you will need to specify your dependencies in the package.xml. You only need to list the direct dependencies, their dependencies are automatically included as well. To use the minimal KnowRob functionality, you should depend on knowrob."
   ]
  },
  {
   "cell_type": "markdown",
   "id": "96a82b5e-b7af-437a-a96b-34895a7b9b1e",
   "metadata": {},
   "source": [
    "## Use KnowRob from your program\n",
    "\n",
    "The interactive Prolog shell that rosprolog provides is good for exploring KnowRob, developing new functions and debugging Prolog code. However, if you would like to use KnowRob in your robot's control program, you need a way to send queries from your program.\n",
    "\n",
    "If you run KnowRob using roslaunch KnowRob will offer a list of ROS-Services. The relevant services are:\n",
    "\n",
    "```\n",
    "/rosprolog/query\n",
    "/rosprolog/next_solution\n",
    "/rosprolog/finish\n",
    "```\n",
    "\n",
    "With `/rosprolog/query` you can register a query with a ID (choosen by your program), `/rosprolog/next_solution` will return you the next result of the query, given the ID, and `/rosprolog/finish` will end the calculation for a query described by the ID. The type definitions can be found [here](https://github.com/code-iai/iai_common_msgs/tree/master/json_prolog_msgs/srv).\n",
    "\n",
    "An exampe-client for this service in python can be found [here](https://github.com/knowrob/rosprolog/blob/d70c5f9dec7150956df2a66284bd056bc74285eb/scripts/RosprologRestClient.py#L14)."
   ]
  },
  {
   "cell_type": "code",
   "execution_count": null,
   "id": "3719e45a-4098-4878-9e18-8924f1cf1513",
   "metadata": {},
   "outputs": [],
   "source": []
  }
 ],
 "metadata": {
  "kernelspec": {
   "display_name": "KnowRob",
   "language": "",
   "name": "jknowrob"
  },
  "language_info": {
   "mimetype": "text/plain",
   "name": "swipl"
  }
 },
 "nbformat": 4,
 "nbformat_minor": 5
}
