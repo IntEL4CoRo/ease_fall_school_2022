{
 "cells": [
  {
   "cell_type": "markdown",
   "id": "216787ba-43cd-4c25-a21e-4a068fc47ce2",
   "metadata": {},
   "source": [
    "# Robot Structure\n",
    "\n",
    "In the first part of this exercise you will define relationships that are implemented via reasoning about the symbolic representation of the robot. \n",
    "\n",
    "For this we first need to load the PR2.owl:\n"
   ]
  },
  {
   "cell_type": "code",
   "execution_count": null,
   "id": "aba97031-9795-494c-8e76-9bdceb3e2381",
   "metadata": {},
   "outputs": [],
   "source": [
    "load_owl('package://knowrob/owl/robots/PR2.owl', [namespace(pr2,'http://knowrob.org/kb/PR2.owl#')] )."
   ]
  },
  {
   "cell_type": "markdown",
   "id": "8df42698-2e4a-4ea5-8d1c-d4d41206e64f",
   "metadata": {},
   "source": [
    "After loading the OWL file you can start with the next task:\n",
    "\n",
    "\n",
    "1. Write the predicate robotPart(*Robot*, *Part*, *PartType*) where *Part* is reachable by *Robot* through the transitive closure of the parthood relationship *dul:'hasPart'*, and *PartType* is a type of *Part*, and a subclass of *dul:'PhysicalObject'*. Tip: The type of an object can be obtained by *rdf:type*, and its subclasses by *rdfs:subClassOf*.\n",
    "\n",
    "To write the predicate you can modify the Prolog Module file in *prolog/exercise.pl*. After every change you have to reload the file by executing the following command:"
   ]
  },
  {
   "cell_type": "code",
   "execution_count": null,
   "id": "a93a8895-7d9b-4221-a2cf-bc5e7e977b82",
   "metadata": {},
   "outputs": [],
   "source": [
    "cloud_consult('/prolog/solution.pl')"
   ]
  },
  {
   "cell_type": "markdown",
   "id": "0d2bc605-bea0-426f-9f91-2bae31aac454",
   "metadata": {},
   "source": [
    "You can test your predicate with the following call:"
   ]
  },
  {
   "cell_type": "code",
   "execution_count": null,
   "id": "434fac54-1411-4890-89bc-021cf297e5c9",
   "metadata": {},
   "outputs": [],
   "source": [
    "robotPartSol('http://knowrob.org/kb/PR2.owl#PR2_0', Part, 'http://knowrob.org/kb/PR2.owl#PR2Base')."
   ]
  },
  {
   "cell_type": "markdown",
   "id": "2f15b499-e439-4eef-a17c-526218d5b335",
   "metadata": {},
   "source": [
    "2. Write a query that answers the following questions:(1) What are the reference frames associated to the base link of arms of the PR2 robot, and (2) how are the arms positioned relative to the base of the robot?\n",
    "Tips: The PR2 robot is identified by *pr2:'PR2\\_0'*, the type of arm components is *soma:'Arm'*, and their base link reference frame can be obtained through their property *urdf:hasBaseLinkName*. The base of the robot is of type *knowrob:'MobileBase'*.\n",
    "The position of an object **O** can be obtained via the 2-ary predicate *is_at*, written as *is_at(O,[F,Position,_])*, where the position of **O** is expressed relative to the reference frame **F**."
   ]
  },
  {
   "cell_type": "code",
   "execution_count": null,
   "id": "ee3de333-afab-4334-8e67-e8fb338a444b",
   "metadata": {},
   "outputs": [],
   "source": [
    "% Get the reference frame of the robot base\n",
    "robotPartSol('http://knowrob.org/kb/PR2.owl#PR2_0', Base, 'http://knowrob.org/kb/PR2.owl#PR2Base'),\n",
    "triple(Base, urdf:hasBaseLinkName, BaseFrame),\n",
    "% Get the arm and the corresponding reference frame\n",
    "robotPartSol('http://knowrob.org/kb/PR2.owl#PR2_0', Arm, 'http://knowrob.org/kb/PR2.owl#PR2Arm'),\n",
    "triple(Arm, urdf:hasBaseLinkName, ArmFrame),\n",
    "% Get the position of the arm relative to the baseframe\n",
    "tf:tf_get_pose(Arm, [map, Position, _])."
   ]
  },
  {
   "cell_type": "code",
   "execution_count": null,
   "id": "17d068e8-ac38-4686-8466-9be3df27b431",
   "metadata": {},
   "outputs": [],
   "source": []
  }
 ],
 "metadata": {
  "kernelspec": {
   "display_name": "KnowRob",
   "language": "",
   "name": "jknowrob"
  },
  "language_info": {
   "mimetype": "text/plain",
   "name": "swipl"
  }
 },
 "nbformat": 4,
 "nbformat_minor": 5
}
