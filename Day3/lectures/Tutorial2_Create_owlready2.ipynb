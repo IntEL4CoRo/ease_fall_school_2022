{
 "cells": [
  {
   "cell_type": "markdown",
   "id": "bc19dd03-da9e-41b0-9ae4-3d1edf0cb645",
   "metadata": {},
   "source": [
    "## Creating a knowledge graph, part 2\n",
    "\n",
    "#### Let us create a simple triple example using owlready2: We will again create a City knowledge graph with Bremen as an instance!\n",
    "We first need to install owlready2:"
   ]
  },
  {
   "cell_type": "code",
   "execution_count": 1,
   "id": "6927e528-48ec-443d-9174-c61544fd1347",
   "metadata": {},
   "outputs": [
    {
     "name": "stdout",
     "output_type": "stream",
     "text": [
      "Collecting owlready2\n",
      "  Downloading Owlready2-0.38.tar.gz (25.4 MB)\n",
      "\u001b[2K     \u001b[90m━━━━━━━━━━━━━━━━━━━━━━━━━━━━━━━━━━━━━━━━\u001b[0m \u001b[32m25.4/25.4 MB\u001b[0m \u001b[31m9.3 MB/s\u001b[0m eta \u001b[36m0:00:00\u001b[0m:00:01\u001b[0m0:01\u001b[0mm\n",
      "\u001b[?25h  Preparing metadata (setup.py) ... \u001b[?25ldone\n",
      "\u001b[?25hBuilding wheels for collected packages: owlready2\n",
      "  Building wheel for owlready2 (setup.py) ... \u001b[?25ldone\n",
      "\u001b[?25h  Created wheel for owlready2: filename=Owlready2-0.38-cp310-cp310-linux_x86_64.whl size=21723509 sha256=612a77ecc88d1c454dc745e9bbf5d69629767e4132626f5559021932167ee427\n",
      "  Stored in directory: /home/jovyan/.cache/pip/wheels/7d/29/40/1ba96f4671d67500680926f96e3f511a6a3795397367a116a4\n",
      "Successfully built owlready2\n",
      "Installing collected packages: owlready2\n",
      "Successfully installed owlready2-0.38\n"
     ]
    }
   ],
   "source": [
    "!pip install owlready2"
   ]
  },
  {
   "cell_type": "markdown",
   "id": "5a475fad-43ac-4fee-8747-18976faac112",
   "metadata": {},
   "source": [
    "Then we can start using owlready:\n",
    "- first create the ontology file:"
   ]
  },
  {
   "cell_type": "code",
   "execution_count": 1,
   "id": "23076ec7-b951-45c6-aef6-005243ad89fb",
   "metadata": {},
   "outputs": [
    {
     "data": {
      "text/plain": [
       "'http://example.org/citykg#'"
      ]
     },
     "execution_count": 1,
     "metadata": {},
     "output_type": "execute_result"
    }
   ],
   "source": [
    "from owlready2 import *\n",
    "import types\n",
    "\n",
    "placeholder = \"http://example.org/citykg\"\n",
    "filename = \"\"\n",
    "onto = get_ontology(placeholder)\n",
    "# Get base iri for ontology\n",
    "onto.base_iri"
   ]
  },
  {
   "cell_type": "markdown",
   "id": "024be27e",
   "metadata": {},
   "source": [
    "With the keyword `class` we are able to create new classes and name them.\n",
    " - we can create a Bremen class as subclass of the main `Thing` class "
   ]
  },
  {
   "cell_type": "code",
   "execution_count": 2,
   "id": "715714f6-7f30-4c98-895e-1d205f3256b9",
   "metadata": {},
   "outputs": [],
   "source": [
    "class City(Thing):\n",
    "    namespace = onto"
   ]
  },
  {
   "cell_type": "markdown",
   "id": "38329e82-1b2a-48d7-a0de-cdb0f98b2447",
   "metadata": {},
   "source": [
    "- the results can be printed using the subclass of statement:"
   ]
  },
  {
   "cell_type": "code",
   "execution_count": 3,
   "id": "2f76e180-0a65-4f1b-8163-3eb8cabad9bd",
   "metadata": {},
   "outputs": [
    {
     "data": {
      "text/plain": [
       "[citykg.City]"
      ]
     },
     "execution_count": 3,
     "metadata": {},
     "output_type": "execute_result"
    }
   ],
   "source": [
    "list(Thing.subclasses())"
   ]
  },
  {
   "cell_type": "markdown",
   "id": "f6f7d711-6a20-479c-8cc5-fe3611933bf5",
   "metadata": {},
   "source": [
    "We can also use the ancestors function like this:"
   ]
  },
  {
   "cell_type": "code",
   "execution_count": 4,
   "id": "53b2696a-e883-44f2-8b50-9c4e8d50ee24",
   "metadata": {},
   "outputs": [
    {
     "data": {
      "text/plain": [
       "('http://example.org/citykg#City', {citykg.City, owl.Thing})"
      ]
     },
     "execution_count": 4,
     "metadata": {},
     "output_type": "execute_result"
    }
   ],
   "source": [
    "# Note that the ancestors method returns a set of descendants including self\n",
    "superclass = City.ancestors()\n",
    "City.iri, superclass"
   ]
  },
  {
   "cell_type": "markdown",
   "id": "92d5aa22-78c1-4b40-82bf-668f2756abcf",
   "metadata": {},
   "source": [
    "- now, let us create Bremen as an instance of a city:"
   ]
  },
  {
   "cell_type": "code",
   "execution_count": 6,
   "id": "0082a166-32fb-4905-8a0e-f34471b24be9",
   "metadata": {},
   "outputs": [
    {
     "name": "stdout",
     "output_type": "stream",
     "text": [
      "Bremen http://example.org/citykg#Bremen\n"
     ]
    }
   ],
   "source": [
    "bremen = City(\"Bremen\")\n",
    "print(bremen.name, bremen.iri)"
   ]
  },
  {
   "cell_type": "markdown",
   "id": "0fd51764-90b2-4604-96dd-b6dda9ce3d77",
   "metadata": {},
   "source": [
    "- since properties are a little more tricky (since different to rdflib) in owlready, I provide you the property definition for city population here:"
   ]
  },
  {
   "cell_type": "code",
   "execution_count": 10,
   "id": "49f6c9f1-ccef-41e5-acb5-d6029b58db2e",
   "metadata": {},
   "outputs": [
    {
     "name": "stdout",
     "output_type": "stream",
     "text": [
      "676000\n"
     ]
    }
   ],
   "source": [
    "with onto:\n",
    "    class population(DataProperty, FunctionalProperty):\n",
    "        pass\n",
    "    \n",
    "bremen.population = 676000\n",
    "\n",
    "print(bremen.population)"
   ]
  },
  {
   "cell_type": "markdown",
   "id": "4948b4a5-88fe-478d-808b-9a27fdfaf46c",
   "metadata": {},
   "source": [
    "### Exercise 2:\n",
    "\n",
    "1. Add Hamburg as a city to the previously created graph.\n",
    "2. Add Hamburgs population\n",
    "    - Hamburg has a population of 1853900\n",
    "    \n",
    "The solution to this exercise can be found in a seperate notebook (Solution_Tut2)\n"
   ]
  }
 ],
 "metadata": {
  "kernelspec": {
   "display_name": "Python 3 (ipykernel)",
   "language": "python",
   "name": "python3"
  },
  "language_info": {
   "codemirror_mode": {
    "name": "ipython",
    "version": 3
   },
   "file_extension": ".py",
   "mimetype": "text/x-python",
   "name": "python",
   "nbconvert_exporter": "python",
   "pygments_lexer": "ipython3",
   "version": "3.10.5"
  }
 },
 "nbformat": 4,
 "nbformat_minor": 5
}
