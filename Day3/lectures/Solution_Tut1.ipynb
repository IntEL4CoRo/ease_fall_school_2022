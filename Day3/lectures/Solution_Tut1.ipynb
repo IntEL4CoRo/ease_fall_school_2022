{
 "cells": [
  {
   "cell_type": "markdown",
   "metadata": {},
   "source": [
    "#### Solution to Exercise 1:"
   ]
  },
  {
   "cell_type": "code",
   "execution_count": 1,
   "metadata": {},
   "outputs": [
    {
     "name": "stdout",
     "output_type": "stream",
     "text": [
      "@prefix fskg: <http://example.org/citykg#> .\n",
      "@prefix owl: <http://www.w3.org/2002/07/owl#> .\n",
      "@prefix rdf: <http://www.w3.org/1999/02/22-rdf-syntax-ns#> .\n",
      "@prefix rdfs: <http://www.w3.org/2000/01/rdf-schema#> .\n",
      "@prefix xsd: <http://www.w3.org/2001/XMLSchema#> .\n",
      "\n",
      "fskg:Bremen a fskg:City ;\n",
      "    fskg:population 676000 .\n",
      "\n",
      "fskg:Hamburg a fskg:City ;\n",
      "    fskg:population 1853900 .\n",
      "\n",
      "fskg:population a rdf:Property .\n",
      "\n",
      "fskg:City rdfs:subClassOf owl:Thing .\n",
      "\n",
      "\n"
     ]
    }
   ],
   "source": [
    "from rdflib import Graph, Literal, URIRef, Namespace\n",
    "# rdflib knows about quite a few popular namespaces, like W3C ontologies, schema.org etc.\n",
    "from rdflib.namespace import OWL, RDF, RDFS, XSD\n",
    "\n",
    "# Create empty Graph\n",
    "g = Graph()\n",
    "\n",
    "# Create prefix citykg with given namespace\n",
    "# You can define your own namespaces by passing any IRI and bind to an abbrevation\n",
    "citykg = Namespace(\"http://example.org/citykg#\")\n",
    "g.bind(\"fskg\", citykg)\n",
    "g.bind(\"owl\", OWL)\n",
    "\n",
    "# Create an RDF URI node to use as the subject for multiple triples\n",
    "city = URIRef(\"http://example.org/citykg#City\")\n",
    "bremen = URIRef(\"http://example.org/citykg#Bremen\")\n",
    "hamburg = URIRef(\"http://example.org/citykg#Hamburg\")\n",
    "population = URIRef(\"http://example.org/citykg#population\")\n",
    "\n",
    "# Add city as class, add city \"Bremen\" and \"Hamburg\" as instance of city.\n",
    "g.add((city, RDFS.subClassOf, OWL.Thing))\n",
    "g.add((bremen, RDF.type, city))\n",
    "g.add((hamburg, RDF.type, city))\n",
    "\n",
    "#Define population property with domain and range\n",
    "g.add((population, RDF.type, RDF.Property))\n",
    "\n",
    "#Set population property for \"Bremen\" and \"Hamburg\"\n",
    "g.add((bremen, population, Literal(676000)))\n",
    "g.add((hamburg, population, Literal(1853900)))\n",
    "\n",
    "#Print in n3 triple format\n",
    "print(g.serialize(format='n3'))"
   ]
  },
  {
   "cell_type": "code",
   "execution_count": null,
   "metadata": {},
   "outputs": [],
   "source": []
  }
 ],
 "metadata": {
  "kernelspec": {
   "display_name": "Python 3 (ipykernel)",
   "language": "python",
   "name": "python3"
  },
  "language_info": {
   "codemirror_mode": {
    "name": "ipython",
    "version": 3
   },
   "file_extension": ".py",
   "mimetype": "text/x-python",
   "name": "python",
   "nbconvert_exporter": "python",
   "pygments_lexer": "ipython3",
   "version": "3.10.5"
  }
 },
 "nbformat": 4,
 "nbformat_minor": 4
}
