{
 "cells": [
  {
   "cell_type": "markdown",
   "id": "cb10c2cc-b7c7-4e06-aacf-4a360e391a33",
   "metadata": {},
   "source": [
    "## Solution to Exercise 3"
   ]
  },
  {
   "cell_type": "code",
   "execution_count": 1,
   "id": "e5ba3d03-9e0a-4d62-88bb-aae9efdcedcf",
   "metadata": {},
   "outputs": [
    {
     "data": {
      "text/html": [
       "<div class=\"krn-spql\"><div class=\"magic\">Endpoint set to: https://api.krr.triply.cc/datasets/mkumpel/FoodToNonFoodKG/services/FoodToNonFood/sparql</div><div class=\"magic\">Request format: DEFAULT</div><div class=\"magic\">Display: table</div><div class=\"magic\">Result maximum size: 10</div></div>"
      ],
      "text/plain": [
       "Endpoint set to: https://api.krr.triply.cc/datasets/mkumpel/FoodToNonFoodKG/services/FoodToNonFood/sparql\n",
       "Request format: DEFAULT\n",
       "Display: table\n",
       "Result maximum size: 10\n"
      ]
     },
     "metadata": {},
     "output_type": "display_data"
    },
    {
     "data": {
      "text/html": [
       "<div class=\"krn-spql\"><table><tr class=hdr><th>instance</th>\n",
       "<th>price</th>\n",
       "<th>stock</th></tr><tr class=odd><td class=val><a href=\"http://purl.org/NonFoodKG/product-taxonomy#P4010355090935\" target=\"_other\">http://purl.org/NonFoodKG/product-taxonomy#P4010355090935</a></td>\n",
       "<td class=val>4,95</td>\n",
       "<td class=val>2</td></tr></table><div class=\"tinfo\">Total: 1, Shown: 1</div></div>"
      ]
     },
     "metadata": {},
     "output_type": "display_data"
    }
   ],
   "source": [
    "%endpoint https://api.krr.triply.cc/datasets/mkumpel/FoodToNonFoodKG/services/FoodToNonFood/sparql\n",
    "%format default\n",
    "%display table \n",
    "%show 10\n",
    "\n",
    "PREFIX loc: <http://purl.org/NonFoodKG/location#>\n",
    "PREFIX gr: <http://purl.org/goodrelations/v1#>\n",
    "PREFIX rdf: <http://www.w3.org/1999/02/22-rdf-syntax-ns#>\n",
    "PREFIX rdfs: <http://www.w3.org/2000/01/rdf-schema#>\n",
    "\n",
    "SELECT ?instance ?price ?stock WHERE{\n",
    "    ?instance gr:hasEAN_UCC-13 \"4010355090935\".\n",
    "    ?instance loc:has_price ?price.\n",
    "    ?instance loc:has_stock ?stock.\n",
    "} "
   ]
  }
 ],
 "metadata": {
  "kernelspec": {
   "display_name": "SPARQL",
   "language": "sparql",
   "name": "sparql"
  },
  "language_info": {
   "codemirror_mode": {
    "name": "sparql"
   },
   "mimetype": "application/sparql-query",
   "name": "sparql",
   "pygments_lexer": "sparql-nb"
  }
 },
 "nbformat": 4,
 "nbformat_minor": 5
}
