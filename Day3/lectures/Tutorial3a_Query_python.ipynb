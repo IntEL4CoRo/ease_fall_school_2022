{
 "cells": [
  {
   "cell_type": "markdown",
   "id": "860a6ea5-0709-45b9-913d-ee8bdb43978b",
   "metadata": {},
   "source": [
    "## Querying a knowledge graph using python\n",
    "\n",
    "We will first focus on the previously introduced libraries rdflib and owlready2 and how to query a knowledge graph with them.\n",
    "\n",
    "If you start the Tutorials here, you need to install rdflib and owlready (`!pip install rdflib`, `!pip install owlready2`).\n",
    "\n",
    "#### Here is an example how to query the retail product knowledge graph NonFoodKG (https://k4r-iai.github.io/NonFoodKG/) for a list of all main classes using reflib:"
   ]
  },
  {
   "cell_type": "code",
   "execution_count": 5,
   "id": "885412d9-3a1e-461e-a9c8-96fa3b84a9bf",
   "metadata": {},
   "outputs": [
    {
     "name": "stdout",
     "output_type": "stream",
     "text": [
      "http://purl.org/NonFoodKG/product-taxonomy.owl#Product\n",
      "https://live.dbpedia.org/ontology/Demographics\n",
      "http://purl.org/NonFoodKG/allergen#Allergen\n",
      "http://purl.org/NonFoodKG/allergen#allergy\n",
      "http://purl.org/NonFoodKG/food-nutrition#Food\n",
      "http://purl.org/NonFoodKG/location#retail_lab_IAI\n",
      "http://purl.org/NonFoodKG/nonfoodingredient#Ingredient\n",
      "http://purl.org/NonFoodKG/nutrition#nutritional_component\n",
      "http://purl.org/NonFoodKG/packaging.owl#Packaging\n",
      "http://purl.org/NonFoodKG/product-taxonomy#Product\n",
      "http://purl.org/NonFoodKG/recycling.owl#Recycling\n",
      "http://purl.org/NonFoodKG/symptom#Symptom\n",
      "http://purl.org/NonFoodKG/user-profile#demographics\n",
      "http://purl.org/NonFoodKG/user-profile#user\n",
      "http://qudt.org/schema/qudt#Quantity\n",
      "http://www.loa-cnr.it/ontologies/DUL.owl#InformationEntity\n",
      "http://www.ontologydesignpatterns.org/ont/dul/DUL.owl#PhysicalObject\n",
      "http://purl.org/NonFoodKG/symptom-nutrition#Information_Entity\n"
     ]
    }
   ],
   "source": [
    "# import rdflib\n",
    "from rdflib import Graph, Literal, URIRef, Namespace\n",
    "# rdflib knows about quite a few popular namespaces, like W3C ontologies, schema.org etc\n",
    "from rdflib.namespace import OWL, RDF, RDFS\n",
    "\n",
    "g = Graph()\n",
    "\n",
    "# define prefixes to be used in the query \n",
    "g.bind(\"owl\", OWL)\n",
    "g.bind(\"rdfs\", RDFS)\n",
    "\n",
    "# the actual query comes here\n",
    "query = \"\"\"\n",
    "    SELECT ?s\n",
    "    WHERE {\n",
    "      SERVICE <https://api.krr.triply.cc/datasets/mkumpel/FoodToNonFoodKG/services/FoodToNonFood/sparql> {\n",
    "        ?s rdfs:subClassOf owl:Thing.\n",
    "      }\n",
    "    }\n",
    "    LIMIT 20\n",
    "    \"\"\"\n",
    "for row in g.query(query):\n",
    "    print(row.s)"
   ]
  },
  {
   "cell_type": "markdown",
   "id": "b8a048ef-df22-476b-a4a3-57c9b332fd18",
   "metadata": {},
   "source": [
    "#### The query can be modified to ask for all classes that are a subclass of the main product class by binding a new namespace:"
   ]
  },
  {
   "cell_type": "code",
   "execution_count": 4,
   "id": "6bb16c38-d9f3-40a3-8cf8-011e044542bc",
   "metadata": {},
   "outputs": [
    {
     "name": "stdout",
     "output_type": "stream",
     "text": [
      "http://knowrob.org/kb/shop.owl#CareProduct\n",
      "http://purl.org/NonFoodKG/product-taxonomy#Household\n",
      "http://purl.org/NonFoodKG/product-taxonomy#baby/child\n",
      "http://purl.org/NonFoodKG/product-taxonomy#cosmetics\n",
      "http://purl.org/NonFoodKG/product-taxonomy#groceries\n",
      "http://purl.org/NonFoodKG/product-taxonomy#housekeeping\n",
      "http://purl.org/NonFoodKG/product-taxonomy#pet\n",
      "http://purl.org/NonFoodKG/product-taxonomy#plant\n",
      "http://purl.org/NonFoodKG/product-taxonomy#school/work\n",
      "http://purl.org/NonFoodKG/product-taxonomy#textile\n",
      "http://purl.org/NonFoodKG/product-taxonomy#travel\n",
      "http://purl.org/NonFoodKG/product-taxonomy#well-being\n",
      "http://knowrob.org/kb/shop.owl#HouseholdItem\n"
     ]
    }
   ],
   "source": [
    "# define new prefix\n",
    "g.bind(\"gr\", \"http://purl.org/goodrelations/v1#\")\n",
    "\n",
    "query = \"\"\"\n",
    "    SELECT ?s\n",
    "    WHERE {\n",
    "      SERVICE <https://api.krr.triply.cc/datasets/mkumpel/FoodToNonFoodKG/services/FoodToNonFood/sparql> {\n",
    "        ?s rdfs:subClassOf gr:ProductOrService.\n",
    "      }\n",
    "    }\n",
    "    LIMIT 20\n",
    "    \"\"\"\n",
    "for row in g.query(query):\n",
    "    print(row.s)"
   ]
  },
  {
   "cell_type": "markdown",
   "id": "adb30f9c-e706-4b44-b0e4-eff12b9c0212",
   "metadata": {},
   "source": [
    "#### Similarly, this can be done in owlready2:\n",
    "\n",
    "note: While this might seem easier at first, you actually "
   ]
  },
  {
   "cell_type": "code",
   "execution_count": 17,
   "id": "f205391d-307d-4a56-84f5-8d5fc41806ab",
   "metadata": {},
   "outputs": [
    {
     "data": {
      "text/plain": [
       "[product-taxonomy.ProductOrService,\n",
       " DUL.PhysicalObject,\n",
       " knowrob.Buttermilk,\n",
       " iai-kitchen.FettarmeMilch,\n",
       " knowrob.milk,\n",
       " iai-kitchen.FrischeMilch,\n",
       " iai-kitchen.H-Milch,\n",
       " iai-kitchen.JaMilch,\n",
       " iai-kitchen.PfannerGruneIcetea,\n",
       " iai-kitchen.PfannerPfirsichIcetea,\n",
       " knowrob.TomatoBasedSauce,\n",
       " iai-kitchen.VollMilch,\n",
       " iai-kitchen.WeideMilch,\n",
       " iai-kitchen.WeideMilchSmall,\n",
       " product-taxonomy.baby_food,\n",
       " shop.CareLotion,\n",
       " shop.ChildFood,\n",
       " shop.FruitOrCereal,\n",
       " product-taxonomy.parfum,\n",
       " shop.ShoeCareProduct,\n",
       " shop.YogurtCup,\n",
       " product-taxonomy.sugar,\n",
       " product-taxonomy.butter,\n",
       " product-taxonomy.egg,\n",
       " product-taxonomy.flour,\n",
       " product-taxonomy.mini_product,\n",
       " product-taxonomy.nut,\n",
       " product-taxonomy.oil,\n",
       " product-taxonomy.photo,\n",
       " product-taxonomy.spice,\n",
       " DUL.InformationEntity]"
      ]
     },
     "execution_count": 17,
     "metadata": {},
     "output_type": "execute_result"
    }
   ],
   "source": [
    "from owlready2 import *\n",
    "\n",
    "# access ontology\n",
    "# note: you can either give an URL or the name of a local file here, we use the URL and load the file\n",
    "onto = get_ontology(\"https://raw.githubusercontent.com/K4R-IAI/NonFoodKG/master/WebGraph/2.0/product-taxonomy.owl\").load()\n",
    "\n",
    "list(Thing.subclasses())"
   ]
  },
  {
   "cell_type": "markdown",
   "id": "b1b384f5-9565-459c-8d54-116812f31865",
   "metadata": {},
   "source": []
  }
 ],
 "metadata": {
  "kernelspec": {
   "display_name": "Python 3 (ipykernel)",
   "language": "python",
   "name": "python3"
  },
  "language_info": {
   "codemirror_mode": {
    "name": "ipython",
    "version": 3
   },
   "file_extension": ".py",
   "mimetype": "text/x-python",
   "name": "python",
   "nbconvert_exporter": "python",
   "pygments_lexer": "ipython3",
   "version": "3.10.5"
  }
 },
 "nbformat": 4,
 "nbformat_minor": 5
}
