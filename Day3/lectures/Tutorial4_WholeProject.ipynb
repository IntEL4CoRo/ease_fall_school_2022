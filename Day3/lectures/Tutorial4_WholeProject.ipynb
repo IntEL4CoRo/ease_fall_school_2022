{
 "cells": [
  {
   "cell_type": "markdown",
   "id": "f96fe9fd-066f-4e89-a38b-bb4df39872fc",
   "metadata": {},
   "source": [
    "## Finally: A whole Knowledge Acquisition exercise\n",
    "\n",
    "Think of the REMARO project example. Imagine having to repair a pipeline to an offshore terminal with your robots. You probably want to have a weather ontology that you can query for the best/ worst weather conditions to plan your work. This is exactly what we will do in this exercise!\n",
    "\n",
    "What you will do here:\n",
    "1. Create a basic weather data ontology\n",
    "2. Choose a website with REST API to query current weather data for an offshore terminal\n",
    "3. Write this data into the created ontology\n",
    "4. Query the ontology for specific weather conditions to choose best times for your work\n",
    "\n",
    "Note: If you start the Tutorials here, you need to install rdflib and owlready (`!pip install rdflib`, `!pip install owlready2`)."
   ]
  },
  {
   "cell_type": "markdown",
   "id": "61178e44-1c48-43b4-9887-f07416912b34",
   "metadata": {},
   "source": [
    "#### 1. Create a basic weather ontology"
   ]
  },
  {
   "cell_type": "code",
   "execution_count": 6,
   "id": "1237a253-38ea-4041-8896-dd8bb6560c9d",
   "metadata": {},
   "outputs": [
    {
     "data": {
      "text/plain": [
       "[weather-data.Weather]"
      ]
     },
     "execution_count": 6,
     "metadata": {},
     "output_type": "execute_result"
    }
   ],
   "source": [
    "from owlready2 import *\n",
    "\n",
    "# Create your own weather ontology\n",
    "onto = get_ontology(\"http://purl.org/weather-data\")\n",
    "\n",
    "# Create the main classes, we will create a weather class\n",
    "# let us define a wind_speed property for a weather as interesting property\n",
    "with onto:\n",
    "    class Weather(Thing):\n",
    "        label = \"weather at date time\" \n",
    "    class wind_speed(DataProperty, Weather >> float, FunctionalProperty):\n",
    "        label = \"wind speed\"   \n",
    "        \n",
    "list(Thing.subclasses())"
   ]
  },
  {
   "cell_type": "markdown",
   "id": "c62369c1-d0de-4add-b602-923960ae5750",
   "metadata": {},
   "source": [
    "#### 2. Choose a website with REST API to query current weather data for an offshore terminal\n",
    "\n",
    "There are many websites with weather data and REST API, for example:\n",
    "-  https://developer.yr.no/doc/ (we will use this site in this exercise)\n",
    "-  https://www.oceandatalab.com/home\n",
    "-  https://earthexplorer.usgs.gov\n",
    "\n",
    "For this example, let us use the \"Mittelplatte\" oil field, which has the coordinates 54.0259°N 8.731°E \n",
    "(for further info see https://de.wikipedia.org/wiki/Mittelplate_(%C3%96lfeld))\n",
    "\n",
    "The following code accesses the REST API and writes the results into a json file:"
   ]
  },
  {
   "cell_type": "code",
   "execution_count": 7,
   "id": "057712af-199a-476e-84a9-4b22d387178f",
   "metadata": {},
   "outputs": [],
   "source": [
    "import requests\n",
    "import json\n",
    "\n",
    "api_url = 'https://api.met.no/weatherapi/locationforecast/2.0/compact'\n",
    "parameters = {'lat': 54,'lon': 8.73} #the previously defined coordinates\n",
    "headers =  {\n",
    "    'User-Agent': 'WeatherKG'\n",
    "}\n",
    "response = requests.get(api_url, headers = headers, params=parameters, timeout = 3)\n",
    "# Assert that there is a response from the source\n",
    "assert response.status_code == 200"
   ]
  },
  {
   "cell_type": "code",
   "execution_count": 5,
   "id": "8b3ad3c0-c6e8-4ed9-9760-d1e3c1cf8586",
   "metadata": {},
   "outputs": [],
   "source": [
    "with open('mittelplatte.json', 'w') as outfile:\n",
    "    json.dump(response.json(),  outfile, indent=4)"
   ]
  },
  {
   "cell_type": "markdown",
   "id": "d47da5a9-af3d-42c3-857c-ce7df4cd019b",
   "metadata": {},
   "source": [
    "You should now have created a new file named \"mittelplatte\" on the left. Check out the created .json file!\n",
    "There is a time series of data with a wind speed property, amongst others. For now, we will only focus on this property."
   ]
  },
  {
   "cell_type": "markdown",
   "id": "84c355c5-e583-4428-9c93-582137ae575f",
   "metadata": {},
   "source": [
    "#### 3. Write this data into the created ontology\n",
    "\n",
    "For this, we open the created json file and retrieve the interesting parameters (in this case: wind speed) to write it into the corresponding fields in the ontology"
   ]
  },
  {
   "cell_type": "code",
   "execution_count": 12,
   "id": "4cd3ec8f-cc10-4660-ac32-40a1eb7931eb",
   "metadata": {},
   "outputs": [],
   "source": [
    "import json\n",
    "\n",
    "forecast = None\n",
    "with open('mittelplatte.json') as file:\n",
    "    forecast = json.load(file)  \n",
    "\n",
    "# retrieve timeseries data\n",
    "ts = forecast['properties']['timeseries']\n",
    "\n",
    "# go through the file and write all weather instances into the ontology\n",
    "# add the wind speed data property\n",
    "for x in range(len(ts)):\n",
    "    dtime = ts[x]['time']\n",
    "    instance = Weather(dtime) \n",
    "    instant_details = ts[x]['data']['instant']['details']    \n",
    "    instance.wind_speed = instant_details['wind_speed']        \n",
    "        \n",
    "# Save file\n",
    "onto.save(file = \"weather-data.owl\", format = \"rdfxml\")   "
   ]
  },
  {
   "cell_type": "markdown",
   "id": "8573ac12-1c53-4566-b3df-9559c7856f8b",
   "metadata": {},
   "source": [
    "You should now have created your own ontology named \"weather-data.owl\" on the left."
   ]
  },
  {
   "cell_type": "markdown",
   "id": "67315f7b-8ad0-4311-b5f6-2615047e4d47",
   "metadata": {},
   "source": [
    "#### 4. Query the ontology for specific weather conditions to choose best times for your work\n",
    "\n",
    "We can query the ontology for contained instances and their wind speed:"
   ]
  },
  {
   "cell_type": "code",
   "execution_count": 14,
   "id": "dc4d6eb8-70f5-4108-8cbe-366601f40f59",
   "metadata": {},
   "outputs": [
    {
     "name": "stdout",
     "output_type": "stream",
     "text": [
      "weather-data.2022-09-13T16:00:00Z 9.1\n",
      "weather-data.2022-09-13T17:00:00Z 9.8\n",
      "weather-data.2022-09-13T18:00:00Z 9.7\n",
      "weather-data.2022-09-13T19:00:00Z 9.5\n",
      "weather-data.2022-09-13T20:00:00Z 8.8\n",
      "weather-data.2022-09-13T21:00:00Z 8.7\n",
      "weather-data.2022-09-13T22:00:00Z 9.5\n",
      "weather-data.2022-09-13T23:00:00Z 8.6\n",
      "weather-data.2022-09-14T00:00:00Z 8.1\n",
      "weather-data.2022-09-14T01:00:00Z 7.5\n",
      "weather-data.2022-09-14T02:00:00Z 7.3\n",
      "weather-data.2022-09-14T03:00:00Z 7.2\n",
      "weather-data.2022-09-14T04:00:00Z 6.9\n",
      "weather-data.2022-09-14T05:00:00Z 7.3\n",
      "weather-data.2022-09-14T06:00:00Z 7.0\n",
      "weather-data.2022-09-14T07:00:00Z 6.5\n",
      "weather-data.2022-09-14T08:00:00Z 6.0\n",
      "weather-data.2022-09-14T09:00:00Z 6.0\n",
      "weather-data.2022-09-14T10:00:00Z 5.9\n",
      "weather-data.2022-09-14T11:00:00Z 6.7\n",
      "weather-data.2022-09-14T12:00:00Z 6.4\n",
      "weather-data.2022-09-14T13:00:00Z 6.6\n",
      "weather-data.2022-09-14T14:00:00Z 6.5\n",
      "weather-data.2022-09-14T15:00:00Z 7.7\n",
      "weather-data.2022-09-14T16:00:00Z 7.3\n",
      "weather-data.2022-09-14T17:00:00Z 7.8\n",
      "weather-data.2022-09-14T18:00:00Z 9.1\n",
      "weather-data.2022-09-14T19:00:00Z 9.4\n",
      "weather-data.2022-09-14T20:00:00Z 10.8\n",
      "weather-data.2022-09-14T21:00:00Z 6.7\n",
      "weather-data.2022-09-14T22:00:00Z 6.9\n",
      "weather-data.2022-09-14T23:00:00Z 8.4\n",
      "weather-data.2022-09-15T00:00:00Z 8.3\n",
      "weather-data.2022-09-15T01:00:00Z 9.4\n",
      "weather-data.2022-09-15T02:00:00Z 10.5\n",
      "weather-data.2022-09-15T03:00:00Z 10.7\n",
      "weather-data.2022-09-15T04:00:00Z 10.7\n",
      "weather-data.2022-09-15T05:00:00Z 10.6\n",
      "weather-data.2022-09-15T06:00:00Z 9.9\n",
      "weather-data.2022-09-15T07:00:00Z 8.6\n",
      "weather-data.2022-09-15T08:00:00Z 8.8\n",
      "weather-data.2022-09-15T09:00:00Z 9.2\n",
      "weather-data.2022-09-15T10:00:00Z 9.2\n",
      "weather-data.2022-09-15T11:00:00Z 9.5\n",
      "weather-data.2022-09-15T12:00:00Z 8.7\n",
      "weather-data.2022-09-15T13:00:00Z 9.6\n",
      "weather-data.2022-09-15T14:00:00Z 10.3\n",
      "weather-data.2022-09-15T15:00:00Z 11.0\n",
      "weather-data.2022-09-15T16:00:00Z 10.6\n",
      "weather-data.2022-09-15T17:00:00Z 10.0\n",
      "weather-data.2022-09-15T18:00:00Z 9.9\n",
      "weather-data.2022-09-15T19:00:00Z 10.2\n",
      "weather-data.2022-09-15T20:00:00Z 11.0\n",
      "weather-data.2022-09-15T21:00:00Z 8.6\n",
      "weather-data.2022-09-15T22:00:00Z 11.8\n",
      "weather-data.2022-09-15T23:00:00Z 9.8\n",
      "weather-data.2022-09-16T00:00:00Z 10.8\n",
      "weather-data.2022-09-16T06:00:00Z 9.3\n",
      "weather-data.2022-09-16T12:00:00Z 10.0\n",
      "weather-data.2022-09-16T18:00:00Z 8.6\n",
      "weather-data.2022-09-17T00:00:00Z 7.8\n",
      "weather-data.2022-09-17T06:00:00Z 12.3\n",
      "weather-data.2022-09-17T12:00:00Z 12.9\n",
      "weather-data.2022-09-17T18:00:00Z 10.9\n",
      "weather-data.2022-09-18T00:00:00Z 9.4\n",
      "weather-data.2022-09-18T06:00:00Z 9.5\n",
      "weather-data.2022-09-18T12:00:00Z 9.1\n",
      "weather-data.2022-09-18T18:00:00Z 10.0\n",
      "weather-data.2022-09-19T00:00:00Z 7.9\n",
      "weather-data.2022-09-19T06:00:00Z 8.7\n",
      "weather-data.2022-09-19T12:00:00Z 9.9\n",
      "weather-data.2022-09-19T18:00:00Z 7.7\n",
      "weather-data.2022-09-20T00:00:00Z 5.4\n",
      "weather-data.2022-09-20T06:00:00Z 5.3\n",
      "weather-data.2022-09-20T12:00:00Z 4.8\n",
      "weather-data.2022-09-20T18:00:00Z 4.8\n",
      "weather-data.2022-09-21T00:00:00Z 4.5\n",
      "weather-data.2022-09-21T06:00:00Z 3.3\n",
      "weather-data.2022-09-21T12:00:00Z 3.4\n",
      "weather-data.2022-09-21T18:00:00Z 4.5\n",
      "weather-data.2022-09-22T00:00:00Z 5.4\n",
      "weather-data.2022-09-22T06:00:00Z 5.9\n",
      "weather-data.2022-09-22T12:00:00Z 6.1\n",
      "weather-data.2022-09-22T18:00:00Z 5.6\n"
     ]
    }
   ],
   "source": [
    "for i in Weather.instances(): print(i, i.wind_speed)"
   ]
  },
  {
   "cell_type": "markdown",
   "id": "dc972c54-9928-4dd4-92ec-b079d6311eae",
   "metadata": {},
   "source": [
    "Of course we can also filter out only instances that are above a defined number. If we know that conditions are too hard to perform tasks underwater at a wind speed above 5 , we can easily query only for times that are below this:"
   ]
  },
  {
   "cell_type": "code",
   "execution_count": 18,
   "id": "c9509983-a1ce-4925-99a5-a1788487eceb",
   "metadata": {},
   "outputs": [
    {
     "name": "stdout",
     "output_type": "stream",
     "text": [
      "weather-data.2022-09-20T12:00:00Z 4.8\n",
      "weather-data.2022-09-20T18:00:00Z 4.8\n",
      "weather-data.2022-09-21T00:00:00Z 4.5\n",
      "weather-data.2022-09-21T06:00:00Z 3.3\n",
      "weather-data.2022-09-21T12:00:00Z 3.4\n",
      "weather-data.2022-09-21T18:00:00Z 4.5\n"
     ]
    }
   ],
   "source": [
    "for i in Weather.instances(): \n",
    "    if i.wind_speed < 5:\n",
    "      print(i, i.wind_speed)"
   ]
  },
  {
   "cell_type": "markdown",
   "id": "46a2427e-7c0b-449e-856e-cc8faa507f66",
   "metadata": {},
   "source": [
    "Done! "
   ]
  },
  {
   "cell_type": "markdown",
   "id": "55c0d2e5-5ee8-4e0f-a5a2-2b34e8c96f62",
   "metadata": {},
   "source": [
    "### Exercise 4\n",
    "\n",
    "Get creative! \n",
    "You can either:\n",
    "- add another interesting feature to the previously created ontology (a property, or a forecast) and query it\n",
    "or\n",
    "- query a new website like the oceandatalab and get whole new data (maybe wave height, or even ship routes?)\n",
    "\n",
    "-> Last but not least: Im looking forward to you presenting your results to me :-)"
   ]
  },
  {
   "cell_type": "code",
   "execution_count": null,
   "id": "c3600f71-8058-464b-a21f-0c5f599d88a2",
   "metadata": {},
   "outputs": [],
   "source": []
  }
 ],
 "metadata": {
  "kernelspec": {
   "display_name": "Python 3 (ipykernel)",
   "language": "python",
   "name": "python3"
  },
  "language_info": {
   "codemirror_mode": {
    "name": "ipython",
    "version": 3
   },
   "file_extension": ".py",
   "mimetype": "text/x-python",
   "name": "python",
   "nbconvert_exporter": "python",
   "pygments_lexer": "ipython3",
   "version": "3.10.5"
  }
 },
 "nbformat": 4,
 "nbformat_minor": 5
}
