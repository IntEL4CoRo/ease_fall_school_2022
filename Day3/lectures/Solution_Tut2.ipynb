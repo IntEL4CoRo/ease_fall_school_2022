{
 "cells": [
  {
   "cell_type": "markdown",
   "metadata": {},
   "source": [
    "#### Solution to Exercise 2:"
   ]
  },
  {
   "cell_type": "code",
   "execution_count": 5,
   "metadata": {},
   "outputs": [
    {
     "data": {
      "text/plain": [
       "[citykg.Bremen, citykg.Hamburg]"
      ]
     },
     "execution_count": 5,
     "metadata": {},
     "output_type": "execute_result"
    }
   ],
   "source": [
    "from owlready2 import *\n",
    "import types\n",
    "\n",
    "placeholder = \"http://example.org/citykg\"\n",
    "filename = \"\"\n",
    "onto = get_ontology(placeholder)\n",
    "\n",
    "class City(Thing):\n",
    "    namespace = onto\n",
    "    \n",
    "with onto:\n",
    "    class population(DataProperty, FunctionalProperty):\n",
    "        pass\n",
    "    \n",
    "bremen = City(\"Bremen\")\n",
    "hamburg = City(\"Hamburg\")\n",
    "\n",
    "bremen.population = 676000\n",
    "hamburg.population = 1853900\n",
    "\n",
    "print(list(onto.individuals()))"
   ]
  },
  {
   "cell_type": "code",
   "execution_count": null,
   "metadata": {},
   "outputs": [],
   "source": []
  }
 ],
 "metadata": {
  "kernelspec": {
   "display_name": "Python 3 (ipykernel)",
   "language": "python",
   "name": "python3"
  },
  "language_info": {
   "codemirror_mode": {
    "name": "ipython",
    "version": 3
   },
   "file_extension": ".py",
   "mimetype": "text/x-python",
   "name": "python",
   "nbconvert_exporter": "python",
   "pygments_lexer": "ipython3",
   "version": "3.10.5"
  }
 },
 "nbformat": 4,
 "nbformat_minor": 4
}
