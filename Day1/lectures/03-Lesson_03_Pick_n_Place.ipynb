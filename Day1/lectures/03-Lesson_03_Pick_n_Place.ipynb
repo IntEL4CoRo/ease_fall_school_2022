{
 "cells": [
  {
   "cell_type": "markdown",
   "id": "f99f0479-387e-4c9e-b60a-03511f806d2b",
   "metadata": {},
   "source": [
    "# Lesson 3 Pick and Place\n",
    "\n",
    "Welcome to the first challenge. Everything before was just messing around with the setup and basics for Lisp and CRAM. You've learned how to write Lisp code, define functions and parameters, create and visualize poses, and how to use one of the key components of CRAM: Designators. Now we will utilize all of that by making the robot pick and place objects from one place to another.\n",
    "\n",
    "To use CRAM in this lesson we need to clean up a bit. Close the last Bullet World window. It is bound to the kernel of lesson 2, so it can't communicate with it when we work here in lesson 3. Then load the package, initialize the simulator again and define the tutorial package for your own code."
   ]
  },
  {
   "cell_type": "code",
   "execution_count": null,
   "id": "48c1a0b7-fa8e-423d-b971-564c555a7ede",
   "metadata": {
    "tags": []
   },
   "outputs": [],
   "source": [
    "(asdf:load-system :cram-pr2-pick-place-demo)"
   ]
  },
  {
   "cell_type": "code",
   "execution_count": null,
   "id": "37104ba2-9562-4fbd-be2e-45a6a5db0263",
   "metadata": {
    "tags": []
   },
   "outputs": [],
   "source": [
    "(roslisp-utilities:startup-ros)"
   ]
  },
  {
   "cell_type": "code",
   "execution_count": null,
   "id": "09eb50e2-807a-4998-9b9c-0f11e688dc4c",
   "metadata": {},
   "outputs": [],
   "source": [
    "(defpackage cram-bullet-world-tutorial\n",
    "  (:nicknames :btw-tut)\n",
    "  (:use :common-lisp :cram-prolog :desig :exe))"
   ]
  },
  {
   "cell_type": "code",
   "execution_count": null,
   "id": "2d21cd23-1a1d-4c21-b2a1-90a64370a1d0",
   "metadata": {},
   "outputs": [],
   "source": [
    "(in-package :btw-tut)"
   ]
  },
  {
   "cell_type": "markdown",
   "id": "172d794e-e071-4059-875e-f9f4fea105a6",
   "metadata": {},
   "source": [
    "We also want to re-use the `make-pose` function from lesson 2 again, so compile it here."
   ]
  },
  {
   "cell_type": "code",
   "execution_count": null,
   "id": "314b7b53-80d5-4ae6-b149-3243a90fd2d1",
   "metadata": {},
   "outputs": [],
   "source": [
    "(defun make-pose (frame point euler)\n",
    "    (declare (type string frame)\n",
    "             (type list point euler))\n",
    "    \"Creates a cl-transforms pose in 3D space w.r.t. the given frame, point and euler.\"\n",
    "    (if (and (eq (length point) 3) (eq (length euler) 3))\n",
    "        (destructuring-bind (ax ay az) (mapcar #'eval euler)\n",
    "          (cl-transforms-stamped:make-pose-stamped frame 0.0 \n",
    "                                                   (apply #'cl-transforms:make-3d-vector point)\n",
    "                                                   (cl-transforms:euler->quaternion :ax ax :ay ay :az az)))\n",
    "        (format T \"point ~a or euler ~a is not of length 3\" point euler)))"
   ]
  },
  {
   "cell_type": "markdown",
   "id": "ece6175b-23ee-4857-ae29-852a383a2dc5",
   "metadata": {},
   "source": [
    "## Spawning Objects and simulating\n",
    "\n",
    "We've spawned objects before, in lesson 2. This is how we did it."
   ]
  },
  {
   "cell_type": "code",
   "execution_count": null,
   "id": "d79c9ece-aba0-4b7a-801d-e228f8c4a973",
   "metadata": {},
   "outputs": [],
   "source": [
    "(btr-utils:spawn-object 'bottle-1 :bottle :pose (make-pose \"map\" '(-2.323 -1 0.82) '(0 0 0)))"
   ]
  },
  {
   "cell_type": "markdown",
   "id": "24716f37-a817-4618-aa98-4c1dca6de947",
   "metadata": {},
   "source": [
    "Notice that the `spawn-object` function has more optional slots to fill."
   ]
  },
  {
   "cell_type": "code",
   "execution_count": null,
   "id": "340a805f-4fdc-4b2f-a660-1ad2c0559b51",
   "metadata": {},
   "outputs": [],
   "source": [
    "(describe 'btr-utils:spawn-object)"
   ]
  },
  {
   "cell_type": "markdown",
   "id": "2fd76819-8a1b-4b12-a8b8-624da44e9bb5",
   "metadata": {},
   "source": [
    "There are the argments name, type, pose, color, mass and world. Only the first two are mandadory, the other ones use default values if they are not set explicitly. We recommend to set the `pose` argument though, otherwise it will spawn in the coordinate (0 0 0). Mass doesn't really have any effect in bullet, unless it's 0, then it won't fall down.\n",
    "\n",
    "You can set the color though."
   ]
  },
  {
   "cell_type": "code",
   "execution_count": null,
   "id": "6eb6bf36-561c-4557-866e-28a26a924b07",
   "metadata": {},
   "outputs": [],
   "source": [
    "(btr-utils:spawn-object 'bottle-1 :bottle :pose (make-pose \"map\" '(-2.323 -1 1.82) '(0 0 0)) :color '(1 0 0))"
   ]
  },
  {
   "cell_type": "markdown",
   "id": "6561e13f-51b6-4766-a56f-0a8a56f51cef",
   "metadata": {},
   "source": [
    "Kill an object like this"
   ]
  },
  {
   "cell_type": "code",
   "execution_count": null,
   "id": "37e428b6-9c94-4755-95a8-904b7da18c8c",
   "metadata": {},
   "outputs": [],
   "source": [
    "(btr-utils:kill-object 'bottle-1)\n",
    ";; or (btr-utils:kill-all-objects) if you want to get rid of them all"
   ]
  },
  {
   "cell_type": "markdown",
   "id": "bc4f404b-f68e-4c5e-8444-1294dfa37799",
   "metadata": {},
   "source": [
    "To find all possible `obj-type`, the parameter `btr::*mesh-files*` contains the mesh files as key-value pairs between keyword and the location of their mesh-file. We can map over that list and return their keys. "
   ]
  },
  {
   "cell_type": "code",
   "execution_count": null,
   "id": "4add0315-398c-44b1-aff1-bd95c59927d5",
   "metadata": {
    "tags": []
   },
   "outputs": [],
   "source": [
    "(mapcar #'first btr::*mesh-files*)"
   ]
  },
  {
   "cell_type": "markdown",
   "id": "9d93efd9-1fe5-4d32-a34b-55b9ed0e5ef8",
   "metadata": {},
   "source": [
    "After you've spawned an object, you can simulate the world to let it fall. Spawn your object higher above (increase the z-coordinate) and let it fall."
   ]
  },
  {
   "cell_type": "code",
   "execution_count": null,
   "id": "00e4f987-6f59-44da-b7b7-fc89be916e44",
   "metadata": {},
   "outputs": [],
   "source": [
    "(btr:simulate btr:*current-bullet-world* 10) ;; in seconds"
   ]
  },
  {
   "cell_type": "markdown",
   "id": "2483050a-66f6-4ff0-a467-921b68620945",
   "metadata": {},
   "source": [
    "If you want, you can do this in real time by simulating step by step. "
   ]
  },
  {
   "cell_type": "code",
   "execution_count": null,
   "id": "ee86ebea-485d-45b1-bc60-70700347959d",
   "metadata": {},
   "outputs": [],
   "source": [
    "(dotimes (i 10)\n",
    "    (sleep 0.1)\n",
    "    (btr:simulate btr:*current-bullet-world* 0.1))"
   ]
  },
  {
   "cell_type": "markdown",
   "id": "49e1e9b5-fee6-4bd3-b9fb-25883d4710e8",
   "metadata": {},
   "source": [
    "And to make it look fancy, define a function for that."
   ]
  },
  {
   "cell_type": "code",
   "execution_count": null,
   "id": "45ab3a90-81de-4197-b602-1679f45f643e",
   "metadata": {},
   "outputs": [],
   "source": [
    "(defun simulate (&key (duration 5.0)    ;; in seconds \n",
    "                      (framerate 20.0)) ;; in Hz\n",
    "    (let ((sleep-interval (/ 1.0 framerate))\n",
    "          (times (floor (* duration framerate))))\n",
    "         (dotimes (_ times)\n",
    "             (sleep (/ sleep-interval 2))\n",
    "             (btr:simulate btr:*current-bullet-world* (/ sleep-interval 2)))))"
   ]
  },
  {
   "cell_type": "code",
   "execution_count": null,
   "id": "abc00e3f-1929-487a-bd2d-f94e21a03543",
   "metadata": {},
   "outputs": [],
   "source": [
    "(simulate)"
   ]
  },
  {
   "cell_type": "code",
   "execution_count": null,
   "id": "a6c54252-a4d9-4f5c-9552-55f7bae86596",
   "metadata": {},
   "outputs": [],
   "source": [
    "(simulate :duration 2)"
   ]
  },
  {
   "cell_type": "code",
   "execution_count": null,
   "id": "9ff00694-6354-4906-8e93-a8c594778dd3",
   "metadata": {},
   "outputs": [],
   "source": [
    "(simulate :framerate 5)"
   ]
  },
  {
   "cell_type": "code",
   "execution_count": null,
   "id": "a33894fe-6d82-4f68-9597-93d4b80cd875",
   "metadata": {},
   "outputs": [],
   "source": [
    "(simulate :duration 1 :framerate 10)"
   ]
  },
  {
   "cell_type": "markdown",
   "id": "a46c8215-40fb-40bf-80e3-7655535f9de3",
   "metadata": {},
   "source": [
    "I know what you're thinking. Here's how to make it rain."
   ]
  },
  {
   "cell_type": "code",
   "execution_count": null,
   "id": "70db1dca-52dc-4ae9-8a8f-5829cd389575",
   "metadata": {
    "tags": []
   },
   "outputs": [],
   "source": [
    "(let ((number-of-objects 20)\n",
    "      (x-y-scatter-factor 0.8)\n",
    "      (z-scatter-factor 0.5)\n",
    "      (z-offset 2.0))\n",
    "     (loop for n in (alexandria:iota number-of-objects)\n",
    "           for object-name = (make-symbol (concatenate 'string \"OBJECT-\" (format NIL \"~a\" n)))\n",
    "           for object-type = (nth (random (length btr::*mesh-files*)) (mapcar #'first btr::*mesh-files*))\n",
    "           for x = (* (- (random 1.0) 0.5) x-y-scatter-factor)\n",
    "           for y = (* (- (random 1.0) 0.5) x-y-scatter-factor)\n",
    "           for z = (+ (* (random 1.0) z-scatter-factor) z-offset)\n",
    "           do (btr-utils:spawn-object object-name object-type :pose `((,x ,y ,z) (0 0 0 1)))))"
   ]
  },
  {
   "cell_type": "code",
   "execution_count": null,
   "id": "00acbc5e-0206-49fd-88a7-2616b94d0c7d",
   "metadata": {},
   "outputs": [],
   "source": [
    "(simulate)"
   ]
  },
  {
   "cell_type": "code",
   "execution_count": null,
   "id": "b9cc1eb1-5674-4101-b294-e7595ec8e43b",
   "metadata": {},
   "outputs": [],
   "source": [
    "(btr-utils:kill-all-objects)"
   ]
  },
  {
   "cell_type": "code",
   "execution_count": null,
   "id": "172baa1a-8bc3-4df1-b930-599b9b8348da",
   "metadata": {
    "tags": []
   },
   "outputs": [],
   "source": [
    "(roslisp-utilities:startup-ros) ;; you're welcome"
   ]
  },
  {
   "cell_type": "markdown",
   "id": "a1262eb5-1dfe-4fa5-8010-e581e48a803b",
   "metadata": {},
   "source": [
    "## Moving Around\n",
    "\n",
    "Moving the robot is done by performing an action of type `going`. You can move the robot off the ground, but that seems unreasonable. The `going` action is very forgiving in that regard. Feel free to move the robot around. It will throw a `low-level-failure` if your taget pose would make the robot collide with the environment."
   ]
  },
  {
   "cell_type": "code",
   "execution_count": null,
   "id": "6de4ca3b-0c62-4a61-84dc-33c5e6c29c49",
   "metadata": {},
   "outputs": [],
   "source": [
    "(urdf-proj:with-simulated-robot\n",
    "  (let ((?navigation-goal (make-pose \"map\" '(0.0 1.0 0.0) '(0.0 0.0 (* pi 0.0)))))\n",
    "    (perform (an action\n",
    "                 (type going)\n",
    "                 (target (a location \n",
    "                            (pose ?navigation-goal)))))))"
   ]
  },
  {
   "cell_type": "markdown",
   "id": "05cb8acf-6c90-4dfb-8936-10d33e840265",
   "metadata": {},
   "source": [
    "The robot will operate on the table to the right. Here is his base position."
   ]
  },
  {
   "cell_type": "code",
   "execution_count": null,
   "id": "20b63db3-e46d-49ed-b507-0e1d365e716e",
   "metadata": {
    "tags": []
   },
   "outputs": [],
   "source": [
    "(defparameter *base-pose-near-table*\n",
    "  (make-pose \"map\" '(-2.2d0 -0.20d0 0.0d0) '(0.0d0 0.0d0 (* pi -0.5))))"
   ]
  },
  {
   "cell_type": "code",
   "execution_count": null,
   "id": "7caad455-395b-4c08-91cf-dfc89e1a6e67",
   "metadata": {},
   "outputs": [],
   "source": [
    "(urdf-proj:with-simulated-robot\n",
    "  (let ((?navigation-goal *base-pose-near-table*))\n",
    "     (perform (an action\n",
    "                  (type going)\n",
    "                  (target (a location \n",
    "                             (pose ?navigation-goal)))))))"
   ]
  },
  {
   "cell_type": "markdown",
   "id": "e6cc312d-cd56-489c-ba79-668518b96169",
   "metadata": {},
   "source": [
    "Besides moving, the robots motors can be also moved. To move the torso up and down, we can use a motion instead of an action. Motions are atomic actions wihtout much logic. They are the most low-level plans, communicating directly with the process-modules."
   ]
  },
  {
   "cell_type": "code",
   "execution_count": null,
   "id": "fedc5992-d049-4cff-b386-e79175fbe200",
   "metadata": {},
   "outputs": [],
   "source": [
    "(urdf-proj:with-simulated-robot\n",
    " (perform (a motion\n",
    "             (type moving-torso)\n",
    "             (joint-angle 0.3))))"
   ]
  },
  {
   "cell_type": "markdown",
   "id": "3efeaecb-dbb1-4e8b-860c-3a57f8efc9e2",
   "metadata": {},
   "source": [
    "Also the arms can be moved into standard positions, e.g. to move safely or to kep them out of the cameras field of view."
   ]
  },
  {
   "cell_type": "code",
   "execution_count": null,
   "id": "235bb03e-3e99-4287-a853-8671e8e7dec0",
   "metadata": {},
   "outputs": [],
   "source": [
    "(urdf-proj:with-simulated-robot\n",
    " (perform (an action\n",
    "              (type positioning-arm)\n",
    "              (left-configuration tucked)\n",
    "              (right-configuration tucked))))"
   ]
  },
  {
   "cell_type": "code",
   "execution_count": null,
   "id": "5a2b979f-8684-482d-817a-4aae41812c81",
   "metadata": {},
   "outputs": [],
   "source": [
    "(urdf-proj:with-simulated-robot\n",
    " (perform (an action\n",
    "              (type positioning-arm)\n",
    "              (left-configuration park)\n",
    "              (right-configuration park))))"
   ]
  },
  {
   "cell_type": "markdown",
   "id": "4ad0d73c-a1f7-44de-8b89-55924a206f7b",
   "metadata": {},
   "source": [
    "Altogether the robot can move its base, torso and arms all at once. This is done by wrapping all three action into `cpl:par`, which is a mechanism of CRAM that allows actions to be executed in parallel. I actions need to be explicitly executed in sequence, this can be expressed with `cpl:seq`. The following block executes the previous action in parallel."
   ]
  },
  {
   "cell_type": "code",
   "execution_count": null,
   "id": "5e09464a-9732-44a1-b419-39d3ecff859f",
   "metadata": {},
   "outputs": [],
   "source": [
    "(urdf-proj:with-simulated-robot\n",
    " (let ((?navigation-goal *base-pose-near-table*))\n",
    "      (cpl:par\n",
    "       ;; Move the robot near the table.\n",
    "       (perform (an action\n",
    "                    (type going)\n",
    "                    (target (a location\n",
    "                               (pose ?navigation-goal)))))\n",
    "       ;; Increasing the height of the torso by setting the joint angle to 0.3 meters\n",
    "       (perform (a motion\n",
    "                   (type moving-torso)\n",
    "                   (joint-angle 0.3)))\n",
    "       ;; This is a shorthand for bringing both arms into the park configuration\n",
    "       (perform (an action\n",
    "                    (type parking-arms)))))) "
   ]
  },
  {
   "cell_type": "markdown",
   "id": "813affd3-c10d-48f1-a26c-b12d1b43744d",
   "metadata": {},
   "source": [
    "## Perceiving Objects\n",
    "Perceiving is also done via action designators. The action of type `detecting` is the one from lesson 2. Let's get out bottle back first."
   ]
  },
  {
   "cell_type": "code",
   "execution_count": null,
   "id": "9e0ff265-cff7-4e12-a103-b17de2a7092b",
   "metadata": {},
   "outputs": [],
   "source": [
    "(btr-utils:spawn-object 'bottle-1 :bottle :pose (make-pose \"map\" '(-2.323 -1 0.82) '(0 0 0)))"
   ]
  },
  {
   "cell_type": "markdown",
   "id": "1c75c293-6314-466e-97ba-69f884a1217d",
   "metadata": {},
   "source": [
    "To perceive something, the robot needs to look at the point of interest. We define ourselves a pose. Notice that the coordinate frame has `base_footprint` as reference, which is the frame of the robots base. Like that, the pose is realtive to the position of the robot, instead of the world."
   ]
  },
  {
   "cell_type": "code",
   "execution_count": null,
   "id": "13cd4608-283c-4b8e-aa4c-9efec1bdc395",
   "metadata": {},
   "outputs": [],
   "source": [
    "(defparameter *downward-look-coordinate*\n",
    " (make-pose \"base_footprint\" '(0.7 0.0 1.0) '(0 0 0)))"
   ]
  },
  {
   "cell_type": "markdown",
   "id": "a8de1489-cf05-4ea6-be86-937bb968648c",
   "metadata": {},
   "source": [
    "To look at that pose, we use the `looking` action."
   ]
  },
  {
   "cell_type": "code",
   "execution_count": null,
   "id": "060a3b51-4b00-4a26-a1e4-c7719522dddc",
   "metadata": {},
   "outputs": [],
   "source": [
    "(urdf-proj:with-simulated-robot\n",
    "  (let ((?looking-direction *downward-look-coordinate*))\n",
    "    (perform (an action\n",
    "                 (type looking)\n",
    "                 (target (a location \n",
    "                            (pose ?looking-direction)))))))"
   ]
  },
  {
   "cell_type": "markdown",
   "id": "090911c5-c595-4f55-be99-f379c5ebb472",
   "metadata": {},
   "source": [
    "Now that we roughly look down onto the table where the bottle stands, we can perceive the bottle with the `detecting` action. "
   ]
  },
  {
   "cell_type": "code",
   "execution_count": null,
   "id": "5fe9aeab-8f5b-45c9-9318-b46bdf4ce14d",
   "metadata": {
    "tags": []
   },
   "outputs": [],
   "source": [
    "(urdf-proj:with-simulated-robot\n",
    "    (perform (an action\n",
    "                 (type detecting)\n",
    "                 (object (an object\n",
    "                             (type bottle)))))))"
   ]
  },
  {
   "cell_type": "markdown",
   "id": "0d884280-77fe-420e-b021-2e01812fe152",
   "metadata": {},
   "source": [
    "The object is found, let's pick it up."
   ]
  },
  {
   "cell_type": "markdown",
   "id": "279d7110-3082-4d3a-8a18-d88e52e1e38c",
   "metadata": {},
   "source": [
    "## Picking up objects\n",
    "The action we need is `picking-up`. One of its parameters is the perceived bottle. Make sure that the robot is still facing the bottle."
   ]
  },
  {
   "cell_type": "code",
   "execution_count": null,
   "id": "3ea8468d-e6dc-4a63-83a9-a9900d91f3fa",
   "metadata": {},
   "outputs": [],
   "source": [
    "(urdf-proj:with-simulated-robot \n",
    " (let ((?perceived-bottle (perform (an action\n",
    "                                       (type detecting)\n",
    "                                       (object (an object\n",
    "                                                   (type bottle)))))))\n",
    "      (perform (an action\n",
    "                   (type picking-up)\n",
    "                   (arm (right))\n",
    "                   (object ?perceived-bottle)))))"
   ]
  },
  {
   "cell_type": "markdown",
   "id": "11060ee0-682e-40c0-aebe-cbbaa63f988f",
   "metadata": {},
   "source": [
    "And afterwards the robot needs to go back to its parking position."
   ]
  },
  {
   "cell_type": "code",
   "execution_count": null,
   "id": "e7152107-4684-4a41-8dc1-b659a1c18776",
   "metadata": {},
   "outputs": [],
   "source": [
    "(urdf-proj:with-simulated-robot \n",
    " (exe:perform\n",
    "  (desig:an action\n",
    "            (type parking-arms))))"
   ]
  },
  {
   "cell_type": "markdown",
   "id": "9028907c-e2a5-493b-ab7b-aed25fc8f410",
   "metadata": {},
   "source": [
    "## Placing Objects\n",
    "\n",
    "To place the object currently grasped, we need a pose where the robot should stand, and a target location for the object."
   ]
  },
  {
   "cell_type": "code",
   "execution_count": null,
   "id": "c4afc418-f1e3-4d4b-bc6b-a3ec8ea34b86",
   "metadata": {},
   "outputs": [],
   "source": [
    "(defparameter *object-delivery-pose*\n",
    "  (make-pose \"map\" '(-0.8 2 0.9) '(0 0 0)))\n",
    " \n",
    "(defparameter *base-pose-near-kitchen-island*\n",
    "  (make-pose \"map\" '(-0.15 2.0 0.0) '(0.0 0.0 pi)))"
   ]
  },
  {
   "cell_type": "markdown",
   "id": "b3e8e6ba-ac4a-4107-8072-16bae70cfac5",
   "metadata": {},
   "source": [
    "While the bottle is in the gripper, move the robot over to the pose in front of the kitchen island."
   ]
  },
  {
   "cell_type": "code",
   "execution_count": null,
   "id": "47cf4120-785a-4c44-b890-32e244e01442",
   "metadata": {},
   "outputs": [],
   "source": [
    "(urdf-proj:with-simulated-robot\n",
    " (let ((?delivery-base-pose *base-pose-near-kitchen-island*))\n",
    "      (perform (an action\n",
    "                   (type going)\n",
    "                   (target (a location\n",
    "                              (pose ?delivery-base-pose)))))))"
   ]
  },
  {
   "cell_type": "markdown",
   "id": "4d841549-5b25-44ef-9607-22d12407acb4",
   "metadata": {},
   "source": [
    "Then call the `placing` action. "
   ]
  },
  {
   "cell_type": "code",
   "execution_count": null,
   "id": "e265bb0a-6b46-486c-99b2-d2b9115a7c6e",
   "metadata": {},
   "outputs": [],
   "source": [
    "(urdf-proj:with-simulated-robot\n",
    " (let ((?object-delivery-pose *object-delivery-pose*))\n",
    "      (perform (an action\n",
    "                   (type placing)\n",
    "                   (target (a location\n",
    "                              (pose ?object-delivery-pose)))))))"
   ]
  },
  {
   "cell_type": "markdown",
   "id": "ac53057c-778f-4b26-b05c-6cb2482caa13",
   "metadata": {},
   "source": [
    "Notice that the action doesn't need to be told which arm to use, or what kind of object he is holding. These are optional parameters that can be inferred from the current world state. The robot knows what object he is holding, and also in which hand he does.\n",
    "\n",
    "When we bring it all together, pick and place, the whole procedure can look like this."
   ]
  },
  {
   "cell_type": "code",
   "execution_count": null,
   "id": "ef05e5a0-2a06-4e56-ba58-804a489ecc42",
   "metadata": {},
   "outputs": [],
   "source": [
    ";; Reset the world\n",
    "(demo::initialize)\n",
    "\n",
    ";; Have all parameters we need in one place.\n",
    "(defparameter *bottle-spawn-pose* (make-pose \"map\" '(-2.323 -1 0.82) '(0 0 0)))\n",
    "(defparameter *base-pose-near-table* (make-pose \"map\" '(-2.2 -0.2 0.0) '(0.0 0.0 (* pi -0.5))))\n",
    "(defparameter *downward-look-coordinate* (make-pose \"base_footprint\" '(0.7 0.0 1.0) '(0 0 0)))\n",
    "(defparameter *object-delivery-pose* (make-pose \"map\" '(-0.8 2 0.9) '(0 0 0)))\n",
    "(defparameter *base-pose-near-kitchen-island* (make-pose \"map\" '(-0.15 2.0 0.0) '(0.0 0.0 pi)))\n",
    "\n",
    ";; Spawn the bottle\n",
    "(btr-utils:spawn-object 'bottle-1 :bottle :pose *bottle-spawn-pose*)\n",
    "\n",
    "(urdf-proj:with-simulated-robot\n",
    " ;; Go to the table with the bottle\n",
    " (let ((?navigation-goal *base-pose-near-table*))\n",
    "      (perform (an action\n",
    "                 (type going)\n",
    "                 (target (a location \n",
    "                            (pose ?navigation-goal))))))\n",
    " ;; Look down at the bottle\n",
    " (let ((?looking-direction *downward-look-coordinate*))\n",
    "      (perform (an action\n",
    "                   (type looking)\n",
    "                   (target (a location \n",
    "                              (pose ?looking-direction))))))\n",
    " ;; Detect the bottle and keep the object designator in ?perceived-bottle\n",
    " ;; so we can use it later\n",
    " (let ((?nav-goal *base-pose-near-kitchen-island*)\n",
    "       (?drop-pose *object-delivery-pose*)\n",
    "       (?perceived-bottle (perform (an action\n",
    "                                       (type detecting)\n",
    "                                       (object (an object\n",
    "                                                   (type bottle)))))))\n",
    "      ;; Pick up the detected bottle\n",
    "      (perform (an action\n",
    "                   (type picking-up)\n",
    "                   (arm (right))\n",
    "                   (object ?perceived-bottle)))\n",
    "      ;; Park arms\n",
    "      (perform (an action\n",
    "                   (type parking-arms)))\n",
    "      ;; Move the torso up so the robot can reach the higher surface better\n",
    "      ;; without crashing his arms into it.\n",
    "      (perform (a motion \n",
    "                  (type moving-torso)\n",
    "                  (joint-angle 0.3)))\n",
    "      ;; Go to the target delivery location\n",
    "      (perform (an action\n",
    "                   (type going)\n",
    "                   (target (a location\n",
    "                              (pose ?nav-goal)))))\n",
    "      ;; Place down the bottle\n",
    "      (perform (an action\n",
    "                   (type placing)\n",
    "                   (arm (right))\n",
    "                   ;; here we explicitly specify to put down the bottle\n",
    "                   (object ?perceived-bottle) \n",
    "                   (target (a location\n",
    "                              (pose ?drop-pose)))))))"
   ]
  },
  {
   "cell_type": "markdown",
   "id": "83cd9129-7aad-4a1e-af9a-b2aef21cc963",
   "metadata": {},
   "source": [
    "## The stage is yours\n",
    "\n",
    "Now you know how to pick and place objects. Are ready to write your own plan?\n",
    "\n",
    "### Task: Switch the position of 2 objects\n",
    "\n",
    "Spawn two bottles on two different surfaces in the kitchen. The robot is able two carry two objects if you don't specify which arm to use in the `picking-up` action. Also `placing` doesn't need any arm specified, but you can specify th object designator, if you keep track of it, like in the complete pick-place plan above. Find suitable poses for the objects and the robot. Visualize, move, look and try things out. You can always reset the Bullet World with"
   ]
  },
  {
   "cell_type": "code",
   "execution_count": null,
   "id": "36634eb3-595d-4109-8ccd-a3652426acc1",
   "metadata": {},
   "outputs": [],
   "source": [
    "(roslisp-utilities:startup-ros)   ;; when Bullet hangs up, use this, it's the hardest reset except for restarting Docker\n",
    "(demo::initialize)                ;; initializes the robot, environment and objects\n",
    "(btr-utils:kill-all-objects)      ;; removes all objects\n",
    "(btr-utils:kill-object 'bottle-1) ;; removes the 'bottle-1 object"
   ]
  },
  {
   "cell_type": "code",
   "execution_count": null,
   "id": "eb8e1c2d-7711-40c5-af30-a417fdcfda02",
   "metadata": {
    "tags": []
   },
   "outputs": [],
   "source": [
    "(let ((the-hacking \"begin\"))\n",
    "     )"
   ]
  },
  {
   "cell_type": "code",
   "execution_count": null,
   "id": "39e63184-6905-4331-9c35-6386d3021be3",
   "metadata": {},
   "outputs": [],
   "source": []
  },
  {
   "cell_type": "code",
   "execution_count": null,
   "id": "ea2b8953-74e9-4b91-99bc-ef36199c2b0c",
   "metadata": {},
   "outputs": [],
   "source": []
  },
  {
   "cell_type": "code",
   "execution_count": null,
   "id": "959e6608-f36f-4ba6-831c-8794eec34dbf",
   "metadata": {},
   "outputs": [],
   "source": []
  },
  {
   "cell_type": "code",
   "execution_count": null,
   "id": "5c8e08cc-9585-4665-9af6-ad388de8e536",
   "metadata": {},
   "outputs": [],
   "source": []
  }
 ],
 "metadata": {
  "kernelspec": {
   "display_name": "Common Lisp",
   "language": "common-lisp",
   "name": "common-lisp"
  },
  "language_info": {
   "codemirror_mode": "text/x-common-lisp",
   "file_extension": ".lisp",
   "mimetype": "text/x-common-lisp",
   "name": "common-lisp",
   "pygments_lexer": "common-lisp",
   "version": "2.0.1.debian"
  }
 },
 "nbformat": 4,
 "nbformat_minor": 5
}
