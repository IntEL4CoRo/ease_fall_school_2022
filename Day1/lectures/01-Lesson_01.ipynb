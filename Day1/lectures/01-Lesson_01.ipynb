{
 "cells": [
  {
   "cell_type": "markdown",
   "id": "5ce45e0f-52e5-437a-8be9-a974c6b163c8",
   "metadata": {},
   "source": [
    "# Lesson 01\n",
    "\n",
    "Do the technical setup first."
   ]
  },
  {
   "cell_type": "markdown",
   "id": "28713f35-026c-4ae4-bc9d-971c873ce9c0",
   "metadata": {},
   "source": [
    "## About Common-Lisp\n",
    "\n",
    "hello-world, polish syntax, conditionals, local variables"
   ]
  },
  {
   "cell_type": "code",
   "execution_count": null,
   "id": "9d89ef54-45cc-4b8a-b90f-5b20872d1ada",
   "metadata": {},
   "outputs": [],
   "source": [
    "(print \"Hello World\")"
   ]
  },
  {
   "cell_type": "markdown",
   "id": "6c77e44b-8a55-4882-ba13-86275964de07",
   "metadata": {},
   "source": [
    "## Loading the package\n",
    "\n",
    "`ros-load:load-system` loads an ASDF (Another System Definition Facility) syste, from within a Catkin package."
   ]
  },
  {
   "cell_type": "code",
   "execution_count": null,
   "id": "5584b0a6-50dc-47f7-8f00-6c70536151c0",
   "metadata": {
    "tags": []
   },
   "outputs": [],
   "source": [
    "(ros-load:load-system \"cram_pr2_pick_place_demo\" :cram-pr2-pick-place-demo)"
   ]
  },
  {
   "cell_type": "code",
   "execution_count": null,
   "id": "6d1e5f6f-dccb-4529-a9de-a7f5d4d4a085",
   "metadata": {},
   "outputs": [],
   "source": [
    "(in-package :demo)"
   ]
  },
  {
   "cell_type": "markdown",
   "id": "9c04b3df-c232-46e8-b198-632ff19e0cb3",
   "metadata": {},
   "source": [
    "Now to launch a simulation with a kitchen environment and our robot, type the following command into your Lisp command line:"
   ]
  },
  {
   "cell_type": "code",
   "execution_count": null,
   "id": "88f0f2d4-0262-4352-b63d-31fc4e6d868c",
   "metadata": {},
   "outputs": [],
   "source": [
    "(roslisp-utilities:startup-ros)"
   ]
  },
  {
   "cell_type": "code",
   "execution_count": null,
   "id": "0e264a08-50ef-4d2c-ae87-5e830da9e81f",
   "metadata": {},
   "outputs": [],
   "source": [
    "(btr-utils:reset-debug-window)"
   ]
  }
 ],
 "metadata": {
  "kernelspec": {
   "display_name": "Common Lisp",
   "language": "common-lisp",
   "name": "common-lisp"
  },
  "language_info": {
   "codemirror_mode": "text/x-common-lisp",
   "file_extension": ".lisp",
   "mimetype": "text/x-common-lisp",
   "name": "common-lisp",
   "pygments_lexer": "common-lisp",
   "version": "2.0.1.debian"
  }
 },
 "nbformat": 4,
 "nbformat_minor": 5
}
