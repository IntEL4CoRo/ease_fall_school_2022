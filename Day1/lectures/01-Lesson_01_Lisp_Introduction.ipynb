{
 "cells": [
  {
   "cell_type": "markdown",
   "id": "5ce45e0f-52e5-437a-8be9-a974c6b163c8",
   "metadata": {},
   "source": [
    "# Lesson 01\n",
    "\n",
    "Do the technical setup first."
   ]
  },
  {
   "cell_type": "markdown",
   "id": "28713f35-026c-4ae4-bc9d-971c873ce9c0",
   "metadata": {},
   "source": [
    "## About Common-Lisp\n",
    "\n",
    "hello-world, polish syntax, conditionals, local variables"
   ]
  },
  {
   "cell_type": "code",
   "execution_count": null,
   "id": "9d89ef54-45cc-4b8a-b90f-5b20872d1ada",
   "metadata": {},
   "outputs": [],
   "source": [
    "(print \"Hello World\")"
   ]
  }
 ],
 "metadata": {
  "kernelspec": {
   "display_name": "Common Lisp",
   "language": "common-lisp",
   "name": "common-lisp"
  },
  "language_info": {
   "codemirror_mode": "text/x-common-lisp",
   "file_extension": ".lisp",
   "mimetype": "text/x-common-lisp",
   "name": "common-lisp",
   "pygments_lexer": "common-lisp",
   "version": "2.0.1.debian"
  }
 },
 "nbformat": 4,
 "nbformat_minor": 5
}
