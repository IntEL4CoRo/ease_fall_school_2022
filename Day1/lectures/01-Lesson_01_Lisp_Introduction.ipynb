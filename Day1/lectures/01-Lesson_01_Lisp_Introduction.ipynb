{
 "cells": [
  {
   "cell_type": "markdown",
   "id": "5ce45e0f-52e5-437a-8be9-a974c6b163c8",
   "metadata": {},
   "source": [
    "# Lesson 01 - Introduction to Lisp\n",
    "\n",
    "This lesson will introduce you to the magnificent capabilities of one of the oldest and most powerful languages there are. Lisp stands for LISt Processing, and it's really all there is in Lisp. Everything is a list. And we need lots of brackets to express them.\n",
    "\n",
    "All of the following code can be executed without the technical setup from lesson 0. If you can run the Jupyter Notebook, the Common-Lisp kernel is running well."
   ]
  },
  {
   "cell_type": "markdown",
   "id": "28713f35-026c-4ae4-bc9d-971c873ce9c0",
   "metadata": {},
   "source": [
    "## Printing\n",
    "\n",
    "As seen in lesson 0, Hello-World for Lisp is just this:"
   ]
  },
  {
   "cell_type": "code",
   "execution_count": null,
   "id": "226fd4ee-6d35-498c-b72f-4d0a72096402",
   "metadata": {},
   "outputs": [],
   "source": [
    "\"Hello World!\""
   ]
  },
  {
   "cell_type": "markdown",
   "id": "8b670c4d-035f-4ebd-80fd-9d6f9f4628de",
   "metadata": {},
   "source": [
    "But there are more elegant ways to do printing and formatting in Lisp, for example the standard print function, which prompts any object into its printable version, then returns the value of its argument."
   ]
  },
  {
   "cell_type": "code",
   "execution_count": null,
   "id": "9d89ef54-45cc-4b8a-b90f-5b20872d1ada",
   "metadata": {},
   "outputs": [],
   "source": [
    "(print \"Hello World\")"
   ]
  },
  {
   "cell_type": "markdown",
   "id": "a2d2cc09-9672-4b6f-be57-8254bfcb5ff8",
   "metadata": {},
   "source": [
    "To construct a string, there is `format`, which has an option to return the String or just print it. This option only prints"
   ]
  },
  {
   "cell_type": "code",
   "execution_count": null,
   "id": "d5a9e9fd-0895-4307-bc4c-0693dd8b606c",
   "metadata": {},
   "outputs": [],
   "source": [
    "(format T \"I say ~a to the ~a at least ~a times a day!\" \"Hello\" \"World\" 3)"
   ]
  },
  {
   "cell_type": "markdown",
   "id": "9e3b74b2-f87d-44e2-829d-fcd15234f0ca",
   "metadata": {},
   "source": [
    "While this one constructs the String and returns its value"
   ]
  },
  {
   "cell_type": "code",
   "execution_count": null,
   "id": "6a27f7dd-b66e-4388-9acf-beba86133956",
   "metadata": {},
   "outputs": [],
   "source": [
    "(format NIL \"I say ~a to the ~a at least ~a times a day!\" \"Hello\" \"World\" 3)"
   ]
  },
  {
   "cell_type": "markdown",
   "id": "1f76438e-ccc3-4fb9-b8de-c70bc79a2917",
   "metadata": {},
   "source": [
    "## Polish notation, true and false\n",
    "\n",
    "While it's usual to express arithmetics like `1 + 2`, Lisp uses polish notation, meaning, the operator `+` comes left of the operands `1` and `2`\n"
   ]
  },
  {
   "cell_type": "code",
   "execution_count": null,
   "id": "fa40ea2c-2154-430f-8c42-9bbb1b825daa",
   "metadata": {},
   "outputs": [],
   "source": [
    "(* (+ 1 2) 4)"
   ]
  },
  {
   "cell_type": "markdown",
   "id": "72cf68ac-cd53-4df3-a37f-d191dcbd1c31",
   "metadata": {},
   "source": [
    "In Lisp there is `T` for true, and `NIL` for false. Let's introduce some conditional handlers here."
   ]
  },
  {
   "cell_type": "code",
   "execution_count": null,
   "id": "9b80728c-24fc-43b7-a362-82fe46760f8a",
   "metadata": {},
   "outputs": [],
   "source": [
    "(when (eq (* (+ 1 2) 4) 12)\n",
    "    \"eq checks for identity of atomic values, like numbers.\")"
   ]
  },
  {
   "cell_type": "code",
   "execution_count": null,
   "id": "dad83a4f-f5f0-4a15-8eee-6a34c7ac9efe",
   "metadata": {},
   "outputs": [],
   "source": [
    "(when (eq \"Hi\" \"Hi\")\n",
    "    \"eq is very restrictive in it's comparison. unreachable code here.\")"
   ]
  },
  {
   "cell_type": "code",
   "execution_count": null,
   "id": "a066a62f-6b69-4c17-99ad-cfa96e22920d",
   "metadata": {},
   "outputs": [],
   "source": [
    "(when (string= \"Hi\" \"Hi\")\n",
    "    \"string= can handle String comparison\"))"
   ]
  },
  {
   "cell_type": "code",
   "execution_count": null,
   "id": "ffbb8f5e-f39d-40f6-b7ab-953596b56837",
   "metadata": {},
   "outputs": [],
   "source": [
    "(if (eq \"Hi\" \"Hi\")\n",
    "    \"true-case is unreachable\"\n",
    "    \"false-case it is\")"
   ]
  },
  {
   "cell_type": "code",
   "execution_count": null,
   "id": "874360a9-bb08-4e91-a960-89550e412e50",
   "metadata": {},
   "outputs": [],
   "source": [
    "(unless (eq \"Hi\" \"Hi\")\n",
    "    \"unless is the inverse of when\")"
   ]
  },
  {
   "cell_type": "markdown",
   "id": "dcb718ad-51fb-4542-92d9-d7b2993406d0",
   "metadata": {},
   "source": [
    "## Local variables and lists\n",
    "\n",
    "In Lisp, everything is True unless it's explicitly not. All values inherit from T. Here we create some local variables and play around with them. Creating local variables is done with the `let` scope."
   ]
  },
  {
   "cell_type": "code",
   "execution_count": null,
   "id": "e6dca23b-d999-47c4-9143-9a9d1c303585",
   "metadata": {},
   "outputs": [],
   "source": [
    "(let ((variable-1 \"some string\")\n",
    "      (variable-2 '(a list of some symbols)))\n",
    "     (print variable-1)\n",
    "     (print variable-2))"
   ]
  },
  {
   "cell_type": "markdown",
   "id": "95c6db6d-0891-4ce6-815d-d5dbc5f7776e",
   "metadata": {},
   "source": [
    "It first returns the last value of the scope, then prints the first and second variable from the scope. If we try to access them now it tells us, that the variable is unbound."
   ]
  },
  {
   "cell_type": "code",
   "execution_count": null,
   "id": "e04a5616-7e39-4e6b-ae13-7c4e5c165129",
   "metadata": {
    "tags": []
   },
   "outputs": [],
   "source": [
    "variable-1 ;; will throw error"
   ]
  },
  {
   "cell_type": "markdown",
   "id": "43b5e990-80fd-4ee3-af2d-aa7fae994a72",
   "metadata": {},
   "source": [
    "That list of symbols form the let-scope has got no proper syntax, it's an un-evaluated collection of plain symbols, without any given meaning yet. We can give them meaning though, by picking them out of the list."
   ]
  },
  {
   "cell_type": "code",
   "execution_count": null,
   "id": "0d9ee8e9-2a1f-466d-885c-210f1c5ad2ca",
   "metadata": {},
   "outputs": [],
   "source": [
    "(let ((nonsense-list '(123 ASDF \"cheese\" () NIL '(NIL))))\n",
    "     (print (car nonsense-list))            ;; takes the head of the list\n",
    "     (print (cdr nonsense-list))            ;; gives the tail of the list\n",
    "     (print (cadr nonsense-list))           ;; car and cdr can be concatenated\n",
    "     (print (fourth nonsense-list))         ;; there are first, second, third, fourth etc. for more readable expressions\n",
    "     (print (nth 4 nonsense-list))          ;; picks the value at position 4 (starting at 0)\n",
    "     (print (car (reverse nonsense-list)))  ;; the usual way for picking the last value\n",
    "     \n",
    "     (format NIL \"~{~a~^, ~}\" nonsense-list)) ;; that piece is an iteration macro to parse the given list."
   ]
  },
  {
   "cell_type": "markdown",
   "id": "ef204cf5-98b4-4dcd-8e89-f1040c404db4",
   "metadata": {},
   "source": [
    "The fourth value is an empty list and is interpreted into NIL."
   ]
  },
  {
   "cell_type": "code",
   "execution_count": null,
   "id": "426f68c6-831d-45b9-b7c5-9c1ba8847ddd",
   "metadata": {},
   "outputs": [],
   "source": [
    "(if '()\n",
    "    \"an empty list is T\"\n",
    "    \"an empty list is NIL\")"
   ]
  },
  {
   "cell_type": "code",
   "execution_count": null,
   "id": "cd62ea51-533f-458f-9b4b-49e3e3a27ef2",
   "metadata": {},
   "outputs": [],
   "source": [
    "(when '(NIL)\n",
    "    \"a list containing any value is T\")"
   ]
  },
  {
   "cell_type": "code",
   "execution_count": null,
   "id": "ca0b55b3-afb5-429b-932b-ea9ab3ec6bdf",
   "metadata": {},
   "outputs": [],
   "source": [
    "(if 'some-symbol                ;; notice the small ' in front of some-symbol, which prevents some-symbol from being evaluated.\n",
    "    \"unbound symbols are T\"\n",
    "    \"unbound symbols are NIL\")"
   ]
  },
  {
   "cell_type": "code",
   "execution_count": null,
   "id": "451e8e1b-12d0-49e1-87d9-3b29b41d8538",
   "metadata": {},
   "outputs": [],
   "source": [
    "(let ((some-symbol NIL)) ;; we give the symbol the value NIL\n",
    "     (if some-symbol     ;; and we use the symbol's value\n",
    "         \"some-symbol value is T\"\n",
    "         \"some-symbol value is NIL\"))"
   ]
  },
  {
   "cell_type": "code",
   "execution_count": null,
   "id": "ad0188d6-ee0c-49f8-b8bb-e6338f304bc8",
   "metadata": {},
   "outputs": [],
   "source": [
    "(let ((some-symbol \"Any string is not NIL\")) ;; we give the symbol a string as a value\n",
    "     (if some-symbol\n",
    "         \"some-symbol value is T\"\n",
    "         \"some-symbol value is NIL\"))"
   ]
  },
  {
   "cell_type": "code",
   "execution_count": null,
   "id": "8fd1d548-74e7-4d1e-aebd-c7111e7ec5f0",
   "metadata": {
    "tags": []
   },
   "outputs": [],
   "source": [
    ";; this will yield an error\n",
    "(when some-symbol       ;; some-symbol is still not defined globally, and without the ' it wants to be evaluated\n",
    "    \"unreachable code\")"
   ]
  },
  {
   "cell_type": "markdown",
   "id": "ea9169e7-e185-4801-9abe-22158215cb41",
   "metadata": {},
   "source": [
    " ## Functions and global parameters\n",
    " \n",
    " Functions are defined with `defun`, parameters with `defparameter`. Functions are called within brackets, with the function name first, then the arguments. Parameters and symbols in general can be called as they are, without any brackets. As in all programming languages it is advised to keep variable within a reasonable scope. Only globally necessary values should be stored as parameters. Global parameter names are notated within asterisks."
   ]
  },
  {
   "cell_type": "code",
   "execution_count": null,
   "id": "ecef2c7f-c3d8-4f72-b420-825c50031172",
   "metadata": {},
   "outputs": [],
   "source": [
    "(defparameter *course-name* \"CRAM lecture\")"
   ]
  },
  {
   "cell_type": "markdown",
   "id": "9f6b8611-1dd3-4952-b6b3-ca2e0a88926a",
   "metadata": {},
   "source": [
    "These parameters can be called just like that and their value will be returned."
   ]
  },
  {
   "cell_type": "code",
   "execution_count": null,
   "id": "e80166c8-bb2c-49f6-8cda-c246a0d59780",
   "metadata": {},
   "outputs": [],
   "source": [
    "*course-name*"
   ]
  },
  {
   "cell_type": "code",
   "execution_count": null,
   "id": "699fc0f4-1a90-430d-a097-ef2a43e25c54",
   "metadata": {},
   "outputs": [],
   "source": [
    "(defun log-string (input-string)\n",
    "    (print (format NIL \"Log: ~a\" input-string)))"
   ]
  },
  {
   "cell_type": "code",
   "execution_count": null,
   "id": "26928f8d-3819-4875-9e63-998401ae1f17",
   "metadata": {},
   "outputs": [],
   "source": [
    "(log-string \"an important message\")"
   ]
  },
  {
   "cell_type": "markdown",
   "id": "aeba7919-fdc3-4520-a5d5-d9a1f88ae65e",
   "metadata": {},
   "source": [
    "Notice that there is no definition of the input type."
   ]
  },
  {
   "cell_type": "code",
   "execution_count": null,
   "id": "a154c605-b70f-4dc6-97bc-cf4301f2ec6f",
   "metadata": {},
   "outputs": [],
   "source": [
    "(log-string 1234)\n",
    "(log-string 3.14159)\n",
    "(log-string 'some-symbol)\n",
    "(log-string *course-name*)"
   ]
  },
  {
   "cell_type": "markdown",
   "id": "3436016d-43b8-4dc0-bcee-c0061aa19bc8",
   "metadata": {},
   "source": [
    "If you want, you can overwrite the previous definition of a function"
   ]
  },
  {
   "cell_type": "code",
   "execution_count": null,
   "id": "76cd30d1-75d5-44b8-818b-9ef1126ac373",
   "metadata": {},
   "outputs": [],
   "source": [
    "(defun log-string (input-string)\n",
    "    (print (format NIL \"Log for ~a: ~a.\" *course-name* input-string)))"
   ]
  },
  {
   "cell_type": "code",
   "execution_count": null,
   "id": "61924afe-5935-4897-92e2-e64e35784bc0",
   "metadata": {},
   "outputs": [],
   "source": [
    "(log-string \"a very important log\")"
   ]
  },
  {
   "cell_type": "markdown",
   "id": "dd979fc9-8aaa-488d-a52b-b5031a24f666",
   "metadata": {},
   "source": [
    "Changing the value of a parameter, a global or local one, is done with `setf`"
   ]
  },
  {
   "cell_type": "code",
   "execution_count": null,
   "id": "60db4cb4-3f70-4a2f-89f0-98a941b53b46",
   "metadata": {},
   "outputs": [],
   "source": [
    "(setf *course-name* \"EASE Fall School CRAM hands-on\")"
   ]
  },
  {
   "cell_type": "code",
   "execution_count": null,
   "id": "74840a38-af56-4b04-a65b-204ee05b1b04",
   "metadata": {},
   "outputs": [],
   "source": [
    "(log-string \"A proper message\")"
   ]
  },
  {
   "cell_type": "markdown",
   "id": "3511cdd2-7941-4959-8af2-1f381b779b60",
   "metadata": {},
   "source": [
    "## Namespaces and packages\n",
    "\n",
    "In the intro we did load the `:cram-pr2-pick-place-demo` package. Every package has its own prefix for its functions and parameters. We can call the functions of foreign packages by adding their package name (or alias) as prefix to the function or parameter."
   ]
  },
  {
   "cell_type": "code",
   "execution_count": null,
   "id": "ce815cf7-40fd-4c30-9559-8187c751aea3",
   "metadata": {},
   "outputs": [],
   "source": [
    "*package*"
   ]
  },
  {
   "cell_type": "markdown",
   "id": "0f6be309-ae91-4131-9183-b07aa9e2204e",
   "metadata": {},
   "source": [
    "The default package is `CL-USER`. Every function we define here is only available in this package."
   ]
  },
  {
   "cell_type": "code",
   "execution_count": null,
   "id": "5e396356-06c9-43dd-bf52-8393f19a8226",
   "metadata": {},
   "outputs": [],
   "source": [
    "(in-package :alexandria) ;; alexandria is a library for lots of useful functions"
   ]
  },
  {
   "cell_type": "code",
   "execution_count": null,
   "id": "a8ca7432-5b3a-492d-8812-abe03e83b866",
   "metadata": {
    "tags": []
   },
   "outputs": [],
   "source": [
    ";; will yield an error\n",
    "(log-string \"this is not defined in this package\")"
   ]
  },
  {
   "cell_type": "code",
   "execution_count": null,
   "id": "0957b5cc-3ede-4651-bef3-abdc11a0a451",
   "metadata": {},
   "outputs": [],
   "source": [
    "(in-package :cl-user)"
   ]
  },
  {
   "cell_type": "code",
   "execution_count": null,
   "id": "84ad519e-fd55-4e65-8140-41f85de3eb49",
   "metadata": {},
   "outputs": [],
   "source": [
    "(log-string \"now we're in the correct package again\")"
   ]
  },
  {
   "cell_type": "markdown",
   "id": "a1279b8b-2568-468a-8c98-ac279ee382bb",
   "metadata": {},
   "source": [
    "## Higher-order functions and the Loop macro"
   ]
  },
  {
   "cell_type": "markdown",
   "id": "e6de79d6-be66-4d8e-8321-d976a8e38da7",
   "metadata": {},
   "source": [
    "For example, Alexandria has higher-order function utilities like `curry`, which lets us define a partial function. In this case, we curry an addition `+` and define one operand to be `5`. Such that, the addition is now a unary operation instead of a binary. "
   ]
  },
  {
   "cell_type": "code",
   "execution_count": null,
   "id": "e1085aa7-f3ec-446a-a2e0-139837adff88",
   "metadata": {},
   "outputs": [],
   "source": [
    "(alexandria:curry #'+ 5)"
   ]
  },
  {
   "cell_type": "markdown",
   "id": "8d76d5e8-b64f-45d9-9f08-9f51c65873dd",
   "metadata": {},
   "source": [
    "To execute the function, we need "
   ]
  },
  {
   "cell_type": "code",
   "execution_count": null,
   "id": "42476019-7e99-42aa-b9bf-93ce1cb14856",
   "metadata": {},
   "outputs": [],
   "source": [
    "(funcall (alexandria:curry #'+ 5) 37)"
   ]
  },
  {
   "cell_type": "markdown",
   "id": "8dc337d3-3069-413b-b3c4-af390d2b9f92",
   "metadata": {},
   "source": [
    "We can apply this function when mapping over a list of numbers."
   ]
  },
  {
   "cell_type": "code",
   "execution_count": null,
   "id": "f4975b4b-69ed-4dab-b97d-d0ffefe51e1c",
   "metadata": {},
   "outputs": [],
   "source": [
    "(map 'list (alexandria:curry #'+ 5) '(0 1 2 3 4 5 6 7 8 9))"
   ]
  },
  {
   "cell_type": "markdown",
   "id": "f5343647-ed41-4bed-8597-1505042c7d6d",
   "metadata": {},
   "source": [
    "or shorter"
   ]
  },
  {
   "cell_type": "code",
   "execution_count": null,
   "id": "a19a123b-2441-4f16-ab95-8f5caeda0294",
   "metadata": {},
   "outputs": [],
   "source": [
    "(mapcar (alexandria:curry #'+ 5) '(0 1 2 3 4 5 6 7 8 9))"
   ]
  },
  {
   "cell_type": "markdown",
   "id": "b082bcdc-2ef9-4eb0-9440-10cf776d6c7a",
   "metadata": {},
   "source": [
    "`map` expects a function to apply onto a list, so we don't need `funcall` in this case. While we're at it, map can accept lambda functions"
   ]
  },
  {
   "cell_type": "code",
   "execution_count": null,
   "id": "b1a2d6a6-1cc1-4f84-999b-526c6200b90c",
   "metadata": {},
   "outputs": [],
   "source": [
    "(mapcar (lambda (internal-variable-for-the-lambda-function) ;; this is the head. map needs a function that accepts one argument.\n",
    "                (format NIL \"Is ~a bigger than 5? Answer: ~a\"\n",
    "                        internal-variable-for-the-lambda-function\n",
    "                        (< 5 internal-variable-for-the-lambda-function)))\n",
    "        '(0 1 2 3 4 5 6 7 8 9))"
   ]
  },
  {
   "cell_type": "markdown",
   "id": "d6f4fe8d-c126-442d-bc45-a141f550920a",
   "metadata": {},
   "source": [
    "Finally, there's the `loop` macro, a powerful tool that can do lots of stuff. For simple parsing, mapping, reducing, we stick to higher-order functions. Executing functions with arguments taken from a list is mostly done recursively or in a lazy manner. Loops are handy when it comes to collecting and reforming data, or when their performance is not crucial, like in setup procedures.\n",
    "\n",
    "The following loop runs over a list of 2-touples, calculates the sum and fraction, then collects and returns all of that."
   ]
  },
  {
   "cell_type": "code",
   "execution_count": null,
   "id": "a41f27a7-de69-4966-be00-11c203351d3e",
   "metadata": {},
   "outputs": [],
   "source": [
    "(loop for (first-value second-value) in '((1.0 2.0) (3.0 4.0) (5.0 6.0) (7.0 8.0) (9.0 10.0))\n",
    "      for sum = (+ first-value second-value)\n",
    "      for fraction = (/ first-value second-value)\n",
    "      do (print (format NIL \"Operands: ~a, ~a~% sum: ~a ~% fraction: ~a\"\n",
    "                        first-value second-value sum fraction))\n",
    "      collect `((,first-value ,second-value) ,sum ,fraction))   ;; that `-notation is a shorthand to create a list with partially evaluated content\n",
    "                                                                ;; it's the same as (list (list first-value second-value) sum fraction)"
   ]
  },
  {
   "cell_type": "markdown",
   "id": "83c6c2e3-7d54-4f0e-9914-f51ef1b553a7",
   "metadata": {},
   "source": [
    "## Describe\n",
    "\n",
    "To find out whats behind a symbol, whats it bound to, if it's a variable or a function, you can use `describe`"
   ]
  },
  {
   "cell_type": "code",
   "execution_count": null,
   "id": "873b98c6-68cf-453f-9d04-c1c694156239",
   "metadata": {},
   "outputs": [],
   "source": [
    "(describe *course-name*)"
   ]
  },
  {
   "cell_type": "markdown",
   "id": "8614d6f1-aae3-43f9-82fa-e9ddd25f870e",
   "metadata": {},
   "source": [
    "In this case, `*course-name*` was evaluated before `describe` could investigate the meaning of the symbol `*course-name*`, but described the String instead. Let's describe the symbol instead"
   ]
  },
  {
   "cell_type": "code",
   "execution_count": null,
   "id": "831bee41-d835-4027-860f-5b1a79ce2f56",
   "metadata": {},
   "outputs": [],
   "source": [
    "(describe '*course-name*)"
   ]
  },
  {
   "cell_type": "markdown",
   "id": "72be045e-35b3-4784-900e-1b42b7c71fe6",
   "metadata": {},
   "source": [
    "We can see in which package it is defined and what its value is. Check out our loggin function too."
   ]
  },
  {
   "cell_type": "code",
   "execution_count": null,
   "id": "19b71ebc-fc24-44df-be5a-ef4dc7ba4337",
   "metadata": {},
   "outputs": [],
   "source": [
    "(describe 'log-string)"
   ]
  },
  {
   "cell_type": "markdown",
   "id": "20eb919d-ee31-429b-b571-1639b953ddb4",
   "metadata": {},
   "source": [
    "Use `describe` to find out the arguments of a function, the origin of variables, their value, and in general a lot of things that help you out in this Jupyter Notebook. Usually you'd be working in Emacs and have a proper IDE to investigate your codebase in detail."
   ]
  },
  {
   "cell_type": "code",
   "execution_count": null,
   "id": "eacbd8ca-1884-4f78-9b34-35bb8d9aac95",
   "metadata": {},
   "outputs": [],
   "source": [
    "(describe '*package*) ;; references the current package"
   ]
  },
  {
   "cell_type": "code",
   "execution_count": null,
   "id": "9e2d703a-5e56-44fc-9469-2374dfb76774",
   "metadata": {},
   "outputs": [],
   "source": [
    "(describe 'defun) ;; a macro to define a function, that is called with (name (arguments) body). Compare that to the log-string function."
   ]
  },
  {
   "cell_type": "markdown",
   "id": "460a06d5-1860-42d0-acec-cf56a4a3cef3",
   "metadata": {},
   "source": [
    "Alright, that should be enough to get a first impression of Lisp. Lesson 2 will be all about CRAM."
   ]
  }
 ],
 "metadata": {
  "kernelspec": {
   "display_name": "Common Lisp",
   "language": "common-lisp",
   "name": "common-lisp"
  },
  "language_info": {
   "codemirror_mode": "text/x-common-lisp",
   "file_extension": ".lisp",
   "mimetype": "text/x-common-lisp",
   "name": "common-lisp",
   "pygments_lexer": "common-lisp",
   "version": "2.0.1.debian"
  }
 },
 "nbformat": 4,
 "nbformat_minor": 5
}
