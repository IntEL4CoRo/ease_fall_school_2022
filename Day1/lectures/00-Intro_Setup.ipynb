{
 "cells": [
  {
   "attachments": {},
   "cell_type": "markdown",
   "id": "53e5aceb-b6a9-4c70-b9eb-ce66d407d0f6",
   "metadata": {
    "tags": []
   },
   "source": [
    "# Lesson 00 - CRAM Tutorials with Rvizweb\n",
    "\n",
    "Introduction text, overview of this lecture.\n",
    "\n",
    "## How to use Jupyter and execute code\n",
    "\n",
    "Click into the code block and press CTRL-ENTER to execute the code."
   ]
  },
  {
   "cell_type": "markdown",
   "id": "a0e567c8-873b-43ba-8899-84e85f774295",
   "metadata": {},
   "source": [
    "### 0. Setup Environment for visualization"
   ]
  },
  {
   "cell_type": "code",
   "execution_count": null,
   "id": "b636bded-38ca-48b7-8960-86fe3d1de766",
   "metadata": {
    "scrolled": true,
    "tags": []
   },
   "outputs": [],
   "source": [
    "(uiop:run-program \n",
    " \"roslaunch rvizweb update_config.launch config_name:=cram_projection_demos\" \n",
    ":output t\n",
    ":error-output t)"
   ]
  },
  {
   "cell_type": "markdown",
   "id": "d4a9f261-647a-4652-b310-61991c527e90",
   "metadata": {},
   "source": [
    "### 1. Loading the CRAM package *cram-projection-demos*\n",
    "\n",
    "Load the demo package and wait for the start to turn into a number. It will say something about `BAD-SYSTEM-NAME` but that's from 3rd-party software and just a style-warning. You can condense the huge outprint by clicking on the blue vertical bar left to the outprint or right click the output and Enable Scrolling for Outputs"
   ]
  },
  {
   "cell_type": "code",
   "execution_count": null,
   "id": "1923f279-7f69-4fd1-9a7b-6118c1cfaf1e",
   "metadata": {
    "scrolled": true,
    "tags": []
   },
   "outputs": [],
   "source": [
    "(asdf:load-system :cram-projection-demos)"
   ]
  },
  {
   "cell_type": "markdown",
   "id": "f1182ec5-cb26-4659-a57e-ead9bfcc4ea6",
   "metadata": {},
   "source": [
    "The following macro boots necessary settings for the `cram-projection-demos` package and it's dependencies, and establishes the ROS connection to the roscore, running in the background, the docker container. This will open up the Bulled Physics simulator, including the environment and the robot."
   ]
  },
  {
   "cell_type": "code",
   "execution_count": null,
   "id": "560124fc-c6b5-475e-bb82-ed71e1541376",
   "metadata": {
    "scrolled": true,
    "tags": []
   },
   "outputs": [],
   "source": [
    "(roslisp-utilities:startup-ros)"
   ]
  },
  {
   "cell_type": "markdown",
   "id": "5cee55cf-b85c-4a73-bd52-9de60cefa489",
   "metadata": {},
   "source": [
    "Now open a new tab and launch the `Rvizweb`. You should see the kitchen scene with a PR2 robot."
   ]
  },
  {
   "cell_type": "markdown",
   "id": "fd50cbce-8416-4e82-843c-0860896044a9",
   "metadata": {},
   "source": [
    "Now, execute the demo."
   ]
  },
  {
   "cell_type": "code",
   "execution_count": null,
   "id": "245c1889-ac50-4557-b0e7-b33dec33fe7e",
   "metadata": {},
   "outputs": [],
   "source": [
    "(demos:household-demo)"
   ]
  },
  {
   "cell_type": "code",
   "execution_count": null,
   "id": "784cf8e5-06f6-4289-bc36-90d1c4e91129",
   "metadata": {},
   "outputs": [],
   "source": []
  }
 ],
 "metadata": {
  "kernelspec": {
   "display_name": "Common Lisp",
   "language": "common-lisp",
   "name": "common-lisp"
  },
  "language_info": {
   "codemirror_mode": "text/x-common-lisp",
   "file_extension": ".lisp",
   "mimetype": "text/x-common-lisp",
   "name": "common-lisp",
   "pygments_lexer": "common-lisp",
   "version": "2.0.1.debian"
  }
 },
 "nbformat": 4,
 "nbformat_minor": 5
}
