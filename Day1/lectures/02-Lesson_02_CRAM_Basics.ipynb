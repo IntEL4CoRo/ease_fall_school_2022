{
 "cells": [
  {
   "cell_type": "markdown",
   "id": "6c77e44b-8a55-4882-ba13-86275964de07",
   "metadata": {},
   "source": [
    "# Lesson 02 - CRAM Basics\n",
    "\n",
    "CRAM stands for Cognitive Robot Abstract Machine. Today we are working with the CRAM plan-executive, which is a framework for writing high-level procedures for robots. High-level, meaning, the procedures in this framework are agnostic of the underlying platform. They can be executed on different robots (PR2, TiaGo, Pepper, HSR, Boxy, Donbot), in different simulations (Bullet, Unreal, MuJoCo), with different motion planners (Giskard, MoveIt, MoveBase, NaiveKinematics), knowledge representations (KnowRob, RALF, internal heuristics), perception systems (Robosherlock, RoboCudo, sim-based perception)... All of these can be easily exchanged by switching out the process-modules for a specific platform, which is like plugging in a different pair of headphones or connect speakers instead, and still hear the same music. The high-level plan stays the same, the music stays the same, but the target output changes. Our platform today is Bullet Physics, a lightweight simulator, that's tightly coupled into CRAMs geometric reasoning.\n"
   ]
  },
  {
   "cell_type": "markdown",
   "id": "df2c08f5-fab2-459f-a66e-76fe49623dab",
   "metadata": {},
   "source": [
    "## Compiling the CRAM code\n",
    "\n",
    "Steel Bank Common Lisp (SBCL) is the interpreter for our code. To use CRAM, we first need to compile the code to make it available.`asdf:load-system` loads an ASDF (Another System Definition Facility) system into the SBCL kernel. You will remember this line from lesson 0."
   ]
  },
  {
   "cell_type": "code",
   "execution_count": null,
   "id": "7da33bc2-df1f-41cc-8d61-a278e75990ea",
   "metadata": {
    "tags": []
   },
   "outputs": [],
   "source": [
    "(asdf:load-system :cram-pr2-pick-place-demo)"
   ]
  },
  {
   "cell_type": "markdown",
   "id": "927257f9-33c0-49d9-990e-98a4fd93ac6c",
   "metadata": {},
   "source": [
    "Every time you reboot Docker or restart the kernel, even when you switch to a different lesson, you need to compile the package first. Every lesson has its own SBCL kernel.\n",
    "\n",
    "When the pick & place package is loaded, it registers lots of initialization functions. The following will boot up the current configuration of initialization. It can also be used to reboot the whole simluation system."
   ]
  },
  {
   "cell_type": "code",
   "execution_count": null,
   "id": "88f0f2d4-0262-4352-b63d-31fc4e6d868c",
   "metadata": {
    "tags": []
   },
   "outputs": [],
   "source": [
    ";; Warning: resets the core processes of the simulation\n",
    "(roslisp-utilities:startup-ros)"
   ]
  },
  {
   "cell_type": "markdown",
   "id": "27f903d6-4fa7-4f1a-9d3b-0258ee15e973",
   "metadata": {},
   "source": [
    "If you don't want to reboot all the CRAM processes with `startup-ros` but only clear the Bullet World of its objects, use this"
   ]
  },
  {
   "cell_type": "code",
   "execution_count": null,
   "id": "65310615-eb86-4b3e-a796-fe95884437ca",
   "metadata": {
    "tags": []
   },
   "outputs": [],
   "source": [
    ";; Warning: resets simulation and deletes objects\n",
    "(demo::init-projection)"
   ]
  },
  {
   "cell_type": "markdown",
   "id": "a0e646c7-af53-4796-a57b-ca5447b6b8eb",
   "metadata": {},
   "source": [
    "When the simulation hangs up, which happens sometimes, this may bring it back to life. If it doesn't, hit that *Stop* button at the top to kill leftover processes and try again. Eventually you may need to restart the Docker process."
   ]
  },
  {
   "cell_type": "code",
   "execution_count": null,
   "id": "0e264a08-50ef-4d2c-ae87-5e830da9e81f",
   "metadata": {},
   "outputs": [],
   "source": [
    ";; Warning: respawning the window may result in a kernel crash. Restart the lecture via docker to recover from that.\n",
    "(btr-utils:reset-debug-window)"
   ]
  },
  {
   "cell_type": "markdown",
   "id": "db9312f1-1728-46a2-a28d-c0e14912908f",
   "metadata": {},
   "source": [
    "## The Tutorial Package\n",
    "\n",
    "The following block defines a new package, called *cram-bullet-world-tutorial*. This is the package we're going to write our code in."
   ]
  },
  {
   "cell_type": "code",
   "execution_count": null,
   "id": "ed252f25-d7b7-4d0f-839c-8b18c0bdede6",
   "metadata": {
    "tags": []
   },
   "outputs": [],
   "source": [
    "(defpackage cram-bullet-world-tutorial\n",
    "  (:nicknames :btw-tut)                         ;; an alias for the package\n",
    "  (:use :common-lisp :cram-prolog :desig :exe)) ;; inherit other packages' namespace to make our code better readable"
   ]
  },
  {
   "cell_type": "markdown",
   "id": "88913b50-5db8-4be6-a3ea-7abe11c9da8a",
   "metadata": {},
   "source": [
    "As you remember from the previous lesson, packages are like namespaces. Our package has a nickname, which we can use to switch into the package."
   ]
  },
  {
   "cell_type": "code",
   "execution_count": null,
   "id": "6d1e5f6f-dccb-4529-a9de-a7f5d4d4a085",
   "metadata": {
    "tags": []
   },
   "outputs": [],
   "source": [
    "(in-package :btw-tut)"
   ]
  },
  {
   "cell_type": "markdown",
   "id": "2971c26f-0e49-4888-a4da-dde176f1a6bb",
   "metadata": {},
   "source": [
    "There is the function `describe` that gives explanation about symbols and how they are bound. Let's define a global parameter to check this out."
   ]
  },
  {
   "cell_type": "code",
   "execution_count": null,
   "id": "839cc3be-3187-4956-81f3-aec2abe006c2",
   "metadata": {},
   "outputs": [],
   "source": [
    "(defparameter *descriptive-parameter-name* \"Lisp rules\")"
   ]
  },
  {
   "cell_type": "code",
   "execution_count": null,
   "id": "f28bdf97-919c-46b5-a0b3-98347db7bf13",
   "metadata": {},
   "outputs": [],
   "source": [
    "(describe '*descriptive-parameter-name*)"
   ]
  },
  {
   "cell_type": "code",
   "execution_count": null,
   "id": "b1ebcc44-656d-444c-8e8d-145d42201e33",
   "metadata": {},
   "outputs": [],
   "source": [
    "(describe '*package*)"
   ]
  },
  {
   "cell_type": "markdown",
   "id": "6c3a71b9-2708-4781-b57f-d2e83373c7ce",
   "metadata": {},
   "source": [
    "## Poses in 3D space\n",
    "\n",
    "In 3D space we can define a point with x, y and z. We use the `cl-transforms` package to do so."
   ]
  },
  {
   "cell_type": "code",
   "execution_count": null,
   "id": "9ec1301b-4aed-48bd-9574-6671fd9c080e",
   "metadata": {},
   "outputs": [],
   "source": [
    "(cl-transforms:make-3d-vector 1.0 2.0 3.0)"
   ]
  },
  {
   "cell_type": "markdown",
   "id": "4bb06809-670d-421e-905c-0468d2a472db",
   "metadata": {},
   "source": [
    "A point is just a point. Every object is at a certain position in the room, but we don't know how it is oriented. Orientations are commonly represented as a rotation matrix, rotation vector, euler angles or quaternion. CRAM works with quaternions, which are very hard to read for humans, but are very nice to work with. Like rotation matrices, quaternions can the concatenated to calculate a chain of relative orientations."
   ]
  },
  {
   "cell_type": "code",
   "execution_count": null,
   "id": "80b0ea89-bace-4455-bac1-150cc6c23426",
   "metadata": {},
   "outputs": [],
   "source": [
    "(cl-transforms:make-identity-rotation)"
   ]
  },
  {
   "cell_type": "markdown",
   "id": "a664db11-a4ef-4f10-b909-603ec133a995",
   "metadata": {},
   "source": [
    "See that a quaternion is composed of four values: ax, ay, az, and w. Since quaternions are so hard construct by hand, I usually translate them from euler angles."
   ]
  },
  {
   "cell_type": "code",
   "execution_count": null,
   "id": "aad372fb-8dab-4ee6-a05a-5bb038ba24bb",
   "metadata": {},
   "outputs": [],
   "source": [
    "(cl-transforms:euler->quaternion)                 ;; is the identity rotation\n",
    "(cl-transforms:euler->quaternion :az pi)          ;; rotates 180 degree around the z-axis. The last value is float-imprecision.\n",
    "(cl-transforms:euler->quaternion :az (* pi 0.5))  ;; rotates 90 degree to the left\n",
    "(cl-transforms:euler->quaternion :az (* pi -0.5)) ;; rotates 90 degree to the right\n",
    "\n",
    "(describe 'cl-transforms:euler->quaternion)"
   ]
  },
  {
   "cell_type": "markdown",
   "id": "71fa6fc6-09dc-4126-971a-c7e28294048a",
   "metadata": {},
   "source": [
    "The difference between a position and a pose is, that a position only describes a point, while a pose is the combination of position and orientation."
   ]
  },
  {
   "cell_type": "code",
   "execution_count": null,
   "id": "55c17995-2c1b-4c6c-9bf0-bde15ace283b",
   "metadata": {},
   "outputs": [],
   "source": [
    "(cl-transforms:make-pose (cl-transforms:make-3d-vector 1.0 2.0 3.0)\n",
    "                         (cl-transforms:make-identity-rotation))"
   ]
  },
  {
   "cell_type": "markdown",
   "id": "083f6a4a-8794-4b75-aea5-53761ca58bef",
   "metadata": {},
   "source": [
    "What's missing is a reference to something in the room. Every pose should have a reference frame, something that already has a fixed pose in the world, such that we can define a pose w.r.t. that other pose in the world. In our case this origin frame is called `map`. Such a relative pose also gets a `stamp` (like in time-stamp), but we can ignore that for now."
   ]
  },
  {
   "cell_type": "code",
   "execution_count": null,
   "id": "f4a9ce3a-b3ef-4624-9424-834f3bd5dd26",
   "metadata": {},
   "outputs": [],
   "source": [
    "(cl-transforms-stamped:make-pose-stamped \"map\" 0.0\n",
    "                                         (cl-transforms:make-3d-vector 1.0 2.0 3.0)\n",
    "                                         (cl-transforms:make-identity-rotation))"
   ]
  },
  {
   "cell_type": "markdown",
   "id": "173fcb83-e528-439f-8fb8-957bc7bb5b2c",
   "metadata": {},
   "source": [
    "To make our code small, let's define a function that constructs a pose for us"
   ]
  },
  {
   "cell_type": "code",
   "execution_count": null,
   "id": "3c8a9954-e156-42b8-86f5-3e610a1ed3e7",
   "metadata": {},
   "outputs": [],
   "source": [
    "(defun make-pose (frame point euler)\n",
    "    (declare (type string frame)      ;; verifies the type of 'frame' as string\n",
    "             (type list point euler)) ;; and list for 'point' and 'euler'\n",
    "    ;; this is the documentation string\n",
    "    \"Creates a cl-transforms pose in 3D space w.r.t. the given frame, point and euler.\n",
    "    frame - a string of the reference frame in the world.\n",
    "    point - given as a list of x y z coordinates, \n",
    "    euler - given as rotations around the x, y and z axis. (right-hand-rule)\"\n",
    "    ;; this checks if the arguments 'point' and 'euler' both have length 3\n",
    "    (if (and (eq (length point) 3) (eq (length euler) 3))\n",
    "        ;; destructuring-bind can assign the contents of a list to local variables.\n",
    "        ;; here it binds the 3 values of the 'euler' list to ax, ay and az\n",
    "        ;; mapcar with eval is required here to evaluate formulae like (* pi 0.5)\n",
    "        (destructuring-bind (ax ay az) (mapcar #'eval euler)\n",
    "          (cl-transforms-stamped:make-pose-stamped frame 0.0 \n",
    "                                                   (apply #'cl-transforms:make-3d-vector point)\n",
    "                                                   (cl-transforms:euler->quaternion :ax ax :ay ay :az az)))\n",
    "        ;; else-branch\n",
    "        (format T \"point ~a or euler ~a is not of length 3\" point euler)))"
   ]
  },
  {
   "cell_type": "code",
   "execution_count": null,
   "id": "ab6bdac0-cbd9-459f-bcf8-09982a6ebb72",
   "metadata": {
    "tags": []
   },
   "outputs": [],
   "source": [
    "(make-pose \"map\" '(1.0 2.0 3.0) '(0.0 0.0 (* pi 0.5)))"
   ]
  },
  {
   "cell_type": "markdown",
   "id": "7eaf6754-2cfa-4a32-ac42-b24515148ccf",
   "metadata": {},
   "source": [
    "## Visualizing\n",
    "\n",
    "All these poses seem pretty abstract, so let's visualize them in Bullet. The function `btr:add-vis-axis-object` can be applied to poses, physical objects and robot parts."
   ]
  },
  {
   "cell_type": "code",
   "execution_count": null,
   "id": "aee4f5c9-493f-4de7-afb6-61ae4e12ad38",
   "metadata": {},
   "outputs": [],
   "source": [
    ";; try and mess around with the poses values\n",
    "(btr:add-vis-axis-object (make-pose \"map\" '(0.0 0.0 2.0) '((* pi 0.0) (* pi 0.0) (* pi 0.0))))"
   ]
  },
  {
   "cell_type": "markdown",
   "id": "cde934bc-1180-404a-b166-828052b637b9",
   "metadata": {},
   "source": [
    "These are some examples to visualize the pose of part of the environment and the robot."
   ]
  },
  {
   "cell_type": "code",
   "execution_count": null,
   "id": "9158ad9b-9ac3-483e-9fa6-01d11ce312b3",
   "metadata": {
    "tags": []
   },
   "outputs": [],
   "source": [
    "(btr:add-vis-axis-object (btr:link-pose (btr:get-environment-object) \"sink_area_left_middle_drawer_handle\"))"
   ]
  },
  {
   "cell_type": "code",
   "execution_count": null,
   "id": "b05ee8b6-a07e-46ff-b3da-e75d753052ab",
   "metadata": {},
   "outputs": [],
   "source": [
    "(btr:add-vis-axis-object (btr:link-pose (btr:get-robot-object) \"l_gripper_tool_frame\"))"
   ]
  },
  {
   "cell_type": "code",
   "execution_count": null,
   "id": "abaa4df5-af41-461b-9161-fda3094f4e4c",
   "metadata": {},
   "outputs": [],
   "source": [
    "(btr:add-vis-axis-object (btr:link-pose (btr:get-robot-object) \"base_laser_link\"))"
   ]
  },
  {
   "cell_type": "code",
   "execution_count": null,
   "id": "a521788d-9c1b-4255-98c1-0bc3c06f3c3c",
   "metadata": {},
   "outputs": [],
   "source": [
    "(btr:add-vis-axis-object (btr:link-pose (btr:get-robot-object) \"torso_lift_link\"))"
   ]
  },
  {
   "cell_type": "code",
   "execution_count": null,
   "id": "e856bd75-c4f0-40a6-bc05-1feb3564e1c7",
   "metadata": {},
   "outputs": [],
   "source": [
    "(btr:add-vis-axis-object (btr:link-pose (btr:get-robot-object) \"wide_stereo_optical_frame\"))"
   ]
  },
  {
   "cell_type": "markdown",
   "id": "4673662c-a191-4c7c-b6fc-9b8ffee96988",
   "metadata": {},
   "source": [
    "To get a full list of the environment and robot parts, this will retreive all possible frames. We use Alexandria here to extract the keys of the hash-table, in which the links of the environment are defined."
   ]
  },
  {
   "cell_type": "code",
   "execution_count": null,
   "id": "ad081681-ba41-4430-a7b0-18ea99c2e9b5",
   "metadata": {
    "tags": []
   },
   "outputs": [],
   "source": [
    "(alexandria:hash-table-keys (slot-value (slot-value (btr:get-environment-object) 'btr:urdf) 'cl-urdf:links))"
   ]
  },
  {
   "cell_type": "code",
   "execution_count": null,
   "id": "9e496b96-6975-46a0-b731-d1d6d0c83ba8",
   "metadata": {
    "tags": []
   },
   "outputs": [],
   "source": [
    "(alexandria:hash-table-keys (slot-value (slot-value (btr:get-robot-object) 'btr:urdf) 'cl-urdf:links))"
   ]
  },
  {
   "cell_type": "markdown",
   "id": "f5147cb6-7ded-4b44-865b-812b2b49518d",
   "metadata": {},
   "source": [
    "We can also visualize areas. The following calculates and shows the distribution of poses that are suitable for the PR2 to stand, in order to reach the sink-area-left-middle-drawer-handle of the kitchen."
   ]
  },
  {
   "cell_type": "code",
   "execution_count": null,
   "id": "a1095786-da73-466b-8c71-48ae76f602cd",
   "metadata": {
    "tags": []
   },
   "outputs": [],
   "source": [
    ";; this takes a while to compute. lay back and observe.\n",
    "(btr-utils:visualize-designator-costmaps\n",
    " (a location\n",
    "    (reachable-for pr2)\n",
    "    (arm left)\n",
    "    (object (an object\n",
    "                (type cupboard)\n",
    "                (urdf-name sink-area-left-middle-drawer-handle)\n",
    "                (part-of iai-kitchen)))))"
   ]
  },
  {
   "cell_type": "markdown",
   "id": "81d48b34-fe0a-4875-bc6b-eea70849fcf9",
   "metadata": {},
   "source": [
    "## Designators\n",
    "That previous code block seems wierd. It looks completely different from the Lisp code that we previously saw. "
   ]
  },
  {
   "cell_type": "markdown",
   "id": "f99f0479-387e-4c9e-b60a-03511f806d2b",
   "metadata": {},
   "source": [
    "## Moving Around\n",
    "\n"
   ]
  },
  {
   "cell_type": "code",
   "execution_count": null,
   "id": "cb2de1ea-9969-4b58-98d3-66dde2dda51e",
   "metadata": {},
   "outputs": [],
   "source": [
    "(defun make-pose (reference-frame pose)\n",
    "    \"Creates a cl-transforms pose in 3D space w.r.t. the given `reference-frame' and `pose'.\n",
    "    The pose is given as a list of two lists, where the first are the x y z coordinates, \n",
    "    the second is the quaternion of qx qy qz w, like this: '((2.0 0.0 1.5) (0.0 0.0 0.0 1.0))\"\n",
    "  (cl-transforms-stamped:make-pose-stamped\n",
    "   reference-frame 0.0\n",
    "   (apply #'cl-transforms:make-3d-vector (first pose))\n",
    "   (apply #'cl-transforms:make-quaternion (second pose))))"
   ]
  },
  {
   "cell_type": "code",
   "execution_count": null,
   "id": "6de4ca3b-0c62-4a61-84dc-33c5e6c29c49",
   "metadata": {},
   "outputs": [],
   "source": [
    "(urdf-proj:with-simulated-robot\n",
    "  (let ((?navigation-goal (make-pose \"map\" '((0 1 0) (0 0 0 1)))))\n",
    "    (perform (an action\n",
    "                 (type going)\n",
    "                 (target (a location \n",
    "                            (pose ?navigation-goal)))))))"
   ]
  },
  {
   "cell_type": "code",
   "execution_count": null,
   "id": "20b63db3-e46d-49ed-b507-0e1d365e716e",
   "metadata": {
    "tags": []
   },
   "outputs": [],
   "source": [
    "(defparameter *base-pose-near-table*\n",
    "  (make-pose \"map\" \n",
    "             '((-2.2d0 -0.20d0 0.0d0) \n",
    "               (0.0d0 0.0d0 -0.707d0 0.707d0))))"
   ]
  },
  {
   "cell_type": "code",
   "execution_count": null,
   "id": "7caad455-395b-4c08-91cf-dfc89e1a6e67",
   "metadata": {},
   "outputs": [],
   "source": [
    "(urdf-proj:with-simulated-robot\n",
    "  (let ((?navigation-goal *base-pose-near-table*))\n",
    "     (perform (an action\n",
    "                 (type going)\n",
    "                 (target (a location \n",
    "                            (pose ?navigation-goal)))))))"
   ]
  },
  {
   "cell_type": "markdown",
   "id": "b7d1702b-59d4-4565-9880-8eb9f5fb8ca7",
   "metadata": {},
   "source": [
    "Advanced definition of poses with euler angles provides a quaternion."
   ]
  },
  {
   "cell_type": "code",
   "execution_count": null,
   "id": "56f280ac-3b30-40ef-a949-ca9b6c65c667",
   "metadata": {},
   "outputs": [],
   "source": [
    "(cl-transforms:euler->quaternion :az (* pi 0.5)) ;; rotation of pi/2 around the z-axis = 90 degree to the left"
   ]
  },
  {
   "cell_type": "markdown",
   "id": "0d03a20f-877a-48c4-bdab-eba5437ca105",
   "metadata": {},
   "source": [
    "The resulting quaternion can be used to specify rotations around an axis. Here we a creating a pose without the help of the `make-pose` function. Fiddle arbound with the `-0.50` factor to PI, and move the robot again, to see the resulting rotation."
   ]
  },
  {
   "cell_type": "code",
   "execution_count": null,
   "id": "0c872857-9f5b-43f9-bf4f-4fcecfe653a4",
   "metadata": {},
   "outputs": [],
   "source": [
    "(defparameter *base-pose-near-table*\n",
    "  (cl-transforms-stamped:make-pose-stamped \n",
    "   \"map\" 0.0 \n",
    "   (cl-transforms:make-3d-vector -2.2d0 -0.20d0 0.0d0)\n",
    "   (cl-transforms:euler->quaternion :az (* pi -0.50))))"
   ]
  },
  {
   "cell_type": "markdown",
   "id": "ece6175b-23ee-4857-ae29-852a383a2dc5",
   "metadata": {},
   "source": [
    "## Spawning Objects"
   ]
  },
  {
   "cell_type": "code",
   "execution_count": null,
   "id": "b3b041dd-b31f-4def-9e9f-15d9e87a2d93",
   "metadata": {},
   "outputs": [],
   "source": [
    "(defun spawn-object (spawn-pose &optional (obj-type :bottle) (obj-name 'bottle-1) (obj-color '(1 0 0)))\n",
    "    \"Spawns an object into simulation.\n",
    "    spawn-pose: list - pose coordinates, like this: '((x y z) (qx qy qz w))\n",
    "    optional:\n",
    "      obj-type: keyword - the type of object to spawn, default = :bottle (case-insensitive)\n",
    "      obj-name: symbol - name of the object, default = 'bottle-1 (case-insensitive)\n",
    "      obj-color: list - (r g b) color value for the object with range 0.0-1.0, default is red = '(1 0 0)\"\n",
    "  (unless (assoc obj-type btr::*mesh-files*)\n",
    "    (btr:add-objects-to-mesh-list \"cram_pr2_pick_place_demo\"))\n",
    "  (btr-utils:spawn-object obj-name obj-type :color obj-color :pose spawn-pose)\n",
    "  (btr:simulate btr:*current-bullet-world* 10))"
   ]
  },
  {
   "cell_type": "markdown",
   "id": "bc4f404b-f68e-4c5e-8444-1294dfa37799",
   "metadata": {},
   "source": [
    "To find all possible `obj-type`, the parameter `btr::*mesh-files*` contains the mesh files as key-value pairs between keyword and the location of their mesh-file. We can map over that list and only return their keys. "
   ]
  },
  {
   "cell_type": "code",
   "execution_count": null,
   "id": "4add0315-398c-44b1-aff1-bd95c59927d5",
   "metadata": {
    "tags": []
   },
   "outputs": [],
   "source": [
    ";; the parameter btr::*mesh-files* contains the mesh files \n",
    "(map 'list #'first btr::*mesh-files*)"
   ]
  },
  {
   "cell_type": "markdown",
   "id": "108a64a5-c05b-4ee2-aa91-67ee4243bfad",
   "metadata": {},
   "source": [
    "Spawn bottle"
   ]
  },
  {
   "cell_type": "code",
   "execution_count": null,
   "id": "53ba30f2-39e1-4c98-af2b-514cb19a91dd",
   "metadata": {},
   "outputs": [],
   "source": [
    "(spawn-object '((-2.323 -1 0.82) (0 0 0 1)))"
   ]
  },
  {
   "cell_type": "code",
   "execution_count": null,
   "id": "009280b0-2760-4ac3-80f2-13037ad9bc48",
   "metadata": {},
   "outputs": [],
   "source": [
    "(spawn-object '((1.44 1.28 0.85) (0 0 0 1)) :cube 'cube-1)"
   ]
  },
  {
   "cell_type": "code",
   "execution_count": null,
   "id": "b69c64a3-380f-4214-9a4c-eb792135e7fa",
   "metadata": {},
   "outputs": [],
   "source": [
    "(spawn-object '((0 0 0.1) (0 0 0 1)) :weisswurst 'wurst-1 '(0 1 0))"
   ]
  },
  {
   "cell_type": "code",
   "execution_count": null,
   "id": "1b716e57-b84b-4ada-8e8b-c9e03c03272f",
   "metadata": {},
   "outputs": [],
   "source": [
    "(demo::initialize)"
   ]
  },
  {
   "cell_type": "markdown",
   "id": "20da1514-5201-46b9-9d00-4fcc59fc88a1",
   "metadata": {},
   "source": [
    "## Intermezzo: About Designators"
   ]
  },
  {
   "cell_type": "markdown",
   "id": "5be5eca1-30b7-4bfe-a092-f73042882108",
   "metadata": {},
   "source": [
    "Action Designators: Going is an Action like searching, looking, fetching, delivering etc. \n",
    "\n",
    "Object Designators\n",
    "\n",
    "Location Designators\n",
    "\n",
    "Motion Designators"
   ]
  },
  {
   "cell_type": "markdown",
   "id": "813affd3-c10d-48f1-a26c-b12d1b43744d",
   "metadata": {},
   "source": [
    "## Perceiving Objects"
   ]
  },
  {
   "cell_type": "code",
   "execution_count": null,
   "id": "5e09464a-9732-44a1-b419-39d3ecff859f",
   "metadata": {},
   "outputs": [],
   "source": [
    "(urdf-proj:with-simulated-robot\n",
    "  (let ((?navigation-goal *base-pose-near-table*))\n",
    "    (cpl:par\n",
    "      ;; Moving the robot near the table.\n",
    "      (perform (an action\n",
    "                   (type going)\n",
    "                   (target (a location\n",
    "                              (pose ?navigation-goal)))))\n",
    "      ;; Increasing the height of the torso by setting the joint angle to 0.3 meters\n",
    "      (perform (a motion\n",
    "                  (type moving-torso)\n",
    "                  (joint-angle 0.3)))\n",
    "      (perform (an action\n",
    "                  (type positioning-arm)\n",
    "                  (left-configuration park)\n",
    "                  (right-configuration park))))))"
   ]
  },
  {
   "cell_type": "code",
   "execution_count": null,
   "id": "13cd4608-283c-4b8e-aa4c-9efec1bdc395",
   "metadata": {},
   "outputs": [],
   "source": [
    "(defparameter *downward-look-coordinate*\n",
    " (make-pose \"base_footprint\" '((0.65335d0 0.076d0 0.758d0) (0 0 0 1))))\n",
    ";; This coordinate frame has base_footprint as reference, which is the reference\n",
    ";; frame of PR2's base."
   ]
  },
  {
   "cell_type": "code",
   "execution_count": null,
   "id": "060a3b51-4b00-4a26-a1e4-c7719522dddc",
   "metadata": {},
   "outputs": [],
   "source": [
    "(urdf-proj:with-simulated-robot\n",
    "  (let ((?looking-direction *downward-look-coordinate*))\n",
    "    (perform (an action\n",
    "                 (type looking)\n",
    "                 (target (a location \n",
    "                            (pose ?looking-direction)))))))"
   ]
  },
  {
   "cell_type": "code",
   "execution_count": null,
   "id": "efb239a7-9946-450f-940c-c1cc4cedcfff",
   "metadata": {
    "tags": []
   },
   "outputs": [],
   "source": [
    "(urdf-proj:with-simulated-robot\n",
    "  (perform (an action\n",
    "               (type detecting)\n",
    "               (object (an object\n",
    "                          (type bottle))))))"
   ]
  },
  {
   "cell_type": "code",
   "execution_count": null,
   "id": "5fe9aeab-8f5b-45c9-9318-b46bdf4ce14d",
   "metadata": {},
   "outputs": [],
   "source": [
    "(defparameter *perceived-bottle* nil)\n",
    "(urdf-proj:with-simulated-robot\n",
    "    (setf *perceived-bottle* \n",
    "          (perform (an action\n",
    "                       (type detecting)\n",
    "                       (object (an object\n",
    "                                   (type bottle)))))))"
   ]
  },
  {
   "cell_type": "markdown",
   "id": "279d7110-3082-4d3a-8a18-d88e52e1e38c",
   "metadata": {},
   "source": [
    "## Picking up objects"
   ]
  },
  {
   "cell_type": "code",
   "execution_count": null,
   "id": "3ea8468d-e6dc-4a63-83a9-a9900d91f3fa",
   "metadata": {},
   "outputs": [],
   "source": [
    "(urdf-proj:with-simulated-robot \n",
    "  (let ((?perceived-bottle *perceived-bottle*))\n",
    "   (perform (an action\n",
    "                (type picking-up)\n",
    "                 (arm (right))\n",
    "                 (grasp right-side)\n",
    "                 (object ?perceived-bottle)))\n",
    "  ;; Parking the right arm after grasping, bringing the bottle close to the robot\n",
    "  ;; and freeing up the field of view.\n",
    "    (exe:perform\n",
    "           (desig:an action\n",
    "                     (type parking-arms)\n",
    "                     (arms (right))))))"
   ]
  },
  {
   "cell_type": "markdown",
   "id": "9028907c-e2a5-493b-ab7b-aed25fc8f410",
   "metadata": {},
   "source": [
    "## Placing Objects"
   ]
  },
  {
   "cell_type": "code",
   "execution_count": null,
   "id": "c4afc418-f1e3-4d4b-bc6b-a3ec8ea34b86",
   "metadata": {},
   "outputs": [],
   "source": [
    "(defparameter *final-object-destination*\n",
    "  (make-pose \"map\" '((-0.8 2 0.9) (0 0 0 1))))\n",
    " \n",
    "(defparameter *base-pose-near-counter*\n",
    "  (make-pose \"map\" '((-0.150d0 2.0d0 0.0d0) (0.0d0 0.0d0 -1.0d0 0.0d0))))"
   ]
  },
  {
   "cell_type": "code",
   "execution_count": null,
   "id": "a0fc47cb-7f5c-4da8-bb48-3002093076f7",
   "metadata": {
    "tags": []
   },
   "outputs": [],
   "source": [
    "(roslisp-utilities:startup-ros)"
   ]
  },
  {
   "cell_type": "code",
   "execution_count": null,
   "id": "ef05e5a0-2a06-4e56-ba58-804a489ecc42",
   "metadata": {},
   "outputs": [],
   "source": [
    "(demo::initialize)\n",
    "\n",
    "(spawn-object '((-2.323 -1 0.82) (0 0 0 1)))\n",
    "\n",
    "(urdf-proj:with-simulated-robot\n",
    " (let ((?navigation-goal \n",
    "        (cl-transforms-stamped:make-pose-stamped \n",
    "            \"map\" 0.0 \n",
    "         (cl-transforms:make-3d-vector -2.2d0 -0.20d0 0.0d0)\n",
    "         (cl-transforms:euler->quaternion :az (* pi -0.50)))))\n",
    "      (perform (an action\n",
    "                 (type going)\n",
    "                 (target (a location \n",
    "                            (pose ?navigation-goal))))))\n",
    " \n",
    "\n",
    "  (let ((?looking-direction (make-pose \"base_footprint\" '((0.65335d0 0.076d0 0.758d0) (0 0 0 1)))))\n",
    "    (perform (an action\n",
    "                 (type looking)\n",
    "                 (target (a location \n",
    "                            (pose ?looking-direction))))))\n",
    " \n",
    " (let ((?perceived-bottle \n",
    "        (perform (an action\n",
    "                     (type detecting)\n",
    "                     (object (an object\n",
    "                                 (type bottle))))))\n",
    "       (?nav-goal (make-pose \"map\" '((-0.15d0 2.0d0 0.0d0) (0.0d0 0.0d0 -1.0d0 0.0d0))))\n",
    "       (?drop-pose (make-pose \"map\" '((-0.8 2 0.9) (0 0 0 1)))))\n",
    "  \n",
    "  (perform (an action\n",
    "                (type picking-up)\n",
    "                 (arm (right))\n",
    "                 ;(side right-side)\n",
    "                 (object ?perceived-bottle)))\n",
    "  ;; Parking the right arm after grasping, bringing the bottle close to the robot\n",
    "  ;; and freeing up the field of view.\n",
    "    (perform (an action\n",
    "                 (type parking-arms)))\n",
    "   (perform (a motion \n",
    "               (type moving-torso)\n",
    "               (joint-angle 0.3)))\n",
    "   (perform (an action\n",
    "                (type going)\n",
    "                (target (a location\n",
    "                           (pose ?nav-goal)))))\n",
    " \n",
    "   (perform (an action\n",
    "                (type placing)\n",
    "                (arm (right))\n",
    "                (object ?perceived-bottle)\n",
    "                (target (a location\n",
    "                           (pose ?drop-pose)))))))"
   ]
  },
  {
   "cell_type": "code",
   "execution_count": null,
   "id": "eb8e1c2d-7711-40c5-af30-a417fdcfda02",
   "metadata": {
    "tags": []
   },
   "outputs": [],
   "source": [
    "\n",
    "\n",
    "(defun move-kitchen-joint (&key (joint-name \"iai_fridge_door_joint\")\n",
    "                             (joint-angle 0.2d0))\n",
    "  (btr:set-robot-state-from-joints\n",
    "   `((,joint-name  ,joint-angle))\n",
    "   (btr:get-environment-object)))\n",
    "\n",
    "(defun add-objects-to-mesh-list (&optional (ros-package \"cram_bullet_world_tutorial\"))\n",
    "  (mapcar (lambda (object-filename-and-object-extension)\n",
    "            (declare (type list object-filename-and-object-extension))\n",
    "            (destructuring-bind (object-filename object-extension)\n",
    "                object-filename-and-object-extension\n",
    "              (let ((lisp-name (roslisp-utilities:lispify-ros-underscore-name\n",
    "                                object-filename :keyword)))\n",
    "                (pushnew (list lisp-name\n",
    "                               (format nil \"package://~a/resource/~a.~a\"\n",
    "                                       ros-package object-filename object-extension)\n",
    "                               nil)\n",
    "                         btr::*mesh-files*\n",
    "                         :key #'car)\n",
    "                lisp-name)))\n",
    "          (mapcar (lambda (pathname)\n",
    "                    (list (pathname-name pathname) (pathname-type pathname)))\n",
    "                  (directory (physics-utils:parse-uri\n",
    "                              (format nil \"package://~a/resource/*.*\" ros-package))))))\n",
    "                              \n",
    "\n",
    ";;;; **** ARM Parking\n",
    "(defun park-arms ()\n",
    "  (pp-plans::park-arms))\n",
    "\n",
    "(defun park-arm (arm)\n",
    "  (pp-plans::park-arms :arm arm))\n",
    "\n",
    ";;**** Failure Handler\n",
    "(defmacro handle-failure (errors program-body &body error-handler-body)\n",
    "  `(progn\n",
    "    (cpl:with-failure-handling\n",
    "        ((,errors (e)\n",
    "           (print e)\n",
    "           ,@error-handler-body))\n",
    "    ,@program-body)))\n",
    "\n",
    "\n",
    "(defparameter *pose-bottle-1*\n",
    "  (cl-transforms-stamped:make-pose-stamped\n",
    "   \"map\" 0.0\n",
    "   (cl-transforms:make-3d-vector -2 -0.9d0 0.86d0)\n",
    "   (cl-transforms:make-identity-rotation)))\n",
    "\n",
    "(defparameter *pose-bottle-2*\n",
    "  (cl-transforms-stamped:make-pose-stamped\n",
    "   \"map\" 0.0\n",
    "   (cl-transforms:make-3d-vector -0.8 2 0.9)\n",
    "   (cl-transforms:make-identity-rotation)))\n",
    "\n",
    "(defparameter *pose-meal-table*\n",
    "  (cl-transforms-stamped:make-pose-stamped\n",
    "   \"map\" 0.0\n",
    "   (cl-transforms:make-3d-vector -0.15 2.0 0)\n",
    "   (cl-transforms:make-quaternion 0.0d0 0.0d0 -1.0d0 0.0d0)))\n",
    "\n",
    "(defparameter *pose-counter*\n",
    "  (cl-transforms-stamped:make-pose-stamped\n",
    "   \"map\" 0.0\n",
    "   (cl-transforms:make-3d-vector -1.8547d0 -0.381d0 0.0d0)\n",
    "   (cl-transforms:axis-angle->quaternion (cl-transforms:make-3d-vector 0 0 1) (/ pi -2))))\n",
    "\n",
    "(defun spawn-two-bottles ()\n",
    "  (unless (assoc :bottle btr::*mesh-files*)\n",
    "    (add-objects-to-mesh-list))\n",
    "  (prolog:prolog\n",
    "   `(and (btr:bullet-world ?world)\n",
    "         (assert (btr:object ?world :mesh bottle-1 ((-2 -0.9 0.860) (0 0 0 1))\n",
    "                             :mass 0.2 :color (1 0 0) :mesh :bottle))\n",
    "         (assert (btr:object ?world :mesh bottle-2 ((-0.8 2 0.9) (0 0 0 1))\n",
    "                             :mass 0.2 :color (0 1 0) :mesh :bottle))\n",
    "         (btr:simulate ?world 100))))\n",
    "\n",
    "(defun navigate-to (?navigation-goal)\n",
    "  (exe:perform (desig:a motion\n",
    "                        (type going)\n",
    "                        (pose ?navigation-goal))))\n",
    "\n",
    "(defun look-at (?point-of-interest)\n",
    "  (exe:perform (desig:a motion\n",
    "                        (type looking)\n",
    "                        (pose ?point-of-interest))))\n",
    "\n",
    "(defun get-perceived-bottle-desig ()\n",
    "  (let* ((?bottle-desig (desig:an object (type bottle)))\n",
    "         (?perceived-bottle-desig (exe:perform\n",
    "                                   (desig:a motion\n",
    "                                            (type detecting)\n",
    "                                            (object ?bottle-desig)))))\n",
    "    ?perceived-bottle-desig))\n",
    "\n",
    "(defun pick-up (?object-designator &optional (?arm :right))\n",
    "  (exe:perform (desig:an action\n",
    "                         (type picking-up)\n",
    "                         (arm ?arm)\n",
    "                         (object ?object-designator))))\n",
    "\n",
    "(defun place-down (?pose ?object ?arm)\n",
    "  (exe:perform (desig:an action\n",
    "                         (type placing)\n",
    "                         (arm ?arm)\n",
    "                         (object ?object)\n",
    "                         (target (desig:a location (pose ?pose))))))\n",
    "\n",
    "(defun test-switch-two-bottles ()\n",
    "  (spawn-two-bottles)\n",
    "  (proj:with-projection-environment urdf-proj:urdf-bullet-projection-environment\n",
    "    (cpl:top-level\n",
    "      ;; Go to counter top and perceive bottle\n",
    "      (let ((?navigation-goal *pose-counter*)\n",
    "            (?ptu-goal \n",
    "              (cl-transforms-stamped:make-pose-stamped\n",
    "               \"base_footprint\"\n",
    "               0.0\n",
    "               (cl-transforms:make-3d-vector 0.65335d0 0.076d0 0.758d0)\n",
    "               (cl-transforms:make-identity-rotation))))\n",
    "        (cpl:par\n",
    "          ;; Move torso up\n",
    "          (exe:perform\n",
    "           (desig:a motion (type moving-torso) (joint-angle 0.3)))\n",
    "          (exe:perform\n",
    "           (desig:an action\n",
    "                     (type parking-arms)))\n",
    "          (navigate-to ?navigation-goal))\n",
    "        (look-at ?ptu-goal))\n",
    "      ;; Pick up bottle-1 with right arm.\n",
    "      (let ((?perceived-bottle-1 (get-perceived-bottle-desig)))\n",
    "        (pick-up ?perceived-bottle-1 :right)\n",
    "        (exe:perform\n",
    "         (desig:an action\n",
    "                   (type parking-arms)\n",
    "                   (arms (:right))))\n",
    "        ;; Move to the meal table\n",
    "        (let ((?pose *pose-meal-table*))\n",
    "          (navigate-to ?pose))\n",
    "        ;; Pick up bottle-2 with left arm\n",
    "        (let ((?perceived-bottle-2 (get-perceived-bottle-desig)))\n",
    "          (pick-up ?perceived-bottle-2 :left)\n",
    "          ;; Move left arm out of sight\n",
    "          (exe:perform\n",
    "           (desig:an action\n",
    "                     (type parking-arms)\n",
    "                     (arms (:left))))\n",
    "          ;; Place bottle-1 on second table\n",
    "          (let ((?drop-pose *pose-bottle-2*))\n",
    "            (place-down ?drop-pose ?perceived-bottle-1 :right))\n",
    "          ;; Move right arm out of sight\n",
    "          (exe:perform\n",
    "           (desig:an action\n",
    "                     (type parking-arms)\n",
    "                     (arms (:right))))\n",
    "          ;; Move to the counter table\n",
    "          (let ((?navigation-goal *pose-counter*))\n",
    "            (navigate-to ?navigation-goal))\n",
    "          ;; Place bottle-2 on the counter\n",
    "          (let ((?drop-pose *pose-bottle-1*))\n",
    "            (place-down ?drop-pose ?perceived-bottle-2 :left))\n",
    "          (exe:perform\n",
    "           (desig:an action\n",
    "                     (type parking-arms))))))))"
   ]
  }
 ],
 "metadata": {
  "kernelspec": {
   "display_name": "Common Lisp",
   "language": "common-lisp",
   "name": "common-lisp"
  },
  "language_info": {
   "codemirror_mode": "text/x-common-lisp",
   "file_extension": ".lisp",
   "mimetype": "text/x-common-lisp",
   "name": "common-lisp",
   "pygments_lexer": "common-lisp",
   "version": "2.0.1.debian"
  }
 },
 "nbformat": 4,
 "nbformat_minor": 5
}
