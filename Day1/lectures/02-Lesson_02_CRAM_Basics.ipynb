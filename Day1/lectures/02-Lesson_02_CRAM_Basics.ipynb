{
 "cells": [
  {
   "cell_type": "markdown",
   "id": "6c77e44b-8a55-4882-ba13-86275964de07",
   "metadata": {},
   "source": [
    "# Lesson 02 - CRAM Basics\n",
    "\n",
    "## Loading the tutorial package\n",
    "\n",
    "`ros-load:load-system` loads an ASDF (Another System Definition Facility) syste, from within a Catkin package."
   ]
  },
  {
   "cell_type": "code",
   "execution_count": 1,
   "id": "7da33bc2-df1f-41cc-8d61-a278e75990ea",
   "metadata": {
    "collapsed": true,
    "jupyter": {
     "outputs_hidden": true
    },
    "tags": []
   },
   "outputs": [
    {
     "data": {
      "text/plain": [
       "T"
      ]
     },
     "execution_count": 1,
     "metadata": {},
     "output_type": "execute_result"
    },
    {
     "name": "stdout",
     "output_type": "stream",
     "text": [
      "BAD-SYSTEM-NAME: System definition file #P\"/home/workspace/ros/src/cram/cram_3rdparty/cl_store/src/cl-store.asd\" contains definition for system \"cl-store-tests\". Please only define \"cl-store\" and secondary systems with a name starting with \"cl-store/\" (e.g. \"cl-store/test\") in that file.\n",
      "BAD-SYSTEM-NAME: System definition file #P\"/home/workspace/ros/src/cram/cram_3rdparty/split_sequence/src/split-sequence.asd\" contains definition for system \"split-sequence-tests\". Please only define \"split-sequence\" and secondary systems with a name starting with \"split-sequence/\" (e.g. \"split-sequence/test\") in that file.\n",
      "BAD-SYSTEM-NAME: System definition file #P\"/home/workspace/ros/src/cram/cram_3rdparty/cl_ppcre/src/cl-ppcre.asd\" contains definition for system \"cl-ppcre-test\". Please only define \"cl-ppcre\" and secondary systems with a name starting with \"cl-ppcre/\" (e.g. \"cl-ppcre/test\") in that file.\n",
      "SB-KERNEL:REDEFINITION-WITH-DEFUN: redefining CRAM-MANIPULATION-INTERFACES::SYMBOL-TO-PROLOG-RULE in DEFUN\n",
      "SB-KERNEL:REDEFINITION-WITH-DEFMETHOD: redefining LISP-UNIT:NUMERICAL-EQUAL (#<STANDARD-CLASS GRID:FOREIGN-ARRAY>\n",
      "                                                                             #<STANDARD-CLASS GRID:FOREIGN-ARRAY>) in DEFMETHOD\n",
      "SB-KERNEL:REDEFINITION-WITH-DEFMETHOD: redefining CRAM-MANIPULATION-INTERFACES:GET-OBJECT-TYPE-TO-GRIPPER-TRANSFORM (#<SB-MOP:EQL-SPECIALIZER :CUTLERY>\n",
      "                                                                                                                     #<SB-PCL:SYSTEM-CLASS COMMON-LISP:T>\n",
      "                                                                                                                     #<SB-MOP:EQL-SPECIALIZER :LEFT>\n",
      "                                                                                                                     #<SB-MOP:EQL-SPECIALIZER :TOP>) in DEFMETHOD\n",
      "SB-KERNEL:REDEFINITION-WITH-DEFMETHOD: redefining CRAM-MANIPULATION-INTERFACES:GET-OBJECT-TYPE-TO-GRIPPER-TRANSFORM (#<SB-MOP:EQL-SPECIALIZER :CUTLERY>\n",
      "                                                                                                                     #<SB-PCL:SYSTEM-CLASS COMMON-LISP:T>\n",
      "                                                                                                                     #<SB-MOP:EQL-SPECIALIZER :RIGHT>\n",
      "                                                                                                                     #<SB-MOP:EQL-SPECIALIZER :TOP>) in DEFMETHOD\n",
      "SB-KERNEL:REDEFINITION-WITH-DEFMETHOD: redefining CRAM-MANIPULATION-INTERFACES:GET-OBJECT-TYPE-TO-GRIPPER-TRANSFORM (#<SB-MOP:EQL-SPECIALIZER :FORK>\n",
      "                                                                                                                     #<SB-PCL:SYSTEM-CLASS COMMON-LISP:T>\n",
      "                                                                                                                     #<SB-MOP:EQL-SPECIALIZER :LEFT>\n",
      "                                                                                                                     #<SB-MOP:EQL-SPECIALIZER :TOP>) in DEFMETHOD\n",
      "SB-KERNEL:REDEFINITION-WITH-DEFMETHOD: redefining CRAM-MANIPULATION-INTERFACES:GET-OBJECT-TYPE-TO-GRIPPER-TRANSFORM (#<SB-MOP:EQL-SPECIALIZER :FORK>\n",
      "                                                                                                                     #<SB-PCL:SYSTEM-CLASS COMMON-LISP:T>\n",
      "                                                                                                                     #<SB-MOP:EQL-SPECIALIZER :RIGHT>\n",
      "                                                                                                                     #<SB-MOP:EQL-SPECIALIZER :TOP>) in DEFMETHOD\n",
      "SB-KERNEL:REDEFINITION-WITH-DEFMETHOD: redefining CRAM-MANIPULATION-INTERFACES:GET-OBJECT-TYPE-TO-GRIPPER-TRANSFORM (#<SB-MOP:EQL-SPECIALIZER :KNIFE>\n",
      "                                                                                                                     #<SB-PCL:SYSTEM-CLASS COMMON-LISP:T>\n",
      "                                                                                                                     #<SB-MOP:EQL-SPECIALIZER :LEFT>\n",
      "                                                                                                                     #<SB-MOP:EQL-SPECIALIZER :TOP>) in DEFMETHOD\n",
      "SB-KERNEL:REDEFINITION-WITH-DEFMETHOD: redefining CRAM-MANIPULATION-INTERFACES:GET-OBJECT-TYPE-TO-GRIPPER-TRANSFORM (#<SB-MOP:EQL-SPECIALIZER :KNIFE>\n",
      "                                                                                                                     #<SB-PCL:SYSTEM-CLASS COMMON-LISP:T>\n",
      "                                                                                                                     #<SB-MOP:EQL-SPECIALIZER :RIGHT>\n",
      "                                                                                                                     #<SB-MOP:EQL-SPECIALIZER :TOP>) in DEFMETHOD\n",
      "SB-KERNEL:REDEFINITION-WITH-DEFMETHOD: redefining CRAM-MANIPULATION-INTERFACES:GET-OBJECT-TYPE-TO-GRIPPER-TRANSFORM (#<SB-MOP:EQL-SPECIALIZER :SPOON>\n",
      "                                                                                                                     #<SB-PCL:SYSTEM-CLASS COMMON-LISP:T>\n",
      "                                                                                                                     #<SB-MOP:EQL-SPECIALIZER :LEFT>\n",
      "                                                                                                                     #<SB-MOP:EQL-SPECIALIZER :TOP>) in DEFMETHOD\n",
      "SB-KERNEL:REDEFINITION-WITH-DEFMETHOD: redefining CRAM-MANIPULATION-INTERFACES:GET-OBJECT-TYPE-TO-GRIPPER-TRANSFORM (#<SB-MOP:EQL-SPECIALIZER :SPOON>\n",
      "                                                                                                                     #<SB-PCL:SYSTEM-CLASS COMMON-LISP:T>\n",
      "                                                                                                                     #<SB-MOP:EQL-SPECIALIZER :RIGHT>\n",
      "                                                                                                                     #<SB-MOP:EQL-SPECIALIZER :TOP>) in DEFMETHOD\n",
      "SB-KERNEL:REDEFINITION-WITH-DEFMETHOD: redefining CRAM-MANIPULATION-INTERFACES:GET-OBJECT-TYPE-TO-GRIPPER-TRANSFORM (#<SB-MOP:EQL-SPECIALIZER :SPATULA>\n",
      "                                                                                                                     #<SB-PCL:SYSTEM-CLASS COMMON-LISP:T>\n",
      "                                                                                                                     #<SB-MOP:EQL-SPECIALIZER :LEFT>\n",
      "                                                                                                                     #<SB-MOP:EQL-SPECIALIZER :TOP>) in DEFMETHOD\n",
      "SB-KERNEL:REDEFINITION-WITH-DEFMETHOD: redefining CRAM-MANIPULATION-INTERFACES:GET-OBJECT-TYPE-TO-GRIPPER-TRANSFORM (#<SB-MOP:EQL-SPECIALIZER :SPATULA>\n",
      "                                                                                                                     #<SB-PCL:SYSTEM-CLASS COMMON-LISP:T>\n",
      "                                                                                                                     #<SB-MOP:EQL-SPECIALIZER :RIGHT>\n",
      "                                                                                                                     #<SB-MOP:EQL-SPECIALIZER :TOP>) in DEFMETHOD\n",
      "SB-KERNEL:REDEFINITION-WITH-DEFMETHOD: redefining CRAM-MANIPULATION-INTERFACES:GET-OBJECT-TYPE-TO-GRIPPER-TRANSFORM (#<SB-MOP:EQL-SPECIALIZER :CEREAL>\n",
      "                                                                                                                     #<SB-PCL:SYSTEM-CLASS COMMON-LISP:T>\n",
      "                                                                                                                     #<SB-MOP:EQL-SPECIALIZER :LEFT>\n",
      "                                                                                                                     #<SB-MOP:EQL-SPECIALIZER :FRONT>) in DEFMETHOD\n",
      "SB-KERNEL:REDEFINITION-WITH-DEFMETHOD: redefining CRAM-MANIPULATION-INTERFACES:GET-OBJECT-TYPE-TO-GRIPPER-TRANSFORM (#<SB-MOP:EQL-SPECIALIZER :CEREAL>\n",
      "                                                                                                                     #<SB-PCL:SYSTEM-CLASS COMMON-LISP:T>\n",
      "                                                                                                                     #<SB-MOP:EQL-SPECIALIZER :RIGHT>\n",
      "                                                                                                                     #<SB-MOP:EQL-SPECIALIZER :FRONT>) in DEFMETHOD\n",
      "SB-KERNEL:REDEFINITION-WITH-DEFMETHOD: redefining CRAM-MANIPULATION-INTERFACES:GET-OBJECT-TYPE-TO-GRIPPER-TRANSFORM (#<SB-MOP:EQL-SPECIALIZER :BREAKFAST-CEREAL>\n",
      "                                                                                                                     #<SB-PCL:SYSTEM-CLASS COMMON-LISP:T>\n",
      "                                                                                                                     #<SB-MOP:EQL-SPECIALIZER :LEFT>\n",
      "                                                                                                                     #<SB-MOP:EQL-SPECIALIZER :FRONT>) in DEFMETHOD\n",
      "SB-KERNEL:REDEFINITION-WITH-DEFMETHOD: redefining CRAM-MANIPULATION-INTERFACES:GET-OBJECT-TYPE-TO-GRIPPER-TRANSFORM (#<SB-MOP:EQL-SPECIALIZER :BREAKFAST-CEREAL>\n",
      "                                                                                                                     #<SB-PCL:SYSTEM-CLASS COMMON-LISP:T>\n",
      "                                                                                                                     #<SB-MOP:EQL-SPECIALIZER :RIGHT>\n",
      "                                                                                                                     #<SB-MOP:EQL-SPECIALIZER :FRONT>) in DEFMETHOD\n",
      "SB-KERNEL:REDEFINITION-WITH-DEFMETHOD: redefining CRAM-MANIPULATION-INTERFACES:GET-OBJECT-TYPE-TO-GRIPPER-TRANSFORM (#<SB-MOP:EQL-SPECIALIZER :CEREAL>\n",
      "                                                                                                                     #<SB-PCL:SYSTEM-CLASS COMMON-LISP:T>\n",
      "                                                                                                                     #<SB-MOP:EQL-SPECIALIZER :LEFT>\n",
      "                                                                                                                     #<SB-MOP:EQL-SPECIALIZER :BACK>) in DEFMETHOD\n",
      "SB-KERNEL:REDEFINITION-WITH-DEFMETHOD: redefining CRAM-MANIPULATION-INTERFACES:GET-OBJECT-TYPE-TO-GRIPPER-TRANSFORM (#<SB-MOP:EQL-SPECIALIZER :CEREAL>\n",
      "                                                                                                                     #<SB-PCL:SYSTEM-CLASS COMMON-LISP:T>\n",
      "                                                                                                                     #<SB-MOP:EQL-SPECIALIZER :RIGHT>\n",
      "                                                                                                                     #<SB-MOP:EQL-SPECIALIZER :BACK>) in DEFMETHOD\n",
      "SB-KERNEL:REDEFINITION-WITH-DEFMETHOD: redefining CRAM-MANIPULATION-INTERFACES:GET-OBJECT-TYPE-TO-GRIPPER-TRANSFORM (#<SB-MOP:EQL-SPECIALIZER :BREAKFAST-CEREAL>\n",
      "                                                                                                                     #<SB-PCL:SYSTEM-CLASS COMMON-LISP:T>\n",
      "                                                                                                                     #<SB-MOP:EQL-SPECIALIZER :LEFT>\n",
      "                                                                                                                     #<SB-MOP:EQL-SPECIALIZER :BACK>) in DEFMETHOD\n",
      "SB-KERNEL:REDEFINITION-WITH-DEFMETHOD: redefining CRAM-MANIPULATION-INTERFACES:GET-OBJECT-TYPE-TO-GRIPPER-TRANSFORM (#<SB-MOP:EQL-SPECIALIZER :BREAKFAST-CEREAL>\n",
      "                                                                                                                     #<SB-PCL:SYSTEM-CLASS COMMON-LISP:T>\n",
      "                                                                                                                     #<SB-MOP:EQL-SPECIALIZER :RIGHT>\n",
      "                                                                                                                     #<SB-MOP:EQL-SPECIALIZER :BACK>) in DEFMETHOD\n",
      "SB-KERNEL:REDEFINITION-WITH-DEFMETHOD: redefining CRAM-MANIPULATION-INTERFACES:GET-OBJECT-TYPE-TO-GRIPPER-TRANSFORM (#<SB-MOP:EQL-SPECIALIZER :BOWL>\n",
      "                                                                                                                     #<SB-PCL:SYSTEM-CLASS COMMON-LISP:T>\n",
      "                                                                                                                     #<SB-MOP:EQL-SPECIALIZER :LEFT>\n",
      "                                                                                                                     #<SB-MOP:EQL-SPECIALIZER :TOP>) in DEFMETHOD\n",
      "SB-KERNEL:REDEFINITION-WITH-DEFMETHOD: redefining CRAM-MANIPULATION-INTERFACES:GET-OBJECT-TYPE-TO-GRIPPER-TRANSFORM (#<SB-MOP:EQL-SPECIALIZER :BOWL>\n",
      "                                                                                                                     #<SB-PCL:SYSTEM-CLASS COMMON-LISP:T>\n",
      "                                                                                                                     #<SB-MOP:EQL-SPECIALIZER :RIGHT>\n",
      "                                                                                                                     #<SB-MOP:EQL-SPECIALIZER :TOP>) in DEFMETHOD\n",
      "SB-KERNEL:REDEFINITION-WITH-DEFMETHOD: redefining CRAM-MANIPULATION-INTERFACES:GET-OBJECT-TYPE-TO-GRIPPER-TRANSFORM (#<SB-MOP:EQL-SPECIALIZER :BOWL>\n",
      "                                                                                                                     #<SB-PCL:SYSTEM-CLASS COMMON-LISP:T>\n",
      "                                                                                                                     #<SB-MOP:EQL-SPECIALIZER :LEFT>\n",
      "                                                                                                                     #<SB-MOP:EQL-SPECIALIZER :TOP-FRONT>) in DEFMETHOD\n",
      "SB-KERNEL:REDEFINITION-WITH-DEFMETHOD: redefining CRAM-MANIPULATION-INTERFACES:GET-OBJECT-TYPE-TO-GRIPPER-TRANSFORM (#<SB-MOP:EQL-SPECIALIZER :BOWL>\n",
      "                                                                                                                     #<SB-PCL:SYSTEM-CLASS COMMON-LISP:T>\n",
      "                                                                                                                     #<SB-MOP:EQL-SPECIALIZER :RIGHT>\n",
      "                                                                                                                     #<SB-MOP:EQL-SPECIALIZER :TOP-FRONT>) in DEFMETHOD\n",
      "SB-KERNEL:REDEFINITION-WITH-DEFMETHOD: redefining CRAM-MANIPULATION-INTERFACES:GET-OBJECT-TYPE-TO-GRIPPER-TRANSFORM (#<SB-MOP:EQL-SPECIALIZER :BOWL>\n",
      "                                                                                                                     #<SB-PCL:SYSTEM-CLASS COMMON-LISP:T>\n",
      "                                                                                                                     #<SB-MOP:EQL-SPECIALIZER :LEFT>\n",
      "                                                                                                                     #<SB-MOP:EQL-SPECIALIZER :TOP-LEFT>) in DEFMETHOD\n",
      "SB-KERNEL:REDEFINITION-WITH-DEFMETHOD: redefining CRAM-MANIPULATION-INTERFACES:GET-OBJECT-TYPE-TO-GRIPPER-TRANSFORM (#<SB-MOP:EQL-SPECIALIZER :BOWL>\n",
      "                                                                                                                     #<SB-PCL:SYSTEM-CLASS COMMON-LISP:T>\n",
      "                                                                                                                     #<SB-MOP:EQL-SPECIALIZER :RIGHT>\n",
      "                                                                                                                     #<SB-MOP:EQL-SPECIALIZER :TOP-LEFT>) in DEFMETHOD\n",
      "SB-KERNEL:REDEFINITION-WITH-DEFMETHOD: redefining CRAM-MANIPULATION-INTERFACES:GET-OBJECT-TYPE-TO-GRIPPER-TRANSFORM (#<SB-MOP:EQL-SPECIALIZER :BOWL>\n",
      "                                                                                                                     #<SB-PCL:SYSTEM-CLASS COMMON-LISP:T>\n",
      "                                                                                                                     #<SB-MOP:EQL-SPECIALIZER :LEFT>\n",
      "                                                                                                                     #<SB-MOP:EQL-SPECIALIZER :TOP-RIGHT>) in DEFMETHOD\n",
      "SB-KERNEL:REDEFINITION-WITH-DEFMETHOD: redefining CRAM-MANIPULATION-INTERFACES:GET-OBJECT-TYPE-TO-GRIPPER-TRANSFORM (#<SB-MOP:EQL-SPECIALIZER :BOWL>\n",
      "                                                                                                                     #<SB-PCL:SYSTEM-CLASS COMMON-LISP:T>\n",
      "                                                                                                                     #<SB-MOP:EQL-SPECIALIZER :RIGHT>\n",
      "                                                                                                                     #<SB-MOP:EQL-SPECIALIZER :TOP-RIGHT>) in DEFMETHOD\n",
      "SB-KERNEL:REDEFINITION-WITH-DEFMETHOD: redefining CRAM-MANIPULATION-INTERFACES:GET-OBJECT-TYPE-TO-GRIPPER-TRANSFORM (#<SB-MOP:EQL-SPECIALIZER :BOLT>\n",
      "                                                                                                                     #<SB-PCL:SYSTEM-CLASS COMMON-LISP:T>\n",
      "                                                                                                                     #<SB-MOP:EQL-SPECIALIZER :LEFT>\n",
      "                                                                                                                     #<SB-MOP:EQL-SPECIALIZER :TOP>) in DEFMETHOD\n",
      "SB-KERNEL:REDEFINITION-WITH-DEFMETHOD: redefining CRAM-MANIPULATION-INTERFACES:GET-OBJECT-TYPE-TO-GRIPPER-TRANSFORM (#<SB-MOP:EQL-SPECIALIZER :BOLT>\n",
      "                                                                                                                     #<SB-PCL:SYSTEM-CLASS COMMON-LISP:T>\n",
      "                                                                                                                     #<SB-MOP:EQL-SPECIALIZER :RIGHT>\n",
      "                                                                                                                     #<SB-MOP:EQL-SPECIALIZER :TOP>) in DEFMETHOD\n",
      "SB-INT:SIMPLE-STYLE-WARNING: Redefining prolog fact-group ATTACHMENT-KNOWLEDGE.\n",
      "SB-KERNEL:REDEFINITION-WITH-DEFMETHOD: redefining CRAM-MANIPULATION-INTERFACES:GET-OBJECT-TYPE-TO-GRIPPER-TRANSFORM (#<SB-MOP:EQL-SPECIALIZER :DISH-WASHER-TABS>\n",
      "                                                                                                                     #<SB-PCL:SYSTEM-CLASS COMMON-LISP:T>\n",
      "                                                                                                                     #<SB-MOP:EQL-SPECIALIZER :LEFT>\n",
      "                                                                                                                     #<SB-MOP:EQL-SPECIALIZER :FRONT>) in DEFMETHOD\n",
      "SB-KERNEL:REDEFINITION-WITH-DEFMETHOD: redefining CRAM-MANIPULATION-INTERFACES:GET-OBJECT-TYPE-TO-GRIPPER-TRANSFORM (#<SB-MOP:EQL-SPECIALIZER :DISH-WASHER-TABS>\n",
      "                                                                                                                     #<SB-PCL:SYSTEM-CLASS COMMON-LISP:T>\n",
      "                                                                                                                     #<SB-MOP:EQL-SPECIALIZER :RIGHT>\n",
      "                                                                                                                     #<SB-MOP:EQL-SPECIALIZER :FRONT>) in DEFMETHOD\n",
      "SB-KERNEL:REDEFINITION-WITH-DEFMETHOD: redefining CRAM-MANIPULATION-INTERFACES:GET-OBJECT-TYPE-TO-GRIPPER-TRANSFORM (#<SB-MOP:EQL-SPECIALIZER :DISH-WASHER-TABS>\n",
      "                                                                                                                     #<SB-PCL:SYSTEM-CLASS COMMON-LISP:T>\n",
      "                                                                                                                     #<SB-PCL:SYSTEM-CLASS COMMON-LISP:T>\n",
      "                                                                                                                     #<SB-MOP:EQL-SPECIALIZER :BACK>) in DEFMETHOD\n",
      "SB-KERNEL:REDEFINITION-WITH-DEFMETHOD: redefining CRAM-MANIPULATION-INTERFACES:GET-OBJECT-TYPE-TO-GRIPPER-TRANSFORM (#<SB-MOP:EQL-SPECIALIZER :DOMESTOS-ALLZWECKREINIGER>\n",
      "                                                                                                                     #<SB-PCL:SYSTEM-CLASS COMMON-LISP:T>\n",
      "                                                                                                                     #<SB-MOP:EQL-SPECIALIZER :LEFT>\n",
      "                                                                                                                     #<SB-MOP:EQL-SPECIALIZER :BACK>) in DEFMETHOD\n",
      "SB-KERNEL:REDEFINITION-WITH-DEFMETHOD: redefining CRAM-MANIPULATION-INTERFACES:GET-OBJECT-TYPE-TO-GRIPPER-PREGRASP-TRANSFORMS (#<SB-MOP:EQL-SPECIALIZER :DOMESTOS-ALLZWECKREINIGER>\n",
      "                                                                                                                               #<SB-PCL:SYSTEM-CLASS COMMON-LISP:T>\n",
      "                                                                                                                               #<SB-MOP:EQL-SPECIALIZER :LEFT>\n",
      "                                                                                                                               #<SB-MOP:EQL-SPECIALIZER :BACK>\n",
      "                                                                                                                               #<SB-PCL:SYSTEM-CLASS COMMON-LISP:T>\n",
      "                                                                                                                               #<SB-PCL:SYSTEM-CLASS COMMON-LISP:T>) in DEFMETHOD\n",
      "SB-KERNEL:REDEFINITION-WITH-DEFMETHOD: redefining CRAM-MANIPULATION-INTERFACES:GET-OBJECT-TYPE-WRT-BASE-FRAME-LIFT-TRANSFORMS (#<SB-MOP:EQL-SPECIALIZER :DOMESTOS-ALLZWECKREINIGER>\n",
      "                                                                                                                               #<SB-MOP:EQL-SPECIALIZER :LEFT>\n",
      "                                                                                                                               #<SB-MOP:EQL-SPECIALIZER :BACK>\n",
      "                                                                                                                               #<SB-PCL:SYSTEM-CLASS COMMON-LISP:T>) in DEFMETHOD\n",
      "SB-KERNEL:REDEFINITION-WITH-DEFMETHOD: redefining CRAM-MANIPULATION-INTERFACES:GET-OBJECT-TYPE-TO-GRIPPER-TRANSFORM (#<SB-MOP:EQL-SPECIALIZER :DOMESTOS-ALLZWECKREINIGER>\n",
      "                                                                                                                     #<SB-PCL:SYSTEM-CLASS COMMON-LISP:T>\n",
      "                                                                                                                     #<SB-MOP:EQL-SPECIALIZER :RIGHT>\n",
      "                                                                                                                     #<SB-MOP:EQL-SPECIALIZER :BACK>) in DEFMETHOD\n",
      "SB-KERNEL:REDEFINITION-WITH-DEFMETHOD: redefining CRAM-MANIPULATION-INTERFACES:GET-OBJECT-TYPE-TO-GRIPPER-PREGRASP-TRANSFORMS (#<SB-MOP:EQL-SPECIALIZER :DOMESTOS-ALLZWECKREINIGER>\n",
      "                                                                                                                               #<SB-PCL:SYSTEM-CLASS COMMON-LISP:T>\n",
      "                                                                                                                               #<SB-MOP:EQL-SPECIALIZER :RIGHT>\n",
      "                                                                                                                               #<SB-MOP:EQL-SPECIALIZER :BACK>\n",
      "                                                                                                                               #<SB-PCL:SYSTEM-CLASS COMMON-LISP:T>\n",
      "                                                                                                                               #<SB-PCL:SYSTEM-CLASS COMMON-LISP:T>) in DEFMETHOD\n",
      "SB-KERNEL:REDEFINITION-WITH-DEFMETHOD: redefining CRAM-MANIPULATION-INTERFACES:GET-OBJECT-TYPE-WRT-BASE-FRAME-LIFT-TRANSFORMS (#<SB-MOP:EQL-SPECIALIZER :DOMESTOS-ALLZWECKREINIGER>\n",
      "                                                                                                                               #<SB-MOP:EQL-SPECIALIZER :RIGHT>\n",
      "                                                                                                                               #<SB-MOP:EQL-SPECIALIZER :BACK>\n",
      "                                                                                                                               #<SB-PCL:SYSTEM-CLASS COMMON-LISP:T>) in DEFMETHOD\n",
      "SB-KERNEL:REDEFINITION-WITH-DEFMETHOD: redefining CRAM-MANIPULATION-INTERFACES:GET-OBJECT-TYPE-TO-GRIPPER-TRANSFORM (#<SB-MOP:EQL-SPECIALIZER :DOMESTOS-ALLZWECKREINIGER>\n",
      "                                                                                                                     #<SB-PCL:SYSTEM-CLASS COMMON-LISP:T>\n",
      "                                                                                                                     #<SB-MOP:EQL-SPECIALIZER :LEFT>\n",
      "                                                                                                                     #<SB-MOP:EQL-SPECIALIZER :FRONT>) in DEFMETHOD\n",
      "SB-KERNEL:REDEFINITION-WITH-DEFMETHOD: redefining CRAM-MANIPULATION-INTERFACES:GET-OBJECT-TYPE-TO-GRIPPER-PREGRASP-TRANSFORMS (#<SB-MOP:EQL-SPECIALIZER :DOMESTOS-ALLZWECKREINIGER>\n",
      "                                                                                                                               #<SB-PCL:SYSTEM-CLASS COMMON-LISP:T>\n",
      "                                                                                                                               #<SB-MOP:EQL-SPECIALIZER :LEFT>\n",
      "                                                                                                                               #<SB-MOP:EQL-SPECIALIZER :FRONT>\n",
      "                                                                                                                               #<SB-PCL:SYSTEM-CLASS COMMON-LISP:T>\n",
      "                                                                                                                               #<SB-PCL:SYSTEM-CLASS COMMON-LISP:T>) in DEFMETHOD\n",
      "SB-KERNEL:REDEFINITION-WITH-DEFMETHOD: redefining CRAM-MANIPULATION-INTERFACES:GET-OBJECT-TYPE-WRT-BASE-FRAME-LIFT-TRANSFORMS (#<SB-MOP:EQL-SPECIALIZER :DOMESTOS-ALLZWECKREINIGER>\n",
      "                                                                                                                               #<SB-MOP:EQL-SPECIALIZER :LEFT>\n",
      "                                                                                                                               #<SB-MOP:EQL-SPECIALIZER :FRONT>\n",
      "                                                                                                                               #<SB-PCL:SYSTEM-CLASS COMMON-LISP:T>) in DEFMETHOD\n",
      "SB-KERNEL:REDEFINITION-WITH-DEFMETHOD: redefining CRAM-MANIPULATION-INTERFACES:GET-OBJECT-TYPE-TO-GRIPPER-TRANSFORM (#<SB-MOP:EQL-SPECIALIZER :DOMESTOS-ALLZWECKREINIGER>\n",
      "                                                                                                                     #<SB-PCL:SYSTEM-CLASS COMMON-LISP:T>\n",
      "                                                                                                                     #<SB-MOP:EQL-SPECIALIZER :RIGHT>\n",
      "                                                                                                                     #<SB-MOP:EQL-SPECIALIZER :FRONT>) in DEFMETHOD\n",
      "SB-KERNEL:REDEFINITION-WITH-DEFMETHOD: redefining CRAM-MANIPULATION-INTERFACES:GET-OBJECT-TYPE-TO-GRIPPER-PREGRASP-TRANSFORMS (#<SB-MOP:EQL-SPECIALIZER :DOMESTOS-ALLZWECKREINIGER>\n",
      "                                                                                                                               #<SB-PCL:SYSTEM-CLASS COMMON-LISP:T>\n",
      "                                                                                                                               #<SB-MOP:EQL-SPECIALIZER :RIGHT>\n",
      "                                                                                                                               #<SB-MOP:EQL-SPECIALIZER :FRONT>\n",
      "                                                                                                                               #<SB-PCL:SYSTEM-CLASS COMMON-LISP:T>\n",
      "                                                                                                                               #<SB-PCL:SYSTEM-CLASS COMMON-LISP:T>) in DEFMETHOD\n",
      "SB-KERNEL:REDEFINITION-WITH-DEFMETHOD: redefining CRAM-MANIPULATION-INTERFACES:GET-OBJECT-TYPE-WRT-BASE-FRAME-LIFT-TRANSFORMS (#<SB-MOP:EQL-SPECIALIZER :DOMESTOS-ALLZWECKREINIGER>\n",
      "                                                                                                                               #<SB-MOP:EQL-SPECIALIZER :RIGHT>\n",
      "                                                                                                                               #<SB-MOP:EQL-SPECIALIZER :FRONT>\n",
      "                                                                                                                               #<SB-PCL:SYSTEM-CLASS COMMON-LISP:T>) in DEFMETHOD\n",
      "SB-KERNEL:REDEFINITION-WITH-DEFMETHOD: redefining CRAM-MANIPULATION-INTERFACES:GET-OBJECT-TYPE-TO-GRIPPER-TRANSFORM (#<SB-MOP:EQL-SPECIALIZER :HEITMANN-CITRONENSAEURE>\n",
      "                                                                                                                     #<SB-PCL:SYSTEM-CLASS COMMON-LISP:T>\n",
      "                                                                                                                     #<SB-MOP:EQL-SPECIALIZER :LEFT>\n",
      "                                                                                                                     #<SB-MOP:EQL-SPECIALIZER :LEFT-SIDE>) in DEFMETHOD\n",
      "SB-KERNEL:REDEFINITION-WITH-DEFMETHOD: redefining CRAM-MANIPULATION-INTERFACES:GET-OBJECT-TYPE-TO-GRIPPER-PREGRASP-TRANSFORMS (#<SB-MOP:EQL-SPECIALIZER :HEITMANN-CITRONENSAEURE>\n",
      "                                                                                                                               #<SB-PCL:SYSTEM-CLASS COMMON-LISP:T>\n",
      "                                                                                                                               #<SB-MOP:EQL-SPECIALIZER :LEFT>\n",
      "                                                                                                                               #<SB-MOP:EQL-SPECIALIZER :LEFT-SIDE>\n",
      "                                                                                                                               #<SB-PCL:SYSTEM-CLASS COMMON-LISP:T>\n",
      "                                                                                                                               #<SB-PCL:SYSTEM-CLASS COMMON-LISP:T>) in DEFMETHOD\n",
      "SB-KERNEL:REDEFINITION-WITH-DEFMETHOD: redefining CRAM-MANIPULATION-INTERFACES:GET-OBJECT-TYPE-WRT-BASE-FRAME-LIFT-TRANSFORMS (#<SB-MOP:EQL-SPECIALIZER :HEITMANN-CITRONENSAEURE>\n",
      "                                                                                                                               #<SB-MOP:EQL-SPECIALIZER :LEFT>\n",
      "                                                                                                                               #<SB-MOP:EQL-SPECIALIZER :LEFT-SIDE>\n",
      "                                                                                                                               #<SB-PCL:SYSTEM-CLASS COMMON-LISP:T>) in DEFMETHOD\n",
      "SB-KERNEL:REDEFINITION-WITH-DEFMETHOD: redefining CRAM-MANIPULATION-INTERFACES:GET-OBJECT-TYPE-TO-GRIPPER-TRANSFORM (#<SB-MOP:EQL-SPECIALIZER :HEITMANN-CITRONENSAEURE>\n",
      "                                                                                                                     #<SB-PCL:SYSTEM-CLASS COMMON-LISP:T>\n",
      "                                                                                                                     #<SB-MOP:EQL-SPECIALIZER :RIGHT>\n",
      "                                                                                                                     #<SB-MOP:EQL-SPECIALIZER :LEFT-SIDE>) in DEFMETHOD\n",
      "SB-KERNEL:REDEFINITION-WITH-DEFMETHOD: redefining CRAM-MANIPULATION-INTERFACES:GET-OBJECT-TYPE-TO-GRIPPER-PREGRASP-TRANSFORMS (#<SB-MOP:EQL-SPECIALIZER :HEITMANN-CITRONENSAEURE>\n",
      "                                                                                                                               #<SB-PCL:SYSTEM-CLASS COMMON-LISP:T>\n",
      "                                                                                                                               #<SB-MOP:EQL-SPECIALIZER :RIGHT>\n",
      "                                                                                                                               #<SB-MOP:EQL-SPECIALIZER :LEFT-SIDE>\n",
      "                                                                                                                               #<SB-PCL:SYSTEM-CLASS COMMON-LISP:T>\n",
      "                                                                                                                               #<SB-PCL:SYSTEM-CLASS COMMON-LISP:T>) in DEFMETHOD\n",
      "SB-KERNEL:REDEFINITION-WITH-DEFMETHOD: redefining CRAM-MANIPULATION-INTERFACES:GET-OBJECT-TYPE-WRT-BASE-FRAME-LIFT-TRANSFORMS (#<SB-MOP:EQL-SPECIALIZER :HEITMANN-CITRONENSAEURE>\n",
      "                                                                                                                               #<SB-MOP:EQL-SPECIALIZER :RIGHT>\n",
      "                                                                                                                               #<SB-MOP:EQL-SPECIALIZER :LEFT-SIDE>\n",
      "                                                                                                                               #<SB-PCL:SYSTEM-CLASS COMMON-LISP:T>) in DEFMETHOD\n",
      "SB-KERNEL:REDEFINITION-WITH-DEFMETHOD: redefining CRAM-MANIPULATION-INTERFACES:GET-OBJECT-TYPE-TO-GRIPPER-TRANSFORM (#<SB-MOP:EQL-SPECIALIZER :DOMESTOS-ALLZWECKREINIGER>\n",
      "                                                                                                                     #<SB-PCL:SYSTEM-CLASS COMMON-LISP:T>\n",
      "                                                                                                                     #<SB-MOP:EQL-SPECIALIZER :LEFT>\n",
      "                                                                                                                     #<SB-MOP:EQL-SPECIALIZER :LEFT-SIDE>) in DEFMETHOD\n",
      "SB-KERNEL:REDEFINITION-WITH-DEFMETHOD: redefining CRAM-MANIPULATION-INTERFACES:GET-OBJECT-TYPE-TO-GRIPPER-PREGRASP-TRANSFORMS (#<SB-MOP:EQL-SPECIALIZER :DOMESTOS-ALLZWECKREINIGER>\n",
      "                                                                                                                               #<SB-PCL:SYSTEM-CLASS COMMON-LISP:T>\n",
      "                                                                                                                               #<SB-MOP:EQL-SPECIALIZER :LEFT>\n",
      "                                                                                                                               #<SB-MOP:EQL-SPECIALIZER :LEFT-SIDE>\n",
      "                                                                                                                               #<SB-PCL:SYSTEM-CLASS COMMON-LISP:T>\n",
      "                                                                                                                               #<SB-PCL:SYSTEM-CLASS COMMON-LISP:T>) in DEFMETHOD\n",
      "SB-KERNEL:REDEFINITION-WITH-DEFMETHOD: redefining CRAM-MANIPULATION-INTERFACES:GET-OBJECT-TYPE-WRT-BASE-FRAME-LIFT-TRANSFORMS (#<SB-MOP:EQL-SPECIALIZER :DOMESTOS-ALLZWECKREINIGER>\n",
      "                                                                                                                               #<SB-MOP:EQL-SPECIALIZER :LEFT>\n",
      "                                                                                                                               #<SB-MOP:EQL-SPECIALIZER :LEFT-SIDE>\n",
      "                                                                                                                               #<SB-PCL:SYSTEM-CLASS COMMON-LISP:T>) in DEFMETHOD\n",
      "SB-KERNEL:REDEFINITION-WITH-DEFMETHOD: redefining CRAM-MANIPULATION-INTERFACES:GET-OBJECT-TYPE-TO-GRIPPER-TRANSFORM (#<SB-MOP:EQL-SPECIALIZER :DOMESTOS-ALLZWECKREINIGER>\n",
      "                                                                                                                     #<SB-PCL:SYSTEM-CLASS COMMON-LISP:T>\n",
      "                                                                                                                     #<SB-MOP:EQL-SPECIALIZER :RIGHT>\n",
      "                                                                                                                     #<SB-MOP:EQL-SPECIALIZER :LEFT-SIDE>) in DEFMETHOD\n",
      "SB-KERNEL:REDEFINITION-WITH-DEFMETHOD: redefining CRAM-MANIPULATION-INTERFACES:GET-OBJECT-TYPE-TO-GRIPPER-PREGRASP-TRANSFORMS (#<SB-MOP:EQL-SPECIALIZER :DOMESTOS-ALLZWECKREINIGER>\n",
      "                                                                                                                               #<SB-PCL:SYSTEM-CLASS COMMON-LISP:T>\n",
      "                                                                                                                               #<SB-MOP:EQL-SPECIALIZER :RIGHT>\n",
      "                                                                                                                               #<SB-MOP:EQL-SPECIALIZER :LEFT-SIDE>\n",
      "                                                                                                                               #<SB-PCL:SYSTEM-CLASS COMMON-LISP:T>\n",
      "                                                                                                                               #<SB-PCL:SYSTEM-CLASS COMMON-LISP:T>) in DEFMETHOD\n",
      "SB-KERNEL:REDEFINITION-WITH-DEFMETHOD: redefining CRAM-MANIPULATION-INTERFACES:GET-OBJECT-TYPE-WRT-BASE-FRAME-LIFT-TRANSFORMS (#<SB-MOP:EQL-SPECIALIZER :DOMESTOS-ALLZWECKREINIGER>\n",
      "                                                                                                                               #<SB-MOP:EQL-SPECIALIZER :RIGHT>\n",
      "                                                                                                                               #<SB-MOP:EQL-SPECIALIZER :LEFT-SIDE>\n",
      "                                                                                                                               #<SB-PCL:SYSTEM-CLASS COMMON-LISP:T>) in DEFMETHOD\n",
      "SB-KERNEL:REDEFINITION-WITH-DEFMETHOD: redefining CRAM-MANIPULATION-INTERFACES:GET-OBJECT-TYPE-TO-GRIPPER-TRANSFORM (#<SB-MOP:EQL-SPECIALIZER :HEITMANN-CITRONENSAEURE>\n",
      "                                                                                                                     #<SB-PCL:SYSTEM-CLASS COMMON-LISP:T>\n",
      "                                                                                                                     #<SB-MOP:EQL-SPECIALIZER :LEFT>\n",
      "                                                                                                                     #<SB-MOP:EQL-SPECIALIZER :RIGHT-SIDE>) in DEFMETHOD\n",
      "SB-KERNEL:REDEFINITION-WITH-DEFMETHOD: redefining CRAM-MANIPULATION-INTERFACES:GET-OBJECT-TYPE-TO-GRIPPER-PREGRASP-TRANSFORMS (#<SB-MOP:EQL-SPECIALIZER :HEITMANN-CITRONENSAEURE>\n",
      "                                                                                                                               #<SB-PCL:SYSTEM-CLASS COMMON-LISP:T>\n",
      "                                                                                                                               #<SB-MOP:EQL-SPECIALIZER :LEFT>\n",
      "                                                                                                                               #<SB-MOP:EQL-SPECIALIZER :RIGHT-SIDE>\n",
      "                                                                                                                               #<SB-PCL:SYSTEM-CLASS COMMON-LISP:T>\n",
      "                                                                                                                               #<SB-PCL:SYSTEM-CLASS COMMON-LISP:T>) in DEFMETHOD\n",
      "SB-KERNEL:REDEFINITION-WITH-DEFMETHOD: redefining CRAM-MANIPULATION-INTERFACES:GET-OBJECT-TYPE-WRT-BASE-FRAME-LIFT-TRANSFORMS (#<SB-MOP:EQL-SPECIALIZER :HEITMANN-CITRONENSAEURE>\n",
      "                                                                                                                               #<SB-MOP:EQL-SPECIALIZER :LEFT>\n",
      "                                                                                                                               #<SB-MOP:EQL-SPECIALIZER :RIGHT-SIDE>\n",
      "                                                                                                                               #<SB-PCL:SYSTEM-CLASS COMMON-LISP:T>) in DEFMETHOD\n",
      "SB-KERNEL:REDEFINITION-WITH-DEFMETHOD: redefining CRAM-MANIPULATION-INTERFACES:GET-OBJECT-TYPE-TO-GRIPPER-TRANSFORM (#<SB-MOP:EQL-SPECIALIZER :HEITMANN-CITRONENSAEURE>\n",
      "                                                                                                                     #<SB-PCL:SYSTEM-CLASS COMMON-LISP:T>\n",
      "                                                                                                                     #<SB-MOP:EQL-SPECIALIZER :RIGHT>\n",
      "                                                                                                                     #<SB-MOP:EQL-SPECIALIZER :RIGHT-SIDE>) in DEFMETHOD\n",
      "SB-KERNEL:REDEFINITION-WITH-DEFMETHOD: redefining CRAM-MANIPULATION-INTERFACES:GET-OBJECT-TYPE-TO-GRIPPER-PREGRASP-TRANSFORMS (#<SB-MOP:EQL-SPECIALIZER :HEITMANN-CITRONENSAEURE>\n",
      "                                                                                                                               #<SB-PCL:SYSTEM-CLASS COMMON-LISP:T>\n",
      "                                                                                                                               #<SB-MOP:EQL-SPECIALIZER :RIGHT>\n",
      "                                                                                                                               #<SB-MOP:EQL-SPECIALIZER :RIGHT-SIDE>\n",
      "                                                                                                                               #<SB-PCL:SYSTEM-CLASS COMMON-LISP:T>\n",
      "                                                                                                                               #<SB-PCL:SYSTEM-CLASS COMMON-LISP:T>) in DEFMETHOD\n",
      "SB-KERNEL:REDEFINITION-WITH-DEFMETHOD: redefining CRAM-MANIPULATION-INTERFACES:GET-OBJECT-TYPE-WRT-BASE-FRAME-LIFT-TRANSFORMS (#<SB-MOP:EQL-SPECIALIZER :HEITMANN-CITRONENSAEURE>\n",
      "                                                                                                                               #<SB-MOP:EQL-SPECIALIZER :RIGHT>\n",
      "                                                                                                                               #<SB-MOP:EQL-SPECIALIZER :RIGHT-SIDE>\n",
      "                                                                                                                               #<SB-PCL:SYSTEM-CLASS COMMON-LISP:T>) in DEFMETHOD\n",
      "SB-KERNEL:REDEFINITION-WITH-DEFMETHOD: redefining CRAM-MANIPULATION-INTERFACES:GET-OBJECT-TYPE-TO-GRIPPER-TRANSFORM (#<SB-MOP:EQL-SPECIALIZER :DOMESTOS-ALLZWECKREINIGER>\n",
      "                                                                                                                     #<SB-PCL:SYSTEM-CLASS COMMON-LISP:T>\n",
      "                                                                                                                     #<SB-MOP:EQL-SPECIALIZER :LEFT>\n",
      "                                                                                                                     #<SB-MOP:EQL-SPECIALIZER :RIGHT-SIDE>) in DEFMETHOD\n",
      "SB-KERNEL:REDEFINITION-WITH-DEFMETHOD: redefining CRAM-MANIPULATION-INTERFACES:GET-OBJECT-TYPE-TO-GRIPPER-PREGRASP-TRANSFORMS (#<SB-MOP:EQL-SPECIALIZER :DOMESTOS-ALLZWECKREINIGER>\n",
      "                                                                                                                               #<SB-PCL:SYSTEM-CLASS COMMON-LISP:T>\n",
      "                                                                                                                               #<SB-MOP:EQL-SPECIALIZER :LEFT>\n",
      "                                                                                                                               #<SB-MOP:EQL-SPECIALIZER :RIGHT-SIDE>\n",
      "                                                                                                                               #<SB-PCL:SYSTEM-CLASS COMMON-LISP:T>\n",
      "                                                                                                                               #<SB-PCL:SYSTEM-CLASS COMMON-LISP:T>) in DEFMETHOD\n",
      "SB-KERNEL:REDEFINITION-WITH-DEFMETHOD: redefining CRAM-MANIPULATION-INTERFACES:GET-OBJECT-TYPE-WRT-BASE-FRAME-LIFT-TRANSFORMS (#<SB-MOP:EQL-SPECIALIZER :DOMESTOS-ALLZWECKREINIGER>\n",
      "                                                                                                                               #<SB-MOP:EQL-SPECIALIZER :LEFT>\n",
      "                                                                                                                               #<SB-MOP:EQL-SPECIALIZER :RIGHT-SIDE>\n",
      "                                                                                                                               #<SB-PCL:SYSTEM-CLASS COMMON-LISP:T>) in DEFMETHOD\n",
      "SB-KERNEL:REDEFINITION-WITH-DEFMETHOD: redefining CRAM-MANIPULATION-INTERFACES:GET-OBJECT-TYPE-TO-GRIPPER-TRANSFORM (#<SB-MOP:EQL-SPECIALIZER :DOMESTOS-ALLZWECKREINIGER>\n",
      "                                                                                                                     #<SB-PCL:SYSTEM-CLASS COMMON-LISP:T>\n",
      "                                                                                                                     #<SB-MOP:EQL-SPECIALIZER :RIGHT>\n",
      "                                                                                                                     #<SB-MOP:EQL-SPECIALIZER :RIGHT-SIDE>) in DEFMETHOD\n",
      "SB-KERNEL:REDEFINITION-WITH-DEFMETHOD: redefining CRAM-MANIPULATION-INTERFACES:GET-OBJECT-TYPE-TO-GRIPPER-PREGRASP-TRANSFORMS (#<SB-MOP:EQL-SPECIALIZER :DOMESTOS-ALLZWECKREINIGER>\n",
      "                                                                                                                               #<SB-PCL:SYSTEM-CLASS COMMON-LISP:T>\n",
      "                                                                                                                               #<SB-MOP:EQL-SPECIALIZER :RIGHT>\n",
      "                                                                                                                               #<SB-MOP:EQL-SPECIALIZER :RIGHT-SIDE>\n",
      "                                                                                                                               #<SB-PCL:SYSTEM-CLASS COMMON-LISP:T>\n",
      "                                                                                                                               #<SB-PCL:SYSTEM-CLASS COMMON-LISP:T>) in DEFMETHOD\n",
      "SB-KERNEL:REDEFINITION-WITH-DEFMETHOD: redefining CRAM-MANIPULATION-INTERFACES:GET-OBJECT-TYPE-WRT-BASE-FRAME-LIFT-TRANSFORMS (#<SB-MOP:EQL-SPECIALIZER :DOMESTOS-ALLZWECKREINIGER>\n",
      "                                                                                                                               #<SB-MOP:EQL-SPECIALIZER :RIGHT>\n",
      "                                                                                                                               #<SB-MOP:EQL-SPECIALIZER :RIGHT-SIDE>\n",
      "                                                                                                                               #<SB-PCL:SYSTEM-CLASS COMMON-LISP:T>) in DEFMETHOD\n"
     ]
    }
   ],
   "source": [
    "(asdf:load-system :cram-pr2-pick-place-demo)"
   ]
  },
  {
   "cell_type": "code",
   "execution_count": 91,
   "id": "ed252f25-d7b7-4d0f-839c-8b18c0bdede6",
   "metadata": {
    "tags": []
   },
   "outputs": [
    {
     "data": {
      "text/plain": [
       "#<PACKAGE \"CRAM-BULLET-WORLD-TUTORIAL\">"
      ]
     },
     "execution_count": 91,
     "metadata": {},
     "output_type": "execute_result"
    }
   ],
   "source": [
    "(defpackage cram-bullet-world-tutorial\n",
    "  (:nicknames #:btw-tut)\n",
    "   (:use #:common-lisp #:cram-prolog\n",
    "        #:desig #:exe)\n",
    "  (:export))"
   ]
  },
  {
   "cell_type": "code",
   "execution_count": 92,
   "id": "6d1e5f6f-dccb-4529-a9de-a7f5d4d4a085",
   "metadata": {},
   "outputs": [
    {
     "data": {
      "text/plain": [
       "#<PACKAGE \"CRAM-BULLET-WORLD-TUTORIAL\">"
      ]
     },
     "execution_count": 92,
     "metadata": {},
     "output_type": "execute_result"
    }
   ],
   "source": [
    "(in-package :btw-tut)"
   ]
  },
  {
   "cell_type": "markdown",
   "id": "9c04b3df-c232-46e8-b198-632ff19e0cb3",
   "metadata": {},
   "source": [
    "Now to launch a simulation with a kitchen environment and our robot, type the following command into your Lisp command line:"
   ]
  },
  {
   "cell_type": "code",
   "execution_count": 4,
   "id": "88f0f2d4-0262-4352-b63d-31fc4e6d868c",
   "metadata": {
    "collapsed": true,
    "jupyter": {
     "outputs_hidden": true
    },
    "tags": []
   },
   "outputs": [
    {
     "data": {
      "text/plain": [
       "NIL"
      ]
     },
     "execution_count": 4,
     "metadata": {},
     "output_type": "execute_result"
    },
    {
     "name": "stdout",
     "output_type": "stream",
     "text": [
      "[(ROSLISP TOP) INFO] 1663443194.466: Node name is /cram_hl_449556_1663443194\n",
      "[(ROSLISP TOP) INFO] 1663443194.467: Namespace is /\n",
      "[(ROSLISP TOP) INFO] 1663443194.467: Params are NIL\n",
      "[(ROSLISP TOP) INFO] 1663443194.467: Remappings are:\n",
      "[(ROSLISP TOP) INFO] 1663443194.467: master URI is 127.0.0.1:11311\n",
      "[(ROSLISP TOP) INFO] 1663443197.708: Node startup complete\n",
      "[(ROSNODE) INFO] 1663443197.713: ROS init #<FUNCTION CRAM-TF::INIT-TF>.\n",
      "[(CRAM-TF INIT-TF) INFO] 1663443197.713: Set *fixed-frame* to \"map\".\n",
      "[(CRAM-TF INIT-TF) INFO] 1663443197.736: Environment name is IAI-KITCHEN.\n",
      "[(CRAM-TF INIT-TF) INFO] 1663443197.771: Initialized *transformer* to a TRANSFORM-LISTENER.\n",
      "[(CRAM-TF INIT-TF) INFO] 1663443197.772: *tf-default-timeout* is 4.0.\n",
      "[(CRAM-TF INIT-TF) INFO] 1663443197.788: Robot name is PR2.\n",
      "[(CRAM-TF INIT-TF) INFO] 1663443197.793: Set *ODOM-FRAME* to \"odom_combined\".\n",
      "[(CRAM-TF INIT-TF) INFO] 1663443197.793: Set *ROBOT-BASE-FRAME* to \"base_footprint\".\n",
      "[(CRAM-TF INIT-TF) INFO] 1663443197.793: Set *ROBOT-TORSO-FRAME* to \"torso_lift_link\".\n",
      "[(CRAM-TF INIT-TF) INFO] 1663443197.793: Set *ROBOT-TORSO-JOINT* to \"torso_lift_joint\".\n",
      "[(CRAM-TF INIT-TF) INFO] 1663443197.793: Set *ROBOT-LEFT-TOOL-FRAME* to \"l_gripper_tool_frame\".\n",
      "[(CRAM-TF INIT-TF) INFO] 1663443197.794: Set *ROBOT-RIGHT-TOOL-FRAME* to \"r_gripper_tool_frame\".\n",
      "[(ROSNODE) INFO] 1663443197.794: ROS init #<FUNCTION CRAM-TF::INIT-TF-BROADCASTER>.\n",
      "[(ROSNODE) INFO] 1663443197.795: ROS init #<FUNCTION CRAM-TF::INIT-MARKER-PUBLISHER>.\n",
      "[(ROSNODE) INFO] 1663443197.796: ROS init #<FUNCTION CRAM-LOCATION-COSTMAP::LOCATION-COSTMAP-VIS-INIT>.\n",
      "[(ROSNODE) INFO] 1663443197.797: ROS init #<FUNCTION CRAM-BULLET-REASONING-BELIEF-STATE::ROS-TIME-INIT>.\n",
      "[(ROSNODE) INFO] 1663443197.797: ROS init #<FUNCTION CRAM-OCCUPANCY-GRID-COSTMAP::INIT-OCCUPANCY-GRID-COSTMAP>.\n",
      "[(ROSNODE) INFO] 1663443197.804: ROS init #<FUNCTION CRAM-PR2-PICK-PLACE-DEMO::INIT-PROJECTION>.\n",
      "[(SET-ROBOT-STATE-FROM-TF) WARN] 1663443210.419: Failed with transform-stamped-error:\n",
      "    No transform was published between frames base_footprint and map\n",
      "    Ignore this warning if no real robot is running.\n"
     ]
    }
   ],
   "source": [
    ";; Warning: resets the core processes of the simulation\n",
    "(roslisp-utilities:startup-ros)"
   ]
  },
  {
   "cell_type": "code",
   "execution_count": 10,
   "id": "65310615-eb86-4b3e-a796-fe95884437ca",
   "metadata": {
    "tags": []
   },
   "outputs": [
    {
     "data": {
      "text/plain": [
       "(:BLUE-METAL-PLATE :BOTTLE :BOWL :BREAKFAST-CEREAL :BUTTERMILK :CEREAL :CUBE\n",
       " :CUP :FORK :KNIFE :MILK :MILK :RED-METAL-PLATE :SPOON :SPOON :TRAY-BASE :TRAY)"
      ]
     },
     "execution_count": 10,
     "metadata": {},
     "output_type": "execute_result"
    },
    {
     "name": "stdout",
     "output_type": "stream",
     "text": [
      "[(SET-ROBOT-STATE-FROM-TF) WARN] 1663438539.241: Failed with transform-stamped-error:\n",
      "    No transform was published between frames base_footprint and map\n",
      "    Ignore this warning if no real robot is running.\n"
     ]
    }
   ],
   "source": [
    ";; Warning: resets simulation and deletes objects\n",
    "(demo::init-projection)"
   ]
  },
  {
   "cell_type": "code",
   "execution_count": 11,
   "id": "0e264a08-50ef-4d2c-ae87-5e830da9e81f",
   "metadata": {},
   "outputs": [
    {
     "data": {
      "text/plain": [
       "NIL"
      ]
     },
     "execution_count": 11,
     "metadata": {},
     "output_type": "execute_result"
    }
   ],
   "source": [
    ";; Warning: respawning the window may result in a kernel crash. Restart the lecture via docker to recover from that.\n",
    "(btr-utils:reset-debug-window)"
   ]
  },
  {
   "cell_type": "markdown",
   "id": "f99f0479-387e-4c9e-b60a-03511f806d2b",
   "metadata": {},
   "source": [
    "## Moving Around\n",
    "\n"
   ]
  },
  {
   "cell_type": "code",
   "execution_count": 93,
   "id": "cb2de1ea-9969-4b58-98d3-66dde2dda51e",
   "metadata": {},
   "outputs": [
    {
     "data": {
      "text/plain": [
       "MAKE-POSE"
      ]
     },
     "execution_count": 93,
     "metadata": {},
     "output_type": "execute_result"
    },
    {
     "name": "stdout",
     "output_type": "stream",
     "text": [
      "SB-KERNEL:REDEFINITION-WITH-DEFUN: redefining CRAM-BULLET-WORLD-TUTORIAL::MAKE-POSE in DEFUN\n"
     ]
    }
   ],
   "source": [
    "(defun make-pose (reference-frame pose)\n",
    "    \"Creates a cl-transforms pose in 3D space w.r.t. the given `reference-frame' and `pose'.\n",
    "    The pose is given as a list of two lists, where the first are the x y z coordinates, \n",
    "    the second is the quaternion of qx qy qz w, like this: '((2.0 0.0 1.5) (0.0 0.0 0.0 1.0))\"\n",
    "  (cl-transforms-stamped:make-pose-stamped\n",
    "   reference-frame 0.0\n",
    "   (apply #'cl-transforms:make-3d-vector (first pose))\n",
    "   (apply #'cl-transforms:make-quaternion (second pose))))"
   ]
  },
  {
   "cell_type": "code",
   "execution_count": 94,
   "id": "6de4ca3b-0c62-4a61-84dc-33c5e6c29c49",
   "metadata": {},
   "outputs": [
    {
     "data": {
      "text/plain": [
       "#<HASH-TABLE :TEST EQUAL :COUNT 90 {1011FA0AB3}>"
      ]
     },
     "execution_count": 94,
     "metadata": {},
     "output_type": "execute_result"
    }
   ],
   "source": [
    "(urdf-proj:with-simulated-robot\n",
    "  (let ((?navigation-goal (make-pose \"map\" '((0 1 0) (0 0 0 1)))))\n",
    "    (perform (an action\n",
    "                 (type going)\n",
    "                 (target (a location \n",
    "                            (pose ?navigation-goal)))))))"
   ]
  },
  {
   "cell_type": "code",
   "execution_count": 9,
   "id": "20b63db3-e46d-49ed-b507-0e1d365e716e",
   "metadata": {
    "tags": []
   },
   "outputs": [
    {
     "data": {
      "text/plain": [
       "*BASE-POSE-NEAR-TABLE*"
      ]
     },
     "execution_count": 9,
     "metadata": {},
     "output_type": "execute_result"
    }
   ],
   "source": [
    "(defparameter *base-pose-near-table*\n",
    "  (make-pose \"map\" \n",
    "             '((-2.2d0 -0.20d0 0.0d0) \n",
    "               (0.0d0 0.0d0 -0.707d0 0.707d0))))"
   ]
  },
  {
   "cell_type": "code",
   "execution_count": 95,
   "id": "7caad455-395b-4c08-91cf-dfc89e1a6e67",
   "metadata": {},
   "outputs": [
    {
     "data": {
      "text/plain": [
       "#<HASH-TABLE :TEST EQUAL :COUNT 90 {1011038F73}>"
      ]
     },
     "execution_count": 95,
     "metadata": {},
     "output_type": "execute_result"
    }
   ],
   "source": [
    "(urdf-proj:with-simulated-robot\n",
    "  (let ((?navigation-goal *base-pose-near-table*))\n",
    "     (perform (an action\n",
    "                 (type going)\n",
    "                 (target (a location \n",
    "                            (pose ?navigation-goal)))))))"
   ]
  },
  {
   "cell_type": "markdown",
   "id": "b7d1702b-59d4-4565-9880-8eb9f5fb8ca7",
   "metadata": {},
   "source": [
    "Advanced definition of poses with euler angles provides a quaternion."
   ]
  },
  {
   "cell_type": "code",
   "execution_count": 11,
   "id": "56f280ac-3b30-40ef-a949-ca9b6c65c667",
   "metadata": {},
   "outputs": [
    {
     "data": {
      "text/plain": [
       "#<CL-TRANSFORMS:QUATERNION (0.0d0 0.0d0 0.7071067811865475d0 0.7071067811865476d0)>"
      ]
     },
     "execution_count": 11,
     "metadata": {},
     "output_type": "execute_result"
    }
   ],
   "source": [
    "(cl-transforms:euler->quaternion :az (* pi 0.5)) ;; rotation of pi/2 around the z-axis = 90 degree to the left"
   ]
  },
  {
   "cell_type": "markdown",
   "id": "0d03a20f-877a-48c4-bdab-eba5437ca105",
   "metadata": {},
   "source": [
    "The resulting quaternion can be used to specify rotations around an axis. Here we a creating a pose without the help of the `make-pose` function. Fiddle arbound with the `-0.50` factor to PI, and move the robot again, to see the resulting rotation."
   ]
  },
  {
   "cell_type": "code",
   "execution_count": 16,
   "id": "0c872857-9f5b-43f9-bf4f-4fcecfe653a4",
   "metadata": {},
   "outputs": [
    {
     "data": {
      "text/plain": [
       "*BASE-POSE-NEAR-TABLE*"
      ]
     },
     "execution_count": 16,
     "metadata": {},
     "output_type": "execute_result"
    }
   ],
   "source": [
    "(defparameter *base-pose-near-table*\n",
    "  (cl-transforms-stamped:make-pose-stamped \n",
    "   \"map\" 0.0 \n",
    "   (cl-transforms:make-3d-vector -2.2d0 -0.20d0 0.0d0)\n",
    "   (cl-transforms:euler->quaternion :az (* pi -0.50))))"
   ]
  },
  {
   "cell_type": "markdown",
   "id": "ece6175b-23ee-4857-ae29-852a383a2dc5",
   "metadata": {},
   "source": [
    "## Spawning Objects"
   ]
  },
  {
   "cell_type": "code",
   "execution_count": 96,
   "id": "b3b041dd-b31f-4def-9e9f-15d9e87a2d93",
   "metadata": {},
   "outputs": [
    {
     "data": {
      "text/plain": [
       "SPAWN-OBJECT"
      ]
     },
     "execution_count": 96,
     "metadata": {},
     "output_type": "execute_result"
    },
    {
     "name": "stdout",
     "output_type": "stream",
     "text": [
      "SB-KERNEL:REDEFINITION-WITH-DEFUN: redefining CRAM-BULLET-WORLD-TUTORIAL::SPAWN-OBJECT in DEFUN\n"
     ]
    }
   ],
   "source": [
    "(defun spawn-object (spawn-pose &optional (obj-type :bottle) (obj-name 'bottle-1) (obj-color '(1 0 0)))\n",
    "    \"Spawns an object into simulation.\n",
    "    spawn-pose: list - pose coordinates, like this: '((x y z) (qx qy qz w))\n",
    "    optional:\n",
    "      obj-type: keyword - the type of object to spawn, default = :bottle (case-insensitive)\n",
    "      obj-name: symbol - name of the object, default = 'bottle-1 (case-insensitive)\n",
    "      obj-color: list - (r g b) color value for the object with range 0.0-1.0, default is red = '(1 0 0)\"\n",
    "  (unless (assoc obj-type btr::*mesh-files*)\n",
    "    (btr:add-objects-to-mesh-list \"cram_pr2_pick_place_demo\"))\n",
    "  (btr-utils:spawn-object obj-name obj-type :color obj-color :pose spawn-pose)\n",
    "  (btr:simulate btr:*current-bullet-world* 10))"
   ]
  },
  {
   "cell_type": "markdown",
   "id": "bc4f404b-f68e-4c5e-8444-1294dfa37799",
   "metadata": {},
   "source": [
    "To find all possible `obj-type`, the parameter `btr::*mesh-files*` contains the mesh files as key-value pairs between keyword and the location of their mesh-file. We can map over that list and only return their keys. "
   ]
  },
  {
   "cell_type": "code",
   "execution_count": 19,
   "id": "4add0315-398c-44b1-aff1-bd95c59927d5",
   "metadata": {
    "tags": []
   },
   "outputs": [
    {
     "data": {
      "text/plain": [
       "(:TRAY-BASE :SPOON :RED-METAL-PLATE :MILK :CUBE :CEREAL :BUTTERMILK\n",
       " :BREAKFAST-CEREAL :BOTTLE :BLUE-METAL-PLATE :MUG :MUG-COMPOUND :PLATE\n",
       " :PLATE-COMPOUND :TRAY :TRAY-COMPOUND :CUP-NON-COMPOUND :CUP :MONDAMIN :POT\n",
       " :WEISSWURST :BOWL-ORIGINAL :BOWL-NON-COMPOUND :BOWL :FORK :KNIFE :SPATULA :CAP\n",
       " :GLASSES :GLOVE :SHOE :ARROW)"
      ]
     },
     "execution_count": 19,
     "metadata": {},
     "output_type": "execute_result"
    }
   ],
   "source": [
    ";; the parameter btr::*mesh-files* contains the mesh files \n",
    "(map 'list #'first btr::*mesh-files*)"
   ]
  },
  {
   "cell_type": "markdown",
   "id": "108a64a5-c05b-4ee2-aa91-67ee4243bfad",
   "metadata": {},
   "source": [
    "Spawn bottle"
   ]
  },
  {
   "cell_type": "code",
   "execution_count": 108,
   "id": "53ba30f2-39e1-4c98-af2b-514cb19a91dd",
   "metadata": {},
   "outputs": [
    {
     "data": {
      "text/plain": [
       "NIL"
      ]
     },
     "execution_count": 108,
     "metadata": {},
     "output_type": "execute_result"
    }
   ],
   "source": [
    "(spawn-object '((-2.323 -1 0.82) (0 0 0 1)))"
   ]
  },
  {
   "cell_type": "code",
   "execution_count": 21,
   "id": "009280b0-2760-4ac3-80f2-13037ad9bc48",
   "metadata": {},
   "outputs": [
    {
     "data": {
      "text/plain": [
       "NIL"
      ]
     },
     "execution_count": 21,
     "metadata": {},
     "output_type": "execute_result"
    }
   ],
   "source": [
    "(spawn-object '((1.44 1.28 0.85) (0 0 0 1)) :cube 'cube-1)"
   ]
  },
  {
   "cell_type": "code",
   "execution_count": 22,
   "id": "b69c64a3-380f-4214-9a4c-eb792135e7fa",
   "metadata": {},
   "outputs": [
    {
     "data": {
      "text/plain": [
       "NIL"
      ]
     },
     "execution_count": 22,
     "metadata": {},
     "output_type": "execute_result"
    }
   ],
   "source": [
    "(spawn-object '((0 0 0.1) (0 0 0 1)) :weisswurst 'wurst-1 '(0 1 0))"
   ]
  },
  {
   "cell_type": "code",
   "execution_count": 23,
   "id": "1b716e57-b84b-4ada-8e8b-c9e03c03272f",
   "metadata": {},
   "outputs": [
    {
     "data": {
      "text/plain": [
       "NIL"
      ]
     },
     "execution_count": 23,
     "metadata": {},
     "output_type": "execute_result"
    },
    {
     "name": "stdout",
     "output_type": "stream",
     "text": [
      "[(SET-ROBOT-STATE-FROM-TF) WARN] 1663443470.097: Failed with transform-stamped-error:\n",
      "    No transform was published between frames base_footprint and map\n",
      "    Ignore this warning if no real robot is running.\n"
     ]
    }
   ],
   "source": [
    "(demo::initialize)"
   ]
  },
  {
   "cell_type": "markdown",
   "id": "17ca61f1-e9ab-4a11-9e7f-49b0c7673e6f",
   "metadata": {},
   "source": [
    "## Visualizating coordinates"
   ]
  },
  {
   "cell_type": "code",
   "execution_count": 27,
   "id": "aee4f5c9-493f-4de7-afb6-61ae4e12ad38",
   "metadata": {},
   "outputs": [
    {
     "data": {
      "text/plain": [
       "(#<CL-BULLET:RIGID-BODY {1012D23893}> #<CL-BULLET:RIGID-BODY {1012D24D13}>\n",
       " #<CL-BULLET:RIGID-BODY {1012D261A3}>)"
      ]
     },
     "execution_count": 27,
     "metadata": {},
     "output_type": "execute_result"
    }
   ],
   "source": [
    "(btr:add-vis-axis-object\n",
    " (cl-transforms-stamped:make-pose-stamped\n",
    "  \"map\"\n",
    "  0.0\n",
    "  (cl-transforms:make-3d-vector 0.43 1.6 1.0126)\n",
    "  (cl-transforms:make-quaternion 0 1 0 0)))"
   ]
  },
  {
   "cell_type": "code",
   "execution_count": 28,
   "id": "3e143a23-d72d-4ddb-871d-6eec4889d028",
   "metadata": {},
   "outputs": [
    {
     "data": {
      "text/plain": [
       "(#<CL-BULLET:RIGID-BODY {100CBFB7F3}> #<CL-BULLET:RIGID-BODY {100CBFCC73}>\n",
       " #<CL-BULLET:RIGID-BODY {100CBFE103}>)"
      ]
     },
     "execution_count": 28,
     "metadata": {},
     "output_type": "execute_result"
    }
   ],
   "source": [
    "(btr:add-vis-axis-object *base-pose-near-table*)"
   ]
  },
  {
   "cell_type": "markdown",
   "id": "4af9fddd-ecff-4ede-bf5a-0d8a81b9eb74",
   "metadata": {},
   "source": [
    "blabla"
   ]
  },
  {
   "cell_type": "code",
   "execution_count": 29,
   "id": "e9870eaf-b25a-4bc7-b89b-3e1af19f380f",
   "metadata": {},
   "outputs": [
    {
     "data": {
      "text/plain": [
       "(#<CL-BULLET:RIGID-BODY {10035D5EB3}> #<CL-BULLET:RIGID-BODY {10035D7333}>\n",
       " #<CL-BULLET:RIGID-BODY {10035D87C3}>)"
      ]
     },
     "execution_count": 29,
     "metadata": {},
     "output_type": "execute_result"
    }
   ],
   "source": [
    "(btr:add-vis-axis-object 'bottle-1)"
   ]
  },
  {
   "cell_type": "code",
   "execution_count": 30,
   "id": "ad081681-ba41-4430-a7b0-18ea99c2e9b5",
   "metadata": {
    "collapsed": true,
    "jupyter": {
     "outputs_hidden": true
    },
    "tags": []
   },
   "outputs": [
    {
     "data": {
      "text/plain": [
       "(\"room_link\" \"world\" \"sink_area_footprint\" \"sink_area\" \"sink_area_surface\"\n",
       " \"sink_area_sink\" \"sink_area_right_panel\" \"sink_area_trash_drawer_main\"\n",
       " \"sink_area_trash_drawer_handle\" \"sink_area_left_upper_drawer_main\"\n",
       " \"sink_area_left_upper_drawer_handle\" \"sink_area_left_middle_drawer_main\"\n",
       " \"sink_area_left_middle_drawer_handle\" \"sink_area_left_bottom_drawer_main\"\n",
       " \"sink_area_left_bottom_drawer_handle\" \"sink_area_dish_washer_main\"\n",
       " \"sink_area_dish_washer_door\" \"sink_area_dish_washer_door_handle\"\n",
       " \"sink_area_dish_washer_tray_bottom\" \"sink_area_dish_washer_tray_left_side\"\n",
       " \"sink_area_dish_washer_tray_right_side\" \"sink_area_dish_washer_tray_back_side\"\n",
       " \"sink_area_dish_washer_tray_front_side\"\n",
       " \"sink_area_dish_washer_tray_handle_left_side\"\n",
       " \"sink_area_dish_washer_tray_handle_right_side\"\n",
       " \"sink_area_dish_washer_tray_handle_front_side\" \"oven_area_area_footprint\"\n",
       " \"oven_area_area\" \"oven_area_oven_main\" \"oven_area_oven_door\"\n",
       " \"oven_area_oven_door_handle\" \"oven_area_oven_panel\"\n",
       " \"oven_area_oven_knob_stove_2\" \"oven_area_oven_knob_stove_1\"\n",
       " \"oven_area_oven_knob_stove_3\" \"oven_area_oven_knob_stove_4\"\n",
       " \"oven_area_oven_knob_oven\" \"oven_area_area_middle_upper_drawer_main\"\n",
       " \"oven_area_area_middle_upper_drawer_handle\"\n",
       " \"oven_area_area_middle_lower_drawer_main\"\n",
       " \"oven_area_area_middle_lower_drawer_handle\" \"oven_area_area_left_drawer_main\"\n",
       " \"oven_area_area_left_drawer_main_padding\" \"oven_area_area_left_drawer_handle\"\n",
       " \"oven_area_area_left_drawer_board_0_link\"\n",
       " \"oven_area_area_left_drawer_barrier_0_right_link\"\n",
       " \"oven_area_area_left_drawer_barrier_0_left_link\"\n",
       " \"oven_area_area_left_drawer_barrier_0_back_link\"\n",
       " \"oven_area_area_left_drawer_board_1_link\"\n",
       " \"oven_area_area_left_drawer_barrier_1_right_link\"\n",
       " \"oven_area_area_left_drawer_barrier_1_left_link\"\n",
       " \"oven_area_area_left_drawer_barrier_1_back_link\"\n",
       " \"oven_area_area_left_drawer_board_2_link\"\n",
       " \"oven_area_area_left_drawer_barrier_2_right_link\"\n",
       " \"oven_area_area_left_drawer_barrier_2_left_link\"\n",
       " \"oven_area_area_left_drawer_barrier_2_back_link\"\n",
       " \"oven_area_area_left_drawer_board_3_link\"\n",
       " \"oven_area_area_left_drawer_barrier_3_right_link\"\n",
       " \"oven_area_area_left_drawer_barrier_3_left_link\"\n",
       " \"oven_area_area_left_drawer_barrier_3_back_link\"\n",
       " \"oven_area_area_right_drawer_main\" \"oven_area_area_right_drawer_main_padding\"\n",
       " \"oven_area_area_right_drawer_handle\"\n",
       " \"oven_area_area_right_drawer_board_0_link\"\n",
       " \"oven_area_area_right_drawer_barrier_0_right_link\"\n",
       " \"oven_area_area_right_drawer_barrier_0_left_link\"\n",
       " \"oven_area_area_right_drawer_barrier_0_back_link\"\n",
       " \"oven_area_area_right_drawer_board_1_link\"\n",
       " \"oven_area_area_right_drawer_barrier_1_right_link\"\n",
       " \"oven_area_area_right_drawer_barrier_1_left_link\"\n",
       " \"oven_area_area_right_drawer_barrier_1_back_link\"\n",
       " \"oven_area_area_right_drawer_board_2_link\"\n",
       " \"oven_area_area_right_drawer_barrier_2_right_link\"\n",
       " \"oven_area_area_right_drawer_barrier_2_left_link\"\n",
       " \"oven_area_area_right_drawer_barrier_2_back_link\"\n",
       " \"oven_area_area_right_drawer_board_3_link\"\n",
       " \"oven_area_area_right_drawer_barrier_3_right_link\"\n",
       " \"oven_area_area_right_drawer_barrier_3_left_link\"\n",
       " \"oven_area_area_right_drawer_barrier_3_back_link\" \"kitchen_island_footprint\"\n",
       " \"kitchen_island\" \"kitchen_island_surface\" \"kitchen_island_stove\"\n",
       " \"kitchen_island_left_panel\" \"kitchen_island_left_upper_drawer_main\"\n",
       " \"kitchen_island_left_upper_drawer_handle\"\n",
       " \"kitchen_island_left_lower_drawer_main\"\n",
       " \"kitchen_island_left_lower_drawer_handle\" \"kitchen_island_middle_panel\"\n",
       " \"kitchen_island_middle_upper_drawer_main\"\n",
       " \"kitchen_island_middle_upper_drawer_handle\"\n",
       " \"kitchen_island_middle_lower_drawer_main\"\n",
       " \"kitchen_island_middle_lower_drawer_handle\" \"kitchen_island_right_panel\"\n",
       " \"kitchen_island_right_upper_drawer_main\"\n",
       " \"kitchen_island_right_upper_drawer_handle\"\n",
       " \"kitchen_island_right_lower_drawer_main\"\n",
       " \"kitchen_island_right_lower_drawer_handle\" \"fridge_area_footprint\"\n",
       " \"fridge_area\" \"fridge_area_lower_drawer_main\"\n",
       " \"fridge_area_lower_drawer_handle\" \"iai_fridge_main\"\n",
       " \"iai_fridge_main_middle_level\" \"iai_fridge_door\" \"iai_fridge_ceiling\"\n",
       " \"iai_fridge_door_handle\" \"iai_fridge_door_block\"\n",
       " \"iai_fridge_door_block_right_bar\" \"iai_fridge_door_block_left_bar\"\n",
       " \"iai_fridge_door_block_top_bar\" \"iai_fridge_door_shelf1_bottom\"\n",
       " \"iai_fridge_door_shelf1_left_side\" \"iai_fridge_door_shelf1_right_side\"\n",
       " \"iai_fridge_door_shelf1_front_side\" \"iai_fridge_door_shelf2_bottom\"\n",
       " \"iai_fridge_door_shelf2_left_side\" \"iai_fridge_door_shelf2_right_side\"\n",
       " \"iai_fridge_door_shelf2_front_side\" \"iai_fridge_door_shelf3_bottom\"\n",
       " \"iai_fridge_door_shelf3_left_side\" \"iai_fridge_door_shelf3_right_side\"\n",
       " \"iai_fridge_door_shelf3_front_side\" \"table_area_main\" \"dining_area_footprint\"\n",
       " \"dining_area_jokkmokk_table_main\" \"dining_area_jokkmokk_left_chair_main\"\n",
       " \"dining_area_jokkmokk_right_chair_main\" \"kitchen_wall_1\" \"kitchen_wall_2\"\n",
       " \"kitchen_wall_3\" \"kitchen_wall_4\" \"kitchen_wall_5\" \"kitchen_wall_6\"\n",
       " \"kitchen_wall_7\" \"kitchen_walls\")"
      ]
     },
     "execution_count": 30,
     "metadata": {},
     "output_type": "execute_result"
    }
   ],
   "source": [
    "(alexandria:hash-table-keys (slot-value (slot-value (btr:get-environment-object) 'btr:urdf) 'cl-urdf:links))"
   ]
  },
  {
   "cell_type": "code",
   "execution_count": 37,
   "id": "9158ad9b-9ac3-483e-9fa6-01d11ce312b3",
   "metadata": {
    "tags": []
   },
   "outputs": [
    {
     "data": {
      "text/plain": [
       "(#<CL-BULLET:RIGID-BODY {1011BCEFB3}> #<CL-BULLET:RIGID-BODY {1011BD0433}>\n",
       " #<CL-BULLET:RIGID-BODY {1011BD18C3}>)"
      ]
     },
     "execution_count": 37,
     "metadata": {},
     "output_type": "execute_result"
    }
   ],
   "source": [
    "(btr:add-vis-axis-object (btr:link-pose (btr:get-environment-object) \"sink_area_left_middle_drawer_handle\"))"
   ]
  },
  {
   "cell_type": "code",
   "execution_count": 32,
   "id": "9e496b96-6975-46a0-b731-d1d6d0c83ba8",
   "metadata": {
    "collapsed": true,
    "jupyter": {
     "outputs_hidden": true
    },
    "tags": []
   },
   "outputs": [
    {
     "data": {
      "text/plain": [
       "(\"base_link\" \"base_footprint\" \"base_bellow_link\" \"base_laser_link\"\n",
       " \"fl_caster_rotation_link\" \"fl_caster_l_wheel_link\" \"fl_caster_r_wheel_link\"\n",
       " \"fr_caster_rotation_link\" \"fr_caster_l_wheel_link\" \"fr_caster_r_wheel_link\"\n",
       " \"bl_caster_rotation_link\" \"bl_caster_l_wheel_link\" \"bl_caster_r_wheel_link\"\n",
       " \"br_caster_rotation_link\" \"br_caster_l_wheel_link\" \"br_caster_r_wheel_link\"\n",
       " \"torso_lift_link\" \"l_torso_lift_side_plate_link\"\n",
       " \"r_torso_lift_side_plate_link\" \"torso_lift_motor_screw_link\" \"imu_link\"\n",
       " \"head_pan_link\" \"head_tilt_link\" \"head_plate_frame\" \"sensor_mount_link\"\n",
       " \"high_def_frame\" \"high_def_optical_frame\" \"double_stereo_link\"\n",
       " \"wide_stereo_link\" \"wide_stereo_optical_frame\"\n",
       " \"wide_stereo_l_stereo_camera_frame\"\n",
       " \"wide_stereo_l_stereo_camera_optical_frame\"\n",
       " \"wide_stereo_r_stereo_camera_frame\"\n",
       " \"wide_stereo_r_stereo_camera_optical_frame\" \"narrow_stereo_link\"\n",
       " \"narrow_stereo_optical_frame\" \"narrow_stereo_l_stereo_camera_frame\"\n",
       " \"narrow_stereo_l_stereo_camera_optical_frame\"\n",
       " \"narrow_stereo_r_stereo_camera_frame\"\n",
       " \"narrow_stereo_r_stereo_camera_optical_frame\" \"projector_wg6802418_frame\"\n",
       " \"projector_wg6802418_child_frame\" \"laser_tilt_mount_link\" \"laser_tilt_link\"\n",
       " \"r_shoulder_pan_link\" \"r_shoulder_lift_link\" \"r_upper_arm_roll_link\"\n",
       " \"r_upper_arm_link\" \"r_forearm_roll_link\" \"r_elbow_flex_link\" \"r_forearm_link\"\n",
       " \"r_wrist_flex_link\" \"r_wrist_roll_link\" \"r_gripper_palm_link\"\n",
       " \"r_gripper_led_frame\" \"r_gripper_motor_accelerometer_link\"\n",
       " \"r_gripper_tool_frame\" \"r_gripper_motor_slider_link\"\n",
       " \"r_gripper_motor_screw_link\" \"r_gripper_l_finger_link\"\n",
       " \"r_gripper_r_finger_link\" \"r_gripper_l_finger_tip_link\"\n",
       " \"r_gripper_r_finger_tip_link\" \"r_gripper_l_finger_tip_frame\"\n",
       " \"l_shoulder_pan_link\" \"l_shoulder_lift_link\" \"l_upper_arm_roll_link\"\n",
       " \"l_upper_arm_link\" \"l_forearm_roll_link\" \"l_elbow_flex_link\" \"l_forearm_link\"\n",
       " \"l_wrist_flex_link\" \"l_wrist_roll_link\" \"l_gripper_palm_link\"\n",
       " \"l_gripper_led_frame\" \"l_gripper_motor_accelerometer_link\"\n",
       " \"l_gripper_tool_frame\" \"l_gripper_motor_slider_link\"\n",
       " \"l_gripper_motor_screw_link\" \"l_gripper_l_finger_link\"\n",
       " \"l_gripper_r_finger_link\" \"l_gripper_l_finger_tip_link\"\n",
       " \"l_gripper_r_finger_tip_link\" \"l_gripper_l_finger_tip_frame\"\n",
       " \"l_forearm_cam_frame\" \"l_forearm_cam_optical_frame\" \"r_forearm_cam_frame\"\n",
       " \"r_forearm_cam_optical_frame\")"
      ]
     },
     "execution_count": 32,
     "metadata": {},
     "output_type": "execute_result"
    }
   ],
   "source": [
    "(alexandria:hash-table-keys (slot-value (slot-value (btr:get-robot-object) 'btr:urdf) 'cl-urdf:links))"
   ]
  },
  {
   "cell_type": "code",
   "execution_count": 38,
   "id": "b05ee8b6-a07e-46ff-b3da-e75d753052ab",
   "metadata": {},
   "outputs": [
    {
     "data": {
      "text/plain": [
       "(#<CL-BULLET:RIGID-BODY {100EFF7403}> #<CL-BULLET:RIGID-BODY {100EFF8883}>\n",
       " #<CL-BULLET:RIGID-BODY {100EFF9D13}>)"
      ]
     },
     "execution_count": 38,
     "metadata": {},
     "output_type": "execute_result"
    }
   ],
   "source": [
    "(btr:add-vis-axis-object (btr:link-pose (btr:get-robot-object) \"l_gripper_tool_frame\"))"
   ]
  },
  {
   "cell_type": "code",
   "execution_count": 44,
   "id": "abaa4df5-af41-461b-9161-fda3094f4e4c",
   "metadata": {},
   "outputs": [
    {
     "data": {
      "text/plain": [
       "(#<CL-BULLET:RIGID-BODY {10142AF403}> #<CL-BULLET:RIGID-BODY {10142B0883}>\n",
       " #<CL-BULLET:RIGID-BODY {10142B1D13}>)"
      ]
     },
     "execution_count": 44,
     "metadata": {},
     "output_type": "execute_result"
    }
   ],
   "source": [
    "(btr:add-vis-axis-object (btr:link-pose (btr:get-robot-object) \"base_laser_link\"))"
   ]
  },
  {
   "cell_type": "code",
   "execution_count": 43,
   "id": "a521788d-9c1b-4255-98c1-0bc3c06f3c3c",
   "metadata": {},
   "outputs": [
    {
     "data": {
      "text/plain": [
       "(#<CL-BULLET:RIGID-BODY {10114D5F13}> #<CL-BULLET:RIGID-BODY {10114D7393}>\n",
       " #<CL-BULLET:RIGID-BODY {10114D8833}>)"
      ]
     },
     "execution_count": 43,
     "metadata": {},
     "output_type": "execute_result"
    }
   ],
   "source": [
    "(btr:add-vis-axis-object (btr:link-pose (btr:get-robot-object) \"torso_lift_link\"))"
   ]
  },
  {
   "cell_type": "code",
   "execution_count": 45,
   "id": "e856bd75-c4f0-40a6-bc05-1feb3564e1c7",
   "metadata": {},
   "outputs": [
    {
     "data": {
      "text/plain": [
       "(#<CL-BULLET:RIGID-BODY {100DCC1833}> #<CL-BULLET:RIGID-BODY {100DCC2CB3}>\n",
       " #<CL-BULLET:RIGID-BODY {100DCC4143}>)"
      ]
     },
     "execution_count": 45,
     "metadata": {},
     "output_type": "execute_result"
    }
   ],
   "source": [
    "(btr:add-vis-axis-object (btr:link-pose (btr:get-robot-object) \"wide_stereo_optical_frame\"))"
   ]
  },
  {
   "cell_type": "code",
   "execution_count": 46,
   "id": "a1095786-da73-466b-8c71-48ae76f602cd",
   "metadata": {
    "collapsed": true,
    "jupyter": {
     "outputs_hidden": true
    },
    "tags": []
   },
   "outputs": [
    {
     "data": {
      "text/plain": [
       "#<CL-TRANSFORMS-STAMPED:POSE-STAMPED \n",
       "   FRAME-ID: \"map\", STAMP: 0.0\n",
       "   #<3D-VECTOR (0.2599997818470001d0 0.5399999618530273d0 0.0d0)>\n",
       "   #<QUATERNION (0.0d0 0.0d0 0.18142028980215855d0 0.98340565304868d0)>>"
      ]
     },
     "execution_count": 46,
     "metadata": {},
     "output_type": "execute_result"
    },
    {
     "name": "stdout",
     "output_type": "stream",
     "text": [
      "[BTR-UTILS CM] Visualizing costmaps of #<A LOCATION\n",
      "    (REACHABLE-FOR PR2)\n",
      "    (ARM LEFT)\n",
      "    (OBJECT #<A OBJECT\n",
      "    (TYPE CUPBOARD)\n",
      "    (URDF-NAME SINK-AREA-LEFT-MIDDLE-DRAWER-HANDLE)\n",
      "    (PART-OF IAI-KITCHEN)>)>\n",
      "[BTR-UTILS CM] Costmap named ENVIRONMENT-FREE-SPACE\n",
      "[BTR-UTILS CM] Costmap named STATIC-OCCUPIED\n",
      "[BTR-UTILS CM] Costmap named #<POSE-DISTRIBUTION-RANGE-EXCLUDE-GENERATOR {1005310003}>\n",
      "[BTR-UTILS CM] Combined costmap\n"
     ]
    }
   ],
   "source": [
    "(btr-utils:visualize-designator-costmaps\n",
    "        (a location\n",
    "           (reachable-for pr2)\n",
    "           (arm left)\n",
    "           (object (an object\n",
    "                       (type cupboard)\n",
    "                       (urdf-name sink-area-left-middle-drawer-handle)\n",
    "                       (part-of iai-kitchen)))))"
   ]
  },
  {
   "cell_type": "markdown",
   "id": "20da1514-5201-46b9-9d00-4fcc59fc88a1",
   "metadata": {},
   "source": [
    "## Intermezzo: About Designators"
   ]
  },
  {
   "cell_type": "markdown",
   "id": "5be5eca1-30b7-4bfe-a092-f73042882108",
   "metadata": {},
   "source": [
    "Action Designators: Going is an Action like searching, looking, fetching, delivering etc. \n",
    "\n",
    "Object Designators\n",
    "\n",
    "Location Designators\n",
    "\n",
    "Motion Designators"
   ]
  },
  {
   "cell_type": "markdown",
   "id": "813affd3-c10d-48f1-a26c-b12d1b43744d",
   "metadata": {},
   "source": [
    "## Perceiving Objects"
   ]
  },
  {
   "cell_type": "code",
   "execution_count": 107,
   "id": "5e09464a-9732-44a1-b419-39d3ecff859f",
   "metadata": {},
   "outputs": [
    {
     "data": {
      "text/plain": [
       "#<HASH-TABLE :TEST EQUAL :COUNT 90 {1017F5E213}>"
      ]
     },
     "execution_count": 107,
     "metadata": {},
     "output_type": "execute_result"
    }
   ],
   "source": [
    "(urdf-proj:with-simulated-robot\n",
    "  (let ((?navigation-goal *base-pose-near-table*))\n",
    "    (cpl:par\n",
    "      ;; Moving the robot near the table.\n",
    "      (perform (an action\n",
    "                   (type going)\n",
    "                   (target (a location\n",
    "                              (pose ?navigation-goal)))))\n",
    "      ;; Increasing the height of the torso by setting the joint angle to 0.3 meters\n",
    "      (perform (a motion\n",
    "                  (type moving-torso)\n",
    "                  (joint-angle 0.3)))\n",
    "      (perform (an action\n",
    "                  (type positioning-arm)\n",
    "                  (left-configuration park)\n",
    "                  (right-configuration park))))))"
   ]
  },
  {
   "cell_type": "code",
   "execution_count": 99,
   "id": "13cd4608-283c-4b8e-aa4c-9efec1bdc395",
   "metadata": {},
   "outputs": [
    {
     "data": {
      "text/plain": [
       "*DOWNWARD-LOOK-COORDINATE*"
      ]
     },
     "execution_count": 99,
     "metadata": {},
     "output_type": "execute_result"
    }
   ],
   "source": [
    "(defparameter *downward-look-coordinate*\n",
    " (make-pose \"base_footprint\" '((0.65335d0 0.076d0 0.758d0) (0 0 0 1))))\n",
    ";; This coordinate frame has base_footprint as reference, which is the reference\n",
    ";; frame of PR2's base."
   ]
  },
  {
   "cell_type": "code",
   "execution_count": 109,
   "id": "060a3b51-4b00-4a26-a1e4-c7719522dddc",
   "metadata": {},
   "outputs": [
    {
     "data": {
      "text/plain": [
       "NIL"
      ]
     },
     "execution_count": 109,
     "metadata": {},
     "output_type": "execute_result"
    }
   ],
   "source": [
    "(urdf-proj:with-simulated-robot\n",
    "  (let ((?looking-direction *downward-look-coordinate*))\n",
    "    (perform (an action\n",
    "                 (type looking)\n",
    "                 (target (a location \n",
    "                            (pose ?looking-direction)))))))"
   ]
  },
  {
   "cell_type": "code",
   "execution_count": 110,
   "id": "efb239a7-9946-450f-940c-c1cc4cedcfff",
   "metadata": {
    "tags": []
   },
   "outputs": [
    {
     "data": {
      "text/plain": [
       "#<A OBJECT\n",
       "    (TYPE BOTTLE)\n",
       "    (NAME BOTTLE-1)\n",
       "    (POSE ((:POSE\n",
       "            #<CL-TRANSFORMS-STAMPED:POSE-STAMPED \n",
       "   FRAME-ID: \"base_footprint\", STAMP: 0.0\n",
       "   #<3D-VECTOR (0.8088114738033475d0 -0.1186617297137702d0 0.8016609153747559d0)>\n",
       "   #<QUATERNION (0.003436738297774528d0 0.005772709800403691d0 0.7078478439691029d0 0.7063330366522225d0)>>)\n",
       "           (:TRANSFORM\n",
       "            #<CL-TRANSFORMS-STAMPED:TRANSFORM-STAMPED \n",
       "   FRAME-ID: \"base_footprint\", CHILD-FRAME-ID: \"bottle_1\", STAMP: 0.0\n",
       "   #<3D-VECTOR (0.8088114738033475d0 -0.1186617297137702d0 0.8016609153747559d0)>\n",
       "   #<QUATERNION (0.003436738297774528d0 0.005772709800403691d0 0.7078478439691029d0 0.7063330366522225d0)>>)\n",
       "           (:POSE-IN-MAP\n",
       "            #<CL-TRANSFORMS-STAMPED:POSE-STAMPED \n",
       "   FRAME-ID: \"map\", STAMP: 0.0\n",
       "   #<3D-VECTOR (-2.3186617533365887d0 -1.0088114420572916d0 0.8016609191894531d0)>\n",
       "   #<QUATERNION (0.006512063089758158d0 0.0016517812618985772d0 0.0010711305076256394d0 0.9999768733978271d0)>>)\n",
       "           (:TRANSFORM-IN-MAP\n",
       "            #<CL-TRANSFORMS-STAMPED:TRANSFORM-STAMPED \n",
       "   FRAME-ID: \"map\", CHILD-FRAME-ID: \"bottle_1\", STAMP: 0.0\n",
       "   #<3D-VECTOR (-2.3186617533365887d0 -1.0088114420572916d0 0.8016609191894531d0)>\n",
       "   #<QUATERNION (0.006512063089758158d0 0.0016517812618985772d0 0.0010711305076256394d0 0.9999768733978271d0)>>)))>"
      ]
     },
     "execution_count": 110,
     "metadata": {},
     "output_type": "execute_result"
    }
   ],
   "source": [
    "(urdf-proj:with-simulated-robot\n",
    "  (perform (an action\n",
    "               (type detecting)\n",
    "               (object (an object\n",
    "                          (type bottle))))))"
   ]
  },
  {
   "cell_type": "code",
   "execution_count": 102,
   "id": "5fe9aeab-8f5b-45c9-9318-b46bdf4ce14d",
   "metadata": {},
   "outputs": [
    {
     "data": {
      "text/plain": [
       "*PERCEIVED-BOTTLE*"
      ]
     },
     "execution_count": 102,
     "metadata": {},
     "output_type": "execute_result"
    },
    {
     "data": {
      "text/plain": [
       "#<A OBJECT\n",
       "    (TYPE BOTTLE)\n",
       "    (NAME BOTTLE-1)\n",
       "    (POSE ((:POSE\n",
       "            #<CL-TRANSFORMS-STAMPED:POSE-STAMPED \n",
       "   FRAME-ID: \"base_footprint\", STAMP: 0.0\n",
       "   #<3D-VECTOR (0.8089118639240022d0 -0.11868639808682913d0 0.8016715965270996d0)>\n",
       "   #<QUATERNION (0.0038287352764987143d0 0.006148431509879053d0 0.7077190849331083d0 0.7064568223600078d0)>>)\n",
       "           (:TRANSFORM\n",
       "            #<CL-TRANSFORMS-STAMPED:TRANSFORM-STAMPED \n",
       "   FRAME-ID: \"base_footprint\", CHILD-FRAME-ID: \"bottle_1\", STAMP: 0.0\n",
       "   #<3D-VECTOR (0.8089118639240022d0 -0.11868639808682913d0 0.8016715965270996d0)>\n",
       "   #<QUATERNION (0.0038287352764987143d0 0.006148431509879053d0 0.7077190849331083d0 0.7064568223600078d0)>>)\n",
       "           (:POSE-IN-MAP\n",
       "            #<CL-TRANSFORMS-STAMPED:POSE-STAMPED \n",
       "   FRAME-ID: \"map\", STAMP: 0.0\n",
       "   #<3D-VECTOR (-2.3186864217122394d0 -1.0089118321736654d0 0.8016716003417969d0)>\n",
       "   #<QUATERNION (0.007054922170937061d0 0.0016402729088440537d0 8.9255440980196d-4 0.9999733567237854d0)>>)\n",
       "           (:TRANSFORM-IN-MAP\n",
       "            #<CL-TRANSFORMS-STAMPED:TRANSFORM-STAMPED \n",
       "   FRAME-ID: \"map\", CHILD-FRAME-ID: \"bottle_1\", STAMP: 0.0\n",
       "   #<3D-VECTOR (-2.3186864217122394d0 -1.0089118321736654d0 0.8016716003417969d0)>\n",
       "   #<QUATERNION (0.007054922170937061d0 0.0016402729088440537d0 8.9255440980196d-4 0.9999733567237854d0)>>)))>"
      ]
     },
     "execution_count": 102,
     "metadata": {},
     "output_type": "execute_result"
    }
   ],
   "source": [
    "(defparameter *perceived-bottle* nil)\n",
    "(urdf-proj:with-simulated-robot\n",
    "    (setf *perceived-bottle* \n",
    "          (perform (an action\n",
    "                       (type detecting)\n",
    "                       (object (an object\n",
    "                                   (type bottle)))))))"
   ]
  },
  {
   "cell_type": "markdown",
   "id": "279d7110-3082-4d3a-8a18-d88e52e1e38c",
   "metadata": {},
   "source": [
    "## Picking up objects"
   ]
  },
  {
   "cell_type": "code",
   "execution_count": 103,
   "id": "3ea8468d-e6dc-4a63-83a9-a9900d91f3fa",
   "metadata": {},
   "outputs": [
    {
     "data": {
      "text/plain": [
       "NIL"
      ]
     },
     "execution_count": 103,
     "metadata": {},
     "output_type": "execute_result"
    }
   ],
   "source": [
    "(urdf-proj:with-simulated-robot \n",
    "  (let ((?perceived-bottle *perceived-bottle*))\n",
    "   (perform (an action\n",
    "                (type picking-up)\n",
    "                 (arm (right))\n",
    "                 (grasp right-side)\n",
    "                 (object ?perceived-bottle)))\n",
    "  ;; Parking the right arm after grasping, bringing the bottle close to the robot\n",
    "  ;; and freeing up the field of view.\n",
    "    (exe:perform\n",
    "           (desig:an action\n",
    "                     (type parking-arms)\n",
    "                     (arms (right))))))"
   ]
  },
  {
   "cell_type": "markdown",
   "id": "9028907c-e2a5-493b-ab7b-aed25fc8f410",
   "metadata": {},
   "source": [
    "## Placing Objects"
   ]
  },
  {
   "cell_type": "code",
   "execution_count": 133,
   "id": "c4afc418-f1e3-4d4b-bc6b-a3ec8ea34b86",
   "metadata": {},
   "outputs": [
    {
     "data": {
      "text/plain": [
       "*FINAL-OBJECT-DESTINATION*"
      ]
     },
     "execution_count": 133,
     "metadata": {},
     "output_type": "execute_result"
    },
    {
     "data": {
      "text/plain": [
       "*BASE-POSE-NEAR-COUNTER*"
      ]
     },
     "execution_count": 133,
     "metadata": {},
     "output_type": "execute_result"
    }
   ],
   "source": [
    "(defparameter *final-object-destination*\n",
    "  (make-pose \"map\" '((-0.8 2 0.9) (0 0 0 1))))\n",
    " \n",
    "(defparameter *base-pose-near-counter*\n",
    "  (make-pose \"map\" '((-0.150d0 2.0d0 0.0d0) (0.0d0 0.0d0 -1.0d0 0.0d0))))"
   ]
  },
  {
   "cell_type": "code",
   "execution_count": 125,
   "id": "a0fc47cb-7f5c-4da8-bb48-3002093076f7",
   "metadata": {
    "collapsed": true,
    "jupyter": {
     "outputs_hidden": true
    },
    "tags": []
   },
   "outputs": [
    {
     "data": {
      "text/plain": [
       "NIL"
      ]
     },
     "execution_count": 125,
     "metadata": {},
     "output_type": "execute_result"
    },
    {
     "name": "stdout",
     "output_type": "stream",
     "text": [
      "[(ROSNODE) INFO] 1663448222.960: ROS cleanup #<FUNCTION CRAM-TF::DESTROY-TF>.\n",
      "[(ROSNODE) INFO] 1663448222.960: ROS cleanup #<FUNCTION CRAM-TF::DESTROY-TF-BROADCASTER>.\n",
      "[(ROSNODE) INFO] 1663448222.960: ROS cleanup #<FUNCTION CRAM-TF::DESTROY-MARKER-PUBLISHER>.\n",
      "[(ROSNODE) INFO] 1663448222.960: ROS cleanup #<FUNCTION CRAM-BULLET-REASONING-BELIEF-STATE::DESTROY-JOINT-STATE-PUB>.\n",
      "[(ROSLISP TOP) INFO] 1663448226.476: Shutdown complete\n",
      "[(ROSLISP TOP) INFO] 1663448226.478: Node name is /cram_hl_475914_1663448226\n",
      "[(ROSLISP TOP) INFO] 1663448226.478: Namespace is /\n",
      "[(ROSLISP TOP) INFO] 1663448226.478: Params are NIL\n",
      "[(ROSLISP TOP) INFO] 1663448226.478: Remappings are:\n",
      "[(ROSLISP TOP) INFO] 1663448226.478: master URI is 127.0.0.1:11311\n",
      "[(ROSLISP TOP) INFO] 1663448227.486: Node startup complete\n",
      "[(ROSNODE) INFO] 1663448227.487: ROS init #<FUNCTION CRAM-TF::INIT-TF>.\n",
      "[(CRAM-TF INIT-TF) INFO] 1663448227.487: Set *fixed-frame* to \"map\".\n",
      "[(CRAM-TF INIT-TF) INFO] 1663448227.515: Environment name is IAI-KITCHEN.\n",
      "[(CRAM-TF INIT-TF) INFO] 1663448227.548: Initialized *transformer* to a TRANSFORM-LISTENER.\n",
      "[(CRAM-TF INIT-TF) INFO] 1663448227.549: *tf-default-timeout* is 4.0.\n",
      "[(CRAM-TF INIT-TF) INFO] 1663448227.566: Robot name is PR2.\n",
      "[(CRAM-TF INIT-TF) INFO] 1663448227.566: Set *ODOM-FRAME* to \"odom_combined\".\n",
      "[(CRAM-TF INIT-TF) INFO] 1663448227.566: Set *ROBOT-BASE-FRAME* to \"base_footprint\".\n",
      "[(CRAM-TF INIT-TF) INFO] 1663448227.566: Set *ROBOT-TORSO-FRAME* to \"torso_lift_link\".\n",
      "[(CRAM-TF INIT-TF) INFO] 1663448227.566: Set *ROBOT-TORSO-JOINT* to \"torso_lift_joint\".\n",
      "[(CRAM-TF INIT-TF) INFO] 1663448227.566: Set *ROBOT-LEFT-TOOL-FRAME* to \"l_gripper_tool_frame\".\n",
      "[(CRAM-TF INIT-TF) INFO] 1663448227.566: Set *ROBOT-RIGHT-TOOL-FRAME* to \"r_gripper_tool_frame\".\n",
      "[(ROSNODE) INFO] 1663448227.566: ROS init #<FUNCTION CRAM-TF::INIT-TF-BROADCASTER>.\n",
      "[(ROSNODE) INFO] 1663448227.566: ROS init #<FUNCTION CRAM-TF::INIT-MARKER-PUBLISHER>.\n",
      "[(ROSNODE) INFO] 1663448227.567: ROS init #<FUNCTION CRAM-LOCATION-COSTMAP::LOCATION-COSTMAP-VIS-INIT>.\n",
      "[(ROSNODE) INFO] 1663448227.568: ROS init #<FUNCTION CRAM-BULLET-REASONING-BELIEF-STATE::ROS-TIME-INIT>.\n",
      "[(ROSNODE) INFO] 1663448227.568: ROS init #<FUNCTION CRAM-OCCUPANCY-GRID-COSTMAP::INIT-OCCUPANCY-GRID-COSTMAP>.\n",
      "[(ROSNODE) INFO] 1663448227.575: ROS init #<FUNCTION CRAM-PR2-PICK-PLACE-DEMO::INIT-PROJECTION>.\n",
      "[(SET-ROBOT-STATE-FROM-TF) WARN] 1663448240.611: Failed with transform-stamped-error:\n",
      "    No transform was published between frames base_footprint and map\n",
      "    Ignore this warning if no real robot is running.\n"
     ]
    }
   ],
   "source": [
    "(roslisp-utilities:startup-ros)"
   ]
  },
  {
   "cell_type": "code",
   "execution_count": 137,
   "id": "ef05e5a0-2a06-4e56-ba58-804a489ecc42",
   "metadata": {},
   "outputs": [
    {
     "data": {
      "text/plain": [
       "NIL"
      ]
     },
     "execution_count": 137,
     "metadata": {},
     "output_type": "execute_result"
    },
    {
     "data": {
      "text/plain": [
       "NIL"
      ]
     },
     "execution_count": 137,
     "metadata": {},
     "output_type": "execute_result"
    },
    {
     "data": {
      "text/plain": [
       "1"
      ]
     },
     "execution_count": 137,
     "metadata": {},
     "output_type": "execute_result"
    },
    {
     "name": "stdout",
     "output_type": "stream",
     "text": [
      "[(SET-ROBOT-STATE-FROM-TF) WARN] 1663448620.515: Failed with transform-stamped-error:\n",
      "    No transform was published between frames base_footprint and map\n",
      "    Ignore this warning if no real robot is running.\n"
     ]
    }
   ],
   "source": [
    "(demo::initialize)\n",
    "\n",
    "(spawn-object '((-2.323 -1 0.82) (0 0 0 1)))\n",
    "\n",
    "(urdf-proj:with-simulated-robot\n",
    " (let ((?navigation-goal \n",
    "        (cl-transforms-stamped:make-pose-stamped \n",
    "            \"map\" 0.0 \n",
    "         (cl-transforms:make-3d-vector -2.2d0 -0.20d0 0.0d0)\n",
    "         (cl-transforms:euler->quaternion :az (* pi -0.50)))))\n",
    "      (perform (an action\n",
    "                 (type going)\n",
    "                 (target (a location \n",
    "                            (pose ?navigation-goal))))))\n",
    " \n",
    "\n",
    "  (let ((?looking-direction (make-pose \"base_footprint\" '((0.65335d0 0.076d0 0.758d0) (0 0 0 1)))))\n",
    "    (perform (an action\n",
    "                 (type looking)\n",
    "                 (target (a location \n",
    "                            (pose ?looking-direction))))))\n",
    " \n",
    " (let ((?perceived-bottle \n",
    "        (perform (an action\n",
    "                     (type detecting)\n",
    "                     (object (an object\n",
    "                                 (type bottle))))))\n",
    "       (?nav-goal (make-pose \"map\" '((-0.15d0 2.0d0 0.0d0) (0.0d0 0.0d0 -1.0d0 0.0d0))))\n",
    "       (?drop-pose (make-pose \"map\" '((-0.8 2 0.9) (0 0 0 1)))))\n",
    "  \n",
    "  (perform (an action\n",
    "                (type picking-up)\n",
    "                 (arm (right))\n",
    "                 ;(side right-side)\n",
    "                 (object ?perceived-bottle)))\n",
    "  ;; Parking the right arm after grasping, bringing the bottle close to the robot\n",
    "  ;; and freeing up the field of view.\n",
    "    (perform (an action\n",
    "                 (type parking-arms)))\n",
    "   (perform (a motion \n",
    "               (type moving-torso)\n",
    "               (joint-angle 0.3)))\n",
    "   (perform (an action\n",
    "                (type going)\n",
    "                (target (a location\n",
    "                           (pose ?nav-goal)))))\n",
    " \n",
    "   (perform (an action\n",
    "                (type placing)\n",
    "                (arm (right))\n",
    "                (object ?perceived-bottle)\n",
    "                (target (a location\n",
    "                           (pose ?drop-pose)))))))"
   ]
  },
  {
   "cell_type": "code",
   "execution_count": 112,
   "id": "eb8e1c2d-7711-40c5-af30-a417fdcfda02",
   "metadata": {
    "tags": []
   },
   "outputs": [
    {
     "data": {
      "text/plain": [
       "MOVE-KITCHEN-JOINT"
      ]
     },
     "execution_count": 112,
     "metadata": {},
     "output_type": "execute_result"
    },
    {
     "data": {
      "text/plain": [
       "ADD-OBJECTS-TO-MESH-LIST"
      ]
     },
     "execution_count": 112,
     "metadata": {},
     "output_type": "execute_result"
    },
    {
     "data": {
      "text/plain": [
       "PARK-ARMS"
      ]
     },
     "execution_count": 112,
     "metadata": {},
     "output_type": "execute_result"
    },
    {
     "data": {
      "text/plain": [
       "PARK-ARM"
      ]
     },
     "execution_count": 112,
     "metadata": {},
     "output_type": "execute_result"
    },
    {
     "data": {
      "text/plain": [
       "HANDLE-FAILURE"
      ]
     },
     "execution_count": 112,
     "metadata": {},
     "output_type": "execute_result"
    },
    {
     "data": {
      "text/plain": [
       "*POSE-BOTTLE-1*"
      ]
     },
     "execution_count": 112,
     "metadata": {},
     "output_type": "execute_result"
    },
    {
     "data": {
      "text/plain": [
       "*POSE-BOTTLE-2*"
      ]
     },
     "execution_count": 112,
     "metadata": {},
     "output_type": "execute_result"
    },
    {
     "data": {
      "text/plain": [
       "*POSE-MEAL-TABLE*"
      ]
     },
     "execution_count": 112,
     "metadata": {},
     "output_type": "execute_result"
    },
    {
     "data": {
      "text/plain": [
       "*POSE-COUNTER*"
      ]
     },
     "execution_count": 112,
     "metadata": {},
     "output_type": "execute_result"
    },
    {
     "data": {
      "text/plain": [
       "SPAWN-TWO-BOTTLES"
      ]
     },
     "execution_count": 112,
     "metadata": {},
     "output_type": "execute_result"
    },
    {
     "data": {
      "text/plain": [
       "NAVIGATE-TO"
      ]
     },
     "execution_count": 112,
     "metadata": {},
     "output_type": "execute_result"
    },
    {
     "data": {
      "text/plain": [
       "LOOK-AT"
      ]
     },
     "execution_count": 112,
     "metadata": {},
     "output_type": "execute_result"
    },
    {
     "data": {
      "text/plain": [
       "GET-PERCEIVED-BOTTLE-DESIG"
      ]
     },
     "execution_count": 112,
     "metadata": {},
     "output_type": "execute_result"
    },
    {
     "data": {
      "text/plain": [
       "PICK-UP"
      ]
     },
     "execution_count": 112,
     "metadata": {},
     "output_type": "execute_result"
    },
    {
     "data": {
      "text/plain": [
       "PLACE-DOWN"
      ]
     },
     "execution_count": 112,
     "metadata": {},
     "output_type": "execute_result"
    },
    {
     "data": {
      "text/plain": [
       "TEST-SWITCH-TWO-BOTTLES"
      ]
     },
     "execution_count": 112,
     "metadata": {},
     "output_type": "execute_result"
    }
   ],
   "source": [
    "\n",
    "\n",
    "(defun move-kitchen-joint (&key (joint-name \"iai_fridge_door_joint\")\n",
    "                             (joint-angle 0.2d0))\n",
    "  (btr:set-robot-state-from-joints\n",
    "   `((,joint-name  ,joint-angle))\n",
    "   (btr:get-environment-object)))\n",
    "\n",
    "(defun add-objects-to-mesh-list (&optional (ros-package \"cram_bullet_world_tutorial\"))\n",
    "  (mapcar (lambda (object-filename-and-object-extension)\n",
    "            (declare (type list object-filename-and-object-extension))\n",
    "            (destructuring-bind (object-filename object-extension)\n",
    "                object-filename-and-object-extension\n",
    "              (let ((lisp-name (roslisp-utilities:lispify-ros-underscore-name\n",
    "                                object-filename :keyword)))\n",
    "                (pushnew (list lisp-name\n",
    "                               (format nil \"package://~a/resource/~a.~a\"\n",
    "                                       ros-package object-filename object-extension)\n",
    "                               nil)\n",
    "                         btr::*mesh-files*\n",
    "                         :key #'car)\n",
    "                lisp-name)))\n",
    "          (mapcar (lambda (pathname)\n",
    "                    (list (pathname-name pathname) (pathname-type pathname)))\n",
    "                  (directory (physics-utils:parse-uri\n",
    "                              (format nil \"package://~a/resource/*.*\" ros-package))))))\n",
    "                              \n",
    "\n",
    ";;;; **** ARM Parking\n",
    "(defun park-arms ()\n",
    "  (pp-plans::park-arms))\n",
    "\n",
    "(defun park-arm (arm)\n",
    "  (pp-plans::park-arms :arm arm))\n",
    "\n",
    ";;**** Failure Handler\n",
    "(defmacro handle-failure (errors program-body &body error-handler-body)\n",
    "  `(progn\n",
    "    (cpl:with-failure-handling\n",
    "        ((,errors (e)\n",
    "           (print e)\n",
    "           ,@error-handler-body))\n",
    "    ,@program-body)))\n",
    "\n",
    "\n",
    "(defparameter *pose-bottle-1*\n",
    "  (cl-transforms-stamped:make-pose-stamped\n",
    "   \"map\" 0.0\n",
    "   (cl-transforms:make-3d-vector -2 -0.9d0 0.86d0)\n",
    "   (cl-transforms:make-identity-rotation)))\n",
    "\n",
    "(defparameter *pose-bottle-2*\n",
    "  (cl-transforms-stamped:make-pose-stamped\n",
    "   \"map\" 0.0\n",
    "   (cl-transforms:make-3d-vector -0.8 2 0.9)\n",
    "   (cl-transforms:make-identity-rotation)))\n",
    "\n",
    "(defparameter *pose-meal-table*\n",
    "  (cl-transforms-stamped:make-pose-stamped\n",
    "   \"map\" 0.0\n",
    "   (cl-transforms:make-3d-vector -0.15 2.0 0)\n",
    "   (cl-transforms:make-quaternion 0.0d0 0.0d0 -1.0d0 0.0d0)))\n",
    "\n",
    "(defparameter *pose-counter*\n",
    "  (cl-transforms-stamped:make-pose-stamped\n",
    "   \"map\" 0.0\n",
    "   (cl-transforms:make-3d-vector -1.8547d0 -0.381d0 0.0d0)\n",
    "   (cl-transforms:axis-angle->quaternion (cl-transforms:make-3d-vector 0 0 1) (/ pi -2))))\n",
    "\n",
    "(defun spawn-two-bottles ()\n",
    "  (unless (assoc :bottle btr::*mesh-files*)\n",
    "    (add-objects-to-mesh-list))\n",
    "  (prolog:prolog\n",
    "   `(and (btr:bullet-world ?world)\n",
    "         (assert (btr:object ?world :mesh bottle-1 ((-2 -0.9 0.860) (0 0 0 1))\n",
    "                             :mass 0.2 :color (1 0 0) :mesh :bottle))\n",
    "         (assert (btr:object ?world :mesh bottle-2 ((-0.8 2 0.9) (0 0 0 1))\n",
    "                             :mass 0.2 :color (0 1 0) :mesh :bottle))\n",
    "         (btr:simulate ?world 100))))\n",
    "\n",
    "(defun navigate-to (?navigation-goal)\n",
    "  (exe:perform (desig:a motion\n",
    "                        (type going)\n",
    "                        (pose ?navigation-goal))))\n",
    "\n",
    "(defun look-at (?point-of-interest)\n",
    "  (exe:perform (desig:a motion\n",
    "                        (type looking)\n",
    "                        (pose ?point-of-interest))))\n",
    "\n",
    "(defun get-perceived-bottle-desig ()\n",
    "  (let* ((?bottle-desig (desig:an object (type bottle)))\n",
    "         (?perceived-bottle-desig (exe:perform\n",
    "                                   (desig:a motion\n",
    "                                            (type detecting)\n",
    "                                            (object ?bottle-desig)))))\n",
    "    ?perceived-bottle-desig))\n",
    "\n",
    "(defun pick-up (?object-designator &optional (?arm :right))\n",
    "  (exe:perform (desig:an action\n",
    "                         (type picking-up)\n",
    "                         (arm ?arm)\n",
    "                         (object ?object-designator))))\n",
    "\n",
    "(defun place-down (?pose ?object ?arm)\n",
    "  (exe:perform (desig:an action\n",
    "                         (type placing)\n",
    "                         (arm ?arm)\n",
    "                         (object ?object)\n",
    "                         (target (desig:a location (pose ?pose))))))\n",
    "\n",
    "(defun test-switch-two-bottles ()\n",
    "  (spawn-two-bottles)\n",
    "  (proj:with-projection-environment urdf-proj:urdf-bullet-projection-environment\n",
    "    (cpl:top-level\n",
    "      ;; Go to counter top and perceive bottle\n",
    "      (let ((?navigation-goal *pose-counter*)\n",
    "            (?ptu-goal \n",
    "              (cl-transforms-stamped:make-pose-stamped\n",
    "               \"base_footprint\"\n",
    "               0.0\n",
    "               (cl-transforms:make-3d-vector 0.65335d0 0.076d0 0.758d0)\n",
    "               (cl-transforms:make-identity-rotation))))\n",
    "        (cpl:par\n",
    "          ;; Move torso up\n",
    "          (exe:perform\n",
    "           (desig:a motion (type moving-torso) (joint-angle 0.3)))\n",
    "          (exe:perform\n",
    "           (desig:an action\n",
    "                     (type parking-arms)))\n",
    "          (navigate-to ?navigation-goal))\n",
    "        (look-at ?ptu-goal))\n",
    "      ;; Pick up bottle-1 with right arm.\n",
    "      (let ((?perceived-bottle-1 (get-perceived-bottle-desig)))\n",
    "        (pick-up ?perceived-bottle-1 :right)\n",
    "        (exe:perform\n",
    "         (desig:an action\n",
    "                   (type parking-arms)\n",
    "                   (arms (:right))))\n",
    "        ;; Move to the meal table\n",
    "        (let ((?pose *pose-meal-table*))\n",
    "          (navigate-to ?pose))\n",
    "        ;; Pick up bottle-2 with left arm\n",
    "        (let ((?perceived-bottle-2 (get-perceived-bottle-desig)))\n",
    "          (pick-up ?perceived-bottle-2 :left)\n",
    "          ;; Move left arm out of sight\n",
    "          (exe:perform\n",
    "           (desig:an action\n",
    "                     (type parking-arms)\n",
    "                     (arms (:left))))\n",
    "          ;; Place bottle-1 on second table\n",
    "          (let ((?drop-pose *pose-bottle-2*))\n",
    "            (place-down ?drop-pose ?perceived-bottle-1 :right))\n",
    "          ;; Move right arm out of sight\n",
    "          (exe:perform\n",
    "           (desig:an action\n",
    "                     (type parking-arms)\n",
    "                     (arms (:right))))\n",
    "          ;; Move to the counter table\n",
    "          (let ((?navigation-goal *pose-counter*))\n",
    "            (navigate-to ?navigation-goal))\n",
    "          ;; Place bottle-2 on the counter\n",
    "          (let ((?drop-pose *pose-bottle-1*))\n",
    "            (place-down ?drop-pose ?perceived-bottle-2 :left))\n",
    "          (exe:perform\n",
    "           (desig:an action\n",
    "                     (type parking-arms))))))))"
   ]
  }
 ],
 "metadata": {
  "kernelspec": {
   "display_name": "Common Lisp",
   "language": "common-lisp",
   "name": "common-lisp"
  },
  "language_info": {
   "codemirror_mode": "text/x-common-lisp",
   "file_extension": ".lisp",
   "mimetype": "text/x-common-lisp",
   "name": "common-lisp",
   "pygments_lexer": "common-lisp",
   "version": "2.0.1.debian"
  }
 },
 "nbformat": 4,
 "nbformat_minor": 5
}
