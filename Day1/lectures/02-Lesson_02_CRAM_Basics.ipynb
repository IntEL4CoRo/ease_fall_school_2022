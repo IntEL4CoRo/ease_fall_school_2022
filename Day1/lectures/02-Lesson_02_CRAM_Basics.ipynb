{
 "cells": [
  {
   "cell_type": "markdown",
   "id": "6c77e44b-8a55-4882-ba13-86275964de07",
   "metadata": {},
   "source": [
    "# Lesson 02 - CRAM Basics\n",
    "\n",
    "## Loading the tutorial package\n",
    "\n",
    "`ros-load:load-system` loads an ASDF (Another System Definition Facility) syste, from within a Catkin package."
   ]
  },
  {
   "cell_type": "code",
   "execution_count": 4,
   "id": "7da33bc2-df1f-41cc-8d61-a278e75990ea",
   "metadata": {
    "tags": []
   },
   "outputs": [
    {
     "data": {
      "text/plain": [
       "T"
      ]
     },
     "execution_count": 4,
     "metadata": {},
     "output_type": "execute_result"
    }
   ],
   "source": [
    "(asdf:load-system :cram-pr2-pick-place-demo)"
   ]
  },
  {
   "cell_type": "code",
   "execution_count": 5,
   "id": "ed252f25-d7b7-4d0f-839c-8b18c0bdede6",
   "metadata": {
    "tags": []
   },
   "outputs": [
    {
     "data": {
      "text/plain": [
       "#<PACKAGE \"CRAM-BULLET-WORLD-TUTORIAL\">"
      ]
     },
     "execution_count": 5,
     "metadata": {},
     "output_type": "execute_result"
    }
   ],
   "source": [
    "(defpackage cram-bullet-world-tutorial\n",
    "  (:nicknames #:btw-tut)\n",
    "   (:use #:common-lisp #:cram-prolog\n",
    "        #:desig #:exe)\n",
    "  (:export))"
   ]
  },
  {
   "cell_type": "code",
   "execution_count": 7,
   "id": "6d1e5f6f-dccb-4529-a9de-a7f5d4d4a085",
   "metadata": {},
   "outputs": [
    {
     "data": {
      "text/plain": [
       "#<PACKAGE \"CRAM-BULLET-WORLD-TUTORIAL\">"
      ]
     },
     "execution_count": 7,
     "metadata": {},
     "output_type": "execute_result"
    }
   ],
   "source": [
    "(in-package :btw-tut)"
   ]
  },
  {
   "cell_type": "markdown",
   "id": "9c04b3df-c232-46e8-b198-632ff19e0cb3",
   "metadata": {},
   "source": [
    "Now to launch a simulation with a kitchen environment and our robot, type the following command into your Lisp command line:"
   ]
  },
  {
   "cell_type": "code",
   "execution_count": 8,
   "id": "88f0f2d4-0262-4352-b63d-31fc4e6d868c",
   "metadata": {
    "collapsed": true,
    "jupyter": {
     "outputs_hidden": true
    },
    "tags": []
   },
   "outputs": [
    {
     "data": {
      "text/plain": [
       "NIL"
      ]
     },
     "execution_count": 8,
     "metadata": {},
     "output_type": "execute_result"
    },
    {
     "name": "stdout",
     "output_type": "stream",
     "text": [
      "[(ROSLISP TOP) INFO] 1663438498.716: Node name is /cram_hl_691166_1663438498\n",
      "[(ROSLISP TOP) INFO] 1663438498.717: Namespace is /\n",
      "[(ROSLISP TOP) INFO] 1663438498.717: Params are NIL\n",
      "[(ROSLISP TOP) INFO] 1663438498.717: Remappings are:\n",
      "[(ROSLISP TOP) INFO] 1663438498.717: master URI is 127.0.0.1:11311\n",
      "[(ROSLISP TOP) INFO] 1663438501.731: Node startup complete\n",
      "[(ROSNODE) INFO] 1663438501.737: ROS init #<FUNCTION CRAM-TF::INIT-TF>.\n",
      "[(CRAM-TF INIT-TF) INFO] 1663438501.737: Set *fixed-frame* to \"map\".\n",
      "[(CRAM-TF INIT-TF) INFO] 1663438501.848: Environment name is IAI-KITCHEN.\n",
      "[(CRAM-TF INIT-TF) INFO] 1663438501.879: Initialized *transformer* to a TRANSFORM-LISTENER.\n",
      "[(CRAM-TF INIT-TF) INFO] 1663438501.886: *tf-default-timeout* is 4.0.\n",
      "[(CRAM-TF INIT-TF) INFO] 1663438501.906: Robot name is PR2.\n",
      "[(CRAM-TF INIT-TF) INFO] 1663438501.911: Set *ODOM-FRAME* to \"odom_combined\".\n",
      "[(CRAM-TF INIT-TF) INFO] 1663438501.911: Set *ROBOT-BASE-FRAME* to \"base_footprint\".\n",
      "[(CRAM-TF INIT-TF) INFO] 1663438501.911: Set *ROBOT-TORSO-FRAME* to \"torso_lift_link\".\n",
      "[(CRAM-TF INIT-TF) INFO] 1663438501.911: Set *ROBOT-TORSO-JOINT* to \"torso_lift_joint\".\n",
      "[(CRAM-TF INIT-TF) INFO] 1663438501.911: Set *ROBOT-LEFT-TOOL-FRAME* to \"l_gripper_tool_frame\".\n",
      "[(CRAM-TF INIT-TF) INFO] 1663438501.911: Set *ROBOT-RIGHT-TOOL-FRAME* to \"r_gripper_tool_frame\".\n",
      "[(ROSNODE) INFO] 1663438501.911: ROS init #<FUNCTION CRAM-TF::INIT-TF-BROADCASTER>.\n",
      "[(ROSNODE) INFO] 1663438501.913: ROS init #<FUNCTION CRAM-TF::INIT-MARKER-PUBLISHER>.\n",
      "[(ROSNODE) INFO] 1663438501.914: ROS init #<FUNCTION CRAM-LOCATION-COSTMAP::LOCATION-COSTMAP-VIS-INIT>.\n",
      "[(ROSNODE) INFO] 1663438501.915: ROS init #<FUNCTION CRAM-BULLET-REASONING-BELIEF-STATE::ROS-TIME-INIT>.\n",
      "[(ROSNODE) INFO] 1663438501.915: ROS init #<FUNCTION CRAM-OCCUPANCY-GRID-COSTMAP::INIT-OCCUPANCY-GRID-COSTMAP>.\n",
      "[(ROSNODE) INFO] 1663438501.926: ROS init #<FUNCTION CRAM-PR2-PICK-PLACE-DEMO::INIT-PROJECTION>.\n",
      "[(SET-ROBOT-STATE-FROM-TF) WARN] 1663438514.324: Failed with transform-stamped-error:\n",
      "    No transform was published between frames base_footprint and map\n",
      "    Ignore this warning if no real robot is running.\n"
     ]
    }
   ],
   "source": [
    "(roslisp-utilities:startup-ros)"
   ]
  },
  {
   "cell_type": "code",
   "execution_count": 10,
   "id": "65310615-eb86-4b3e-a796-fe95884437ca",
   "metadata": {
    "tags": []
   },
   "outputs": [
    {
     "data": {
      "text/plain": [
       "(:BLUE-METAL-PLATE :BOTTLE :BOWL :BREAKFAST-CEREAL :BUTTERMILK :CEREAL :CUBE\n",
       " :CUP :FORK :KNIFE :MILK :MILK :RED-METAL-PLATE :SPOON :SPOON :TRAY-BASE :TRAY)"
      ]
     },
     "execution_count": 10,
     "metadata": {},
     "output_type": "execute_result"
    },
    {
     "name": "stdout",
     "output_type": "stream",
     "text": [
      "[(SET-ROBOT-STATE-FROM-TF) WARN] 1663438539.241: Failed with transform-stamped-error:\n",
      "    No transform was published between frames base_footprint and map\n",
      "    Ignore this warning if no real robot is running.\n"
     ]
    }
   ],
   "source": [
    "(demo::init-projection)"
   ]
  },
  {
   "cell_type": "code",
   "execution_count": 11,
   "id": "0e264a08-50ef-4d2c-ae87-5e830da9e81f",
   "metadata": {},
   "outputs": [
    {
     "data": {
      "text/plain": [
       "NIL"
      ]
     },
     "execution_count": 11,
     "metadata": {},
     "output_type": "execute_result"
    }
   ],
   "source": [
    "(btr-utils:reset-debug-window)"
   ]
  },
  {
   "cell_type": "markdown",
   "id": "f99f0479-387e-4c9e-b60a-03511f806d2b",
   "metadata": {},
   "source": [
    "## Moving Around\n",
    "\n"
   ]
  },
  {
   "cell_type": "code",
   "execution_count": 12,
   "id": "cb2de1ea-9969-4b58-98d3-66dde2dda51e",
   "metadata": {},
   "outputs": [
    {
     "data": {
      "text/plain": [
       "MAKE-POSE"
      ]
     },
     "execution_count": 12,
     "metadata": {},
     "output_type": "execute_result"
    }
   ],
   "source": [
    "(defun make-pose (reference-frame pose)\n",
    "    \"Creates a cl-transforms pose in 3D space w.r.t. the given `reference-frame' and `pose'.\n",
    "    The pose is given as a list of two lists, where the first are the x y z coordinates, \n",
    "    the second is the quaternion of qx qy qz w, like this: '((2.0 0.0 1.5) (0.0 0.0 0.0 1.0))\"\n",
    "  (cl-transforms-stamped:make-pose-stamped\n",
    "   reference-frame 0.0\n",
    "   (apply #'cl-transforms:make-3d-vector (first pose))\n",
    "   (apply #'cl-transforms:make-quaternion (second pose))))"
   ]
  },
  {
   "cell_type": "code",
   "execution_count": 13,
   "id": "6de4ca3b-0c62-4a61-84dc-33c5e6c29c49",
   "metadata": {},
   "outputs": [
    {
     "data": {
      "text/plain": [
       "#<HASH-TABLE :TEST EQUAL :COUNT 90 {100443F003}>"
      ]
     },
     "execution_count": 13,
     "metadata": {},
     "output_type": "execute_result"
    }
   ],
   "source": [
    "(urdf-proj:with-simulated-robot\n",
    "  (let ((?navigation-goal (make-pose \"map\" '((0 1 0) (0 0 0 1)))))\n",
    "    (perform (an action\n",
    "                 (type going)\n",
    "                 (target (a location \n",
    "                            (pose ?navigation-goal)))))))"
   ]
  },
  {
   "cell_type": "code",
   "execution_count": 18,
   "id": "20b63db3-e46d-49ed-b507-0e1d365e716e",
   "metadata": {},
   "outputs": [
    {
     "data": {
      "text/plain": [
       "*BASE-POSE-NEAR-TABLE*"
      ]
     },
     "execution_count": 18,
     "metadata": {},
     "output_type": "execute_result"
    }
   ],
   "source": [
    "(defparameter *base-pose-near-table*\n",
    "    \"A pose for the robot to stand near the table\"\n",
    "  (make-pose \"map\" \n",
    "             '((-2.2d0 -0.20d0 0.0d0) \n",
    "               (0.0d0 0.0d0 -0.707d0 0.707d0))))"
   ]
  },
  {
   "cell_type": "code",
   "execution_count": 22,
   "id": "7caad455-395b-4c08-91cf-dfc89e1a6e67",
   "metadata": {},
   "outputs": [
    {
     "data": {
      "text/plain": [
       "#<HASH-TABLE :TEST EQUAL :COUNT 90 {1011DC98D3}>"
      ]
     },
     "execution_count": 22,
     "metadata": {},
     "output_type": "execute_result"
    }
   ],
   "source": [
    "(urdf-proj:with-simulated-robot\n",
    "  (let ((?navigation-goal *base-pose-near-table*))\n",
    "     (perform (an action\n",
    "                 (type going)\n",
    "                  (target (a location \n",
    "                             (pose ?navigation-goal)))))))"
   ]
  },
  {
   "cell_type": "markdown",
   "id": "b7d1702b-59d4-4565-9880-8eb9f5fb8ca7",
   "metadata": {},
   "source": [
    "Advanced definition of poses with euler angles provides a quaternion."
   ]
  },
  {
   "cell_type": "code",
   "execution_count": 20,
   "id": "56f280ac-3b30-40ef-a949-ca9b6c65c667",
   "metadata": {},
   "outputs": [
    {
     "data": {
      "text/plain": [
       "#<CL-TRANSFORMS:QUATERNION (0.0d0 0.0d0 0.7071067811865475d0 0.7071067811865476d0)>"
      ]
     },
     "execution_count": 20,
     "metadata": {},
     "output_type": "execute_result"
    }
   ],
   "source": [
    "(cl-transforms:euler->quaternion :az (* pi 0.5)) ;; rotation of pi/2 around the z-axis = 90 degree to the left"
   ]
  },
  {
   "cell_type": "markdown",
   "id": "0d03a20f-877a-48c4-bdab-eba5437ca105",
   "metadata": {},
   "source": [
    "The resulting quaternion can be used to specify rotations around an axis. Here we a creating a pose without the help of the `make-pose` function."
   ]
  },
  {
   "cell_type": "code",
   "execution_count": 21,
   "id": "0c872857-9f5b-43f9-bf4f-4fcecfe653a4",
   "metadata": {},
   "outputs": [
    {
     "data": {
      "text/plain": [
       "*BASE-POSE-NEAR-TABLE*"
      ]
     },
     "execution_count": 21,
     "metadata": {},
     "output_type": "execute_result"
    }
   ],
   "source": [
    "(defparameter *base-pose-near-table*\n",
    "  (cl-transforms-stamped:make-pose-stamped \n",
    "   \"map\" 0.0 \n",
    "   (cl-transforms:make-3d-vector -2.2d0 -0.20d0 0.0d0)\n",
    "   (cl-transforms:euler->quaternion :az (* pi -0.5))))"
   ]
  },
  {
   "cell_type": "markdown",
   "id": "ece6175b-23ee-4857-ae29-852a383a2dc5",
   "metadata": {},
   "source": [
    "## Spawning Objects"
   ]
  },
  {
   "cell_type": "code",
   "execution_count": 31,
   "id": "b3b041dd-b31f-4def-9e9f-15d9e87a2d93",
   "metadata": {},
   "outputs": [
    {
     "data": {
      "text/plain": [
       "SPAWN-OBJECT"
      ]
     },
     "execution_count": 31,
     "metadata": {},
     "output_type": "execute_result"
    },
    {
     "name": "stdout",
     "output_type": "stream",
     "text": [
      "SB-KERNEL:REDEFINITION-WITH-DEFUN: redefining CRAM-BULLET-WORLD-TUTORIAL::SPAWN-OBJECT in DEFUN\n"
     ]
    }
   ],
   "source": [
    "(defun spawn-object (spawn-pose &optional (obj-type :bottle) (obj-name 'bottle-1) (obj-color '(1 0 0)))\n",
    "    \"Spawns an object into simulation.\n",
    "    spawn-pose: list - target pose coordinates like this: '((x y z) (qx qy qz w))\n",
    "    optional:\n",
    "      obj-type: keyword - the type of object to spawn, like :bottle (case-insensitive)\n",
    "      obj-name: symbol - name of the object, like 'bottle-1 (case-insensitive)\n",
    "      obj-color: list - (r g b) color value for the object. Range per value is 0.0 - 1.0\"\n",
    "  (unless (assoc obj-type btr::*mesh-files*)\n",
    "    (btr:add-objects-to-mesh-list \"cram_pr2_pick_place_demo\"))\n",
    "  (btr-utils:spawn-object obj-name obj-type :color obj-color :pose spawn-pose)\n",
    "  (btr:simulate btr:*current-bullet-world* 10))"
   ]
  },
  {
   "cell_type": "markdown",
   "id": "bc4f404b-f68e-4c5e-8444-1294dfa37799",
   "metadata": {},
   "source": [
    "To find all possible `obj-type`, the parameter `btr::*mesh-files*` contains the mesh files as key-value pairs between keyword and the location of their mesh-file. We can map over that list and only return their keys. "
   ]
  },
  {
   "cell_type": "code",
   "execution_count": 35,
   "id": "4add0315-398c-44b1-aff1-bd95c59927d5",
   "metadata": {
    "tags": []
   },
   "outputs": [
    {
     "data": {
      "text/plain": [
       "(:TRAY-BASE :SPOON :RED-METAL-PLATE :MILK :CUBE :CEREAL :BUTTERMILK\n",
       " :BREAKFAST-CEREAL :BOTTLE :BLUE-METAL-PLATE :MUG :MUG-COMPOUND :PLATE\n",
       " :PLATE-COMPOUND :TRAY :TRAY-COMPOUND :CUP-NON-COMPOUND :CUP :MONDAMIN :POT\n",
       " :WEISSWURST :BOWL-ORIGINAL :BOWL-NON-COMPOUND :BOWL :FORK :KNIFE :SPATULA :CAP\n",
       " :GLASSES :GLOVE :SHOE :ARROW)"
      ]
     },
     "execution_count": 35,
     "metadata": {},
     "output_type": "execute_result"
    }
   ],
   "source": [
    ";; the parameter btr::*mesh-files* contains the mesh files \n",
    "(map 'list #'first btr::*mesh-files*)"
   ]
  },
  {
   "cell_type": "markdown",
   "id": "17ca61f1-e9ab-4a11-9e7f-49b0c7673e6f",
   "metadata": {},
   "source": [
    "## Poses and stuff"
   ]
  },
  {
   "cell_type": "code",
   "execution_count": 3,
   "id": "eb8e1c2d-7711-40c5-af30-a417fdcfda02",
   "metadata": {
    "collapsed": true,
    "jupyter": {
     "outputs_hidden": true
    },
    "tags": []
   },
   "outputs": [
    {
     "data": {
      "text/plain": [
       "MAKE-POSE"
      ]
     },
     "execution_count": 3,
     "metadata": {},
     "output_type": "execute_result"
    },
    {
     "data": {
      "text/plain": [
       "VISUALIZE-COORDINATES"
      ]
     },
     "execution_count": 3,
     "metadata": {},
     "output_type": "execute_result"
    },
    {
     "data": {
      "text/plain": [
       "MOVE-KITCHEN-JOINT"
      ]
     },
     "execution_count": 3,
     "metadata": {},
     "output_type": "execute_result"
    },
    {
     "data": {
      "text/plain": [
       "ADD-OBJECTS-TO-MESH-LIST"
      ]
     },
     "execution_count": 3,
     "metadata": {},
     "output_type": "execute_result"
    },
    {
     "data": {
      "text/plain": [
       "SPAWN-OBJECT"
      ]
     },
     "execution_count": 3,
     "metadata": {},
     "output_type": "execute_result"
    },
    {
     "data": {
      "text/plain": [
       "LIST-AVAILABLE-OBJECTS"
      ]
     },
     "execution_count": 3,
     "metadata": {},
     "output_type": "execute_result"
    },
    {
     "data": {
      "text/plain": [
       "PARK-ARMS"
      ]
     },
     "execution_count": 3,
     "metadata": {},
     "output_type": "execute_result"
    },
    {
     "data": {
      "text/plain": [
       "PARK-ARM"
      ]
     },
     "execution_count": 3,
     "metadata": {},
     "output_type": "execute_result"
    },
    {
     "data": {
      "text/plain": [
       "HANDLE-FAILURE"
      ]
     },
     "execution_count": 3,
     "metadata": {},
     "output_type": "execute_result"
    },
    {
     "data": {
      "text/plain": [
       "*POSE-BOTTLE-1*"
      ]
     },
     "execution_count": 3,
     "metadata": {},
     "output_type": "execute_result"
    },
    {
     "data": {
      "text/plain": [
       "*POSE-BOTTLE-2*"
      ]
     },
     "execution_count": 3,
     "metadata": {},
     "output_type": "execute_result"
    },
    {
     "data": {
      "text/plain": [
       "*POSE-MEAL-TABLE*"
      ]
     },
     "execution_count": 3,
     "metadata": {},
     "output_type": "execute_result"
    },
    {
     "data": {
      "text/plain": [
       "*POSE-COUNTER*"
      ]
     },
     "execution_count": 3,
     "metadata": {},
     "output_type": "execute_result"
    },
    {
     "data": {
      "text/plain": [
       "SPAWN-TWO-BOTTLES"
      ]
     },
     "execution_count": 3,
     "metadata": {},
     "output_type": "execute_result"
    },
    {
     "data": {
      "text/plain": [
       "NAVIGATE-TO"
      ]
     },
     "execution_count": 3,
     "metadata": {},
     "output_type": "execute_result"
    },
    {
     "data": {
      "text/plain": [
       "LOOK-AT"
      ]
     },
     "execution_count": 3,
     "metadata": {},
     "output_type": "execute_result"
    },
    {
     "data": {
      "text/plain": [
       "GET-PERCEIVED-BOTTLE-DESIG"
      ]
     },
     "execution_count": 3,
     "metadata": {},
     "output_type": "execute_result"
    },
    {
     "data": {
      "text/plain": [
       "PICK-UP"
      ]
     },
     "execution_count": 3,
     "metadata": {},
     "output_type": "execute_result"
    },
    {
     "data": {
      "text/plain": [
       "PLACE-DOWN"
      ]
     },
     "execution_count": 3,
     "metadata": {},
     "output_type": "execute_result"
    },
    {
     "data": {
      "text/plain": [
       "TEST-SWITCH-TWO-BOTTLES"
      ]
     },
     "execution_count": 3,
     "metadata": {},
     "output_type": "execute_result"
    }
   ],
   "source": [
    "\n",
    "   \n",
    ";;; ****Coordinate Visualization \n",
    "\n",
    "(defun visualize-coordinates (object-or-pose &optional (size 0.3))\n",
    "  (flet ((find-object-of-type (type)\n",
    "           (find type\n",
    "                 (remove-if-not (lambda (obj) (typep obj 'btr:item))\n",
    "                                (btr:objects btr:*current-bullet-world*))\n",
    "                 :test (lambda (type item) (eql type (car (slot-value item 'btr::types)))))))\n",
    "    (etypecase object-or-pose\n",
    "      (symbol\n",
    "       (if (btr:object btr:*current-bullet-world* object-or-pose)\n",
    "           (btr:add-vis-axis-object object-or-pose :length size)\n",
    "           (if (find-object-of-type object-or-pose)\n",
    "               (btr:add-vis-axis-object\n",
    "                (btr:name (find-object-of-type object-or-pose))\n",
    "                :length size)\n",
    "               (warn \"Unknown object, please either give an object name or object type.\"))))\n",
    "      (cl-transforms-stamped:pose-stamped\n",
    "       (when (equalp (cl-transforms-stamped:frame-id object-or-pose) \"base_footprint\")\n",
    "         (warn \"Pose is not in MAP frame. It is visualized with respect to the MAP though.\"))\n",
    "       (btr:add-vis-axis-object object-or-pose :length size))\n",
    "      (cl-transforms:pose\n",
    "       (btr:add-vis-axis-object object-or-pose :length size)))))\n",
    "\n",
    "\n",
    "\n",
    "(defun move-kitchen-joint (&key (joint-name \"iai_fridge_door_joint\")\n",
    "                             (joint-angle 0.2d0))\n",
    "  (btr:set-robot-state-from-joints\n",
    "   `((,joint-name  ,joint-angle))\n",
    "   (btr:get-environment-object)))\n",
    "\n",
    "(defun add-objects-to-mesh-list (&optional (ros-package \"cram_bullet_world_tutorial\"))\n",
    "  (mapcar (lambda (object-filename-and-object-extension)\n",
    "            (declare (type list object-filename-and-object-extension))\n",
    "            (destructuring-bind (object-filename object-extension)\n",
    "                object-filename-and-object-extension\n",
    "              (let ((lisp-name (roslisp-utilities:lispify-ros-underscore-name\n",
    "                                object-filename :keyword)))\n",
    "                (pushnew (list lisp-name\n",
    "                               (format nil \"package://~a/resource/~a.~a\"\n",
    "                                       ros-package object-filename object-extension)\n",
    "                               nil)\n",
    "                         btr::*mesh-files*\n",
    "                         :key #'car)\n",
    "                lisp-name)))\n",
    "          (mapcar (lambda (pathname)\n",
    "                    (list (pathname-name pathname) (pathname-type pathname)))\n",
    "                  (directory (physics-utils:parse-uri\n",
    "                              (format nil \"package://~a/resource/*.*\" ros-package))))))\n",
    "                              \n",
    ";;; ****Define Object \n",
    "(defun spawn-object (spawn-pose &optional (obj-type :bottle) (obj-name 'bottle-1) (obj-color '(1 0 0)))\n",
    "  (unless (assoc obj-type btr::*mesh-files*)\n",
    "    (btr:add-objects-to-mesh-list \"cram_pr2_pick_place_demo\"))\n",
    "  (btr-utils:spawn-object obj-name obj-type :color obj-color :pose spawn-pose)\n",
    "  (btr:simulate btr:*current-bullet-world* 10))\n",
    ";;; ****List of Object\n",
    "(defun list-available-objects ()\n",
    "  (mapcar #'car btr::*mesh-files*))\n",
    ";;;; **** ARM Parking\n",
    "(defun park-arms ()\n",
    "  (pp-plans::park-arms))\n",
    "\n",
    "(defun park-arm (arm)\n",
    "  (pp-plans::park-arms :arm arm))\n",
    "\n",
    ";;**** Failure Handler\n",
    "(defmacro handle-failure (errors program-body &body error-handler-body)\n",
    "  `(progn\n",
    "    (cpl:with-failure-handling\n",
    "        ((,errors (e)\n",
    "           (print e)\n",
    "           ,@error-handler-body))\n",
    "    ,@program-body)))\n",
    "\n",
    "\n",
    "(defparameter *pose-bottle-1*\n",
    "  (cl-transforms-stamped:make-pose-stamped\n",
    "   \"map\" 0.0\n",
    "   (cl-transforms:make-3d-vector -2 -0.9d0 0.86d0)\n",
    "   (cl-transforms:make-identity-rotation)))\n",
    "\n",
    "(defparameter *pose-bottle-2*\n",
    "  (cl-transforms-stamped:make-pose-stamped\n",
    "   \"map\" 0.0\n",
    "   (cl-transforms:make-3d-vector -0.8 2 0.9)\n",
    "   (cl-transforms:make-identity-rotation)))\n",
    "\n",
    "(defparameter *pose-meal-table*\n",
    "  (cl-transforms-stamped:make-pose-stamped\n",
    "   \"map\" 0.0\n",
    "   (cl-transforms:make-3d-vector -0.15 2.0 0)\n",
    "   (cl-transforms:make-quaternion 0.0d0 0.0d0 -1.0d0 0.0d0)))\n",
    "\n",
    "(defparameter *pose-counter*\n",
    "  (cl-transforms-stamped:make-pose-stamped\n",
    "   \"map\" 0.0\n",
    "   (cl-transforms:make-3d-vector -1.8547d0 -0.381d0 0.0d0)\n",
    "   (cl-transforms:axis-angle->quaternion (cl-transforms:make-3d-vector 0 0 1) (/ pi -2))))\n",
    "\n",
    "(defun spawn-two-bottles ()\n",
    "  (unless (assoc :bottle btr::*mesh-files*)\n",
    "    (add-objects-to-mesh-list))\n",
    "  (prolog:prolog\n",
    "   `(and (btr:bullet-world ?world)\n",
    "         (assert (btr:object ?world :mesh bottle-1 ((-2 -0.9 0.860) (0 0 0 1))\n",
    "                             :mass 0.2 :color (1 0 0) :mesh :bottle))\n",
    "         (assert (btr:object ?world :mesh bottle-2 ((-0.8 2 0.9) (0 0 0 1))\n",
    "                             :mass 0.2 :color (0 1 0) :mesh :bottle))\n",
    "         (btr:simulate ?world 100))))\n",
    "\n",
    "(defun navigate-to (?navigation-goal)\n",
    "  (exe:perform (desig:a motion\n",
    "                        (type going)\n",
    "                        (pose ?navigation-goal))))\n",
    "\n",
    "(defun look-at (?point-of-interest)\n",
    "  (exe:perform (desig:a motion\n",
    "                        (type looking)\n",
    "                        (pose ?point-of-interest))))\n",
    "\n",
    "(defun get-perceived-bottle-desig ()\n",
    "  (let* ((?bottle-desig (desig:an object (type bottle)))\n",
    "         (?perceived-bottle-desig (exe:perform\n",
    "                                   (desig:a motion\n",
    "                                            (type detecting)\n",
    "                                            (object ?bottle-desig)))))\n",
    "    ?perceived-bottle-desig))\n",
    "\n",
    "(defun pick-up (?object-designator &optional (?arm :right))\n",
    "  (exe:perform (desig:an action\n",
    "                         (type picking-up)\n",
    "                         (arm ?arm)\n",
    "                         (object ?object-designator))))\n",
    "\n",
    "(defun place-down (?pose ?object ?arm)\n",
    "  (exe:perform (desig:an action\n",
    "                         (type placing)\n",
    "                         (arm ?arm)\n",
    "                         (object ?object)\n",
    "                         (target (desig:a location (pose ?pose))))))\n",
    "\n",
    "(defun test-switch-two-bottles ()\n",
    "  (spawn-two-bottles)\n",
    "  (proj:with-projection-environment urdf-proj:urdf-bullet-projection-environment\n",
    "    (cpl:top-level\n",
    "      ;; Go to counter top and perceive bottle\n",
    "      (let ((?navigation-goal *pose-counter*)\n",
    "            (?ptu-goal \n",
    "              (cl-transforms-stamped:make-pose-stamped\n",
    "               \"base_footprint\"\n",
    "               0.0\n",
    "               (cl-transforms:make-3d-vector 0.65335d0 0.076d0 0.758d0)\n",
    "               (cl-transforms:make-identity-rotation))))\n",
    "        (cpl:par\n",
    "          ;; Move torso up\n",
    "          (exe:perform\n",
    "           (desig:a motion (type moving-torso) (joint-angle 0.3)))\n",
    "          (exe:perform\n",
    "           (desig:an action\n",
    "                     (type parking-arms)))\n",
    "          (navigate-to ?navigation-goal))\n",
    "        (look-at ?ptu-goal))\n",
    "      ;; Pick up bottle-1 with right arm.\n",
    "      (let ((?perceived-bottle-1 (get-perceived-bottle-desig)))\n",
    "        (pick-up ?perceived-bottle-1 :right)\n",
    "        (exe:perform\n",
    "         (desig:an action\n",
    "                   (type parking-arms)\n",
    "                   (arms (:right))))\n",
    "        ;; Move to the meal table\n",
    "        (let ((?pose *pose-meal-table*))\n",
    "          (navigate-to ?pose))\n",
    "        ;; Pick up bottle-2 with left arm\n",
    "        (let ((?perceived-bottle-2 (get-perceived-bottle-desig)))\n",
    "          (pick-up ?perceived-bottle-2 :left)\n",
    "          ;; Move left arm out of sight\n",
    "          (exe:perform\n",
    "           (desig:an action\n",
    "                     (type parking-arms)\n",
    "                     (arms (:left))))\n",
    "          ;; Place bottle-1 on second table\n",
    "          (let ((?drop-pose *pose-bottle-2*))\n",
    "            (place-down ?drop-pose ?perceived-bottle-1 :right))\n",
    "          ;; Move right arm out of sight\n",
    "          (exe:perform\n",
    "           (desig:an action\n",
    "                     (type parking-arms)\n",
    "                     (arms (:right))))\n",
    "          ;; Move to the counter table\n",
    "          (let ((?navigation-goal *pose-counter*))\n",
    "            (navigate-to ?navigation-goal))\n",
    "          ;; Place bottle-2 on the counter\n",
    "          (let ((?drop-pose *pose-bottle-1*))\n",
    "            (place-down ?drop-pose ?perceived-bottle-2 :left))\n",
    "          (exe:perform\n",
    "           (desig:an action\n",
    "                     (type parking-arms))))))))"
   ]
  }
 ],
 "metadata": {
  "kernelspec": {
   "display_name": "Common Lisp",
   "language": "common-lisp",
   "name": "common-lisp"
  },
  "language_info": {
   "codemirror_mode": "text/x-common-lisp",
   "file_extension": ".lisp",
   "mimetype": "text/x-common-lisp",
   "name": "common-lisp",
   "pygments_lexer": "common-lisp",
   "version": "2.0.1.debian"
  }
 },
 "nbformat": 4,
 "nbformat_minor": 5
}
