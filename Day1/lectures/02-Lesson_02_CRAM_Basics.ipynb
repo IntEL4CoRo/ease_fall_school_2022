{
 "cells": [
  {
   "cell_type": "markdown",
   "id": "6c77e44b-8a55-4882-ba13-86275964de07",
   "metadata": {},
   "source": [
    "# Lesson 02 - CRAM Basics\n",
    "\n",
    "CRAM stands for Cognitive Robot Abstract Machine. Today we are working with the CRAM plan-executive, which is a framework for writing high-level procedures for robots. High-level, meaning, the procedures in this framework are agnostic of the underlying platform. They can be executed on different robots (PR2, TiaGo, Pepper, HSR, Boxy, Donbot), in different simulations (Bullet, Unreal, MuJoCo), with different motion planners (Giskard, MoveIt, MoveBase, NaiveKinematics), knowledge representations (KnowRob, RALF, internal heuristics), perception systems (Robosherlock, RoboCudo, sim-based perception)... All of these can be easily exchanged by switching out the process-modules for a specific platform, which is like plugging in a different pair of headphones or connect speakers instead, and still hear the same music. The high-level plan stays the same, the music stays the same, but the target output changes. Our platform today is Bullet Physics, a lightweight simulator, that's tightly coupled into CRAMs geometric reasoning.\n"
   ]
  },
  {
   "cell_type": "markdown",
   "id": "df2c08f5-fab2-459f-a66e-76fe49623dab",
   "metadata": {},
   "source": [
    "## Compiling the CRAM code\n",
    "\n",
    "Steel Bank Common Lisp (SBCL) is the interpreter for our code. To use CRAM, we first need to compile the code to make it available.`asdf:load-system` loads an ASDF (Another System Definition Facility) system into the SBCL kernel. You will remember this line from lesson 0."
   ]
  },
  {
   "cell_type": "code",
   "execution_count": null,
   "id": "7da33bc2-df1f-41cc-8d61-a278e75990ea",
   "metadata": {
    "tags": []
   },
   "outputs": [],
   "source": [
    "(asdf:load-system :cram-pr2-pick-place-demo)"
   ]
  },
  {
   "cell_type": "markdown",
   "id": "927257f9-33c0-49d9-990e-98a4fd93ac6c",
   "metadata": {},
   "source": [
    "Every time you reboot Docker or restart the kernel, even when you switch to a different lesson, you need to compile the package first. Every lesson has its own SBCL kernel.\n",
    "\n",
    "When the pick & place package is loaded, it registers lots of initialization functions. The following will boot up the current configuration of initialization. It can also be used to reboot the whole simluation system."
   ]
  },
  {
   "cell_type": "code",
   "execution_count": null,
   "id": "88f0f2d4-0262-4352-b63d-31fc4e6d868c",
   "metadata": {
    "tags": []
   },
   "outputs": [],
   "source": [
    ";; Warning: resets the core processes of the simulation\n",
    "(roslisp-utilities:startup-ros)"
   ]
  },
  {
   "cell_type": "markdown",
   "id": "27f903d6-4fa7-4f1a-9d3b-0258ee15e973",
   "metadata": {},
   "source": [
    "If you don't want to reboot all the CRAM processes with `startup-ros` but only clear the Bullet World of its objects, use this"
   ]
  },
  {
   "cell_type": "code",
   "execution_count": null,
   "id": "65310615-eb86-4b3e-a796-fe95884437ca",
   "metadata": {
    "tags": []
   },
   "outputs": [],
   "source": [
    ";; Warning: resets simulation and deletes objects\n",
    "(demo::init-projection)"
   ]
  },
  {
   "cell_type": "markdown",
   "id": "a0e646c7-af53-4796-a57b-ca5447b6b8eb",
   "metadata": {},
   "source": [
    "When the simulation hangs up, which happens sometimes, this may bring it back to life. If it doesn't, hit that *Stop* button at the top to kill leftover processes and try again. Eventually you may need to restart the Docker process."
   ]
  },
  {
   "cell_type": "code",
   "execution_count": null,
   "id": "0e264a08-50ef-4d2c-ae87-5e830da9e81f",
   "metadata": {},
   "outputs": [],
   "source": [
    ";; Warning: respawning the window may result in a kernel crash. Restart the lecture via docker to recover from that.\n",
    "(btr-utils:reset-debug-window)"
   ]
  },
  {
   "cell_type": "markdown",
   "id": "db9312f1-1728-46a2-a28d-c0e14912908f",
   "metadata": {},
   "source": [
    "## The Tutorial Package\n",
    "\n",
    "The following block defines a new package, called *cram-bullet-world-tutorial*. This is the package we're going to write our code in."
   ]
  },
  {
   "cell_type": "code",
   "execution_count": null,
   "id": "ed252f25-d7b7-4d0f-839c-8b18c0bdede6",
   "metadata": {
    "tags": []
   },
   "outputs": [],
   "source": [
    "(defpackage cram-bullet-world-tutorial\n",
    "  (:nicknames :btw-tut)                         ;; an alias for the package\n",
    "  (:use :common-lisp :cram-prolog :desig :exe)) ;; inherit other packages' namespace to make our code better readable"
   ]
  },
  {
   "cell_type": "markdown",
   "id": "88913b50-5db8-4be6-a3ea-7abe11c9da8a",
   "metadata": {},
   "source": [
    "As you remember from the previous lesson, packages are like namespaces. Our package has a nickname, which we can use to switch into the package."
   ]
  },
  {
   "cell_type": "code",
   "execution_count": null,
   "id": "6d1e5f6f-dccb-4529-a9de-a7f5d4d4a085",
   "metadata": {
    "tags": []
   },
   "outputs": [],
   "source": [
    "(in-package :btw-tut)"
   ]
  },
  {
   "cell_type": "markdown",
   "id": "2971c26f-0e49-4888-a4da-dde176f1a6bb",
   "metadata": {},
   "source": [
    "There is the function `describe` that gives explanation about symbols and how they are bound. Let's define a global parameter to check this out."
   ]
  },
  {
   "cell_type": "code",
   "execution_count": null,
   "id": "839cc3be-3187-4956-81f3-aec2abe006c2",
   "metadata": {},
   "outputs": [],
   "source": [
    "(defparameter *descriptive-parameter-name* \"Lisp rules\")"
   ]
  },
  {
   "cell_type": "code",
   "execution_count": null,
   "id": "f28bdf97-919c-46b5-a0b3-98347db7bf13",
   "metadata": {},
   "outputs": [],
   "source": [
    "(describe '*descriptive-parameter-name*)"
   ]
  },
  {
   "cell_type": "code",
   "execution_count": null,
   "id": "b1ebcc44-656d-444c-8e8d-145d42201e33",
   "metadata": {},
   "outputs": [],
   "source": [
    "(describe '*package*)"
   ]
  },
  {
   "cell_type": "markdown",
   "id": "6c3a71b9-2708-4781-b57f-d2e83373c7ce",
   "metadata": {},
   "source": [
    "## Poses in 3D space\n",
    "\n",
    "In 3D space we can define a point with x, y and z. We use the `cl-transforms` package to do so."
   ]
  },
  {
   "cell_type": "code",
   "execution_count": null,
   "id": "9ec1301b-4aed-48bd-9574-6671fd9c080e",
   "metadata": {},
   "outputs": [],
   "source": [
    "(cl-transforms:make-3d-vector 1.0 2.0 3.0)"
   ]
  },
  {
   "cell_type": "markdown",
   "id": "4bb06809-670d-421e-905c-0468d2a472db",
   "metadata": {},
   "source": [
    "A point is just a point. Every object is at a certain position in the room, but we don't know how it is oriented. Orientations are commonly represented as a rotation matrix, rotation vector, euler angles or quaternion. CRAM works with quaternions, which are very hard to read for humans, but are very nice to work with. Like rotation matrices, quaternions can the concatenated to calculate a chain of relative orientations."
   ]
  },
  {
   "cell_type": "code",
   "execution_count": null,
   "id": "80b0ea89-bace-4455-bac1-150cc6c23426",
   "metadata": {},
   "outputs": [],
   "source": [
    "(cl-transforms:make-identity-rotation)"
   ]
  },
  {
   "cell_type": "markdown",
   "id": "a664db11-a4ef-4f10-b909-603ec133a995",
   "metadata": {},
   "source": [
    "See that a quaternion is composed of four values: ax, ay, az, and w. Since quaternions are so hard construct by hand, I usually translate them from euler angles."
   ]
  },
  {
   "cell_type": "code",
   "execution_count": null,
   "id": "aad372fb-8dab-4ee6-a05a-5bb038ba24bb",
   "metadata": {},
   "outputs": [],
   "source": [
    "(cl-transforms:euler->quaternion)                 ;; is the identity rotation\n",
    "(cl-transforms:euler->quaternion :az pi)          ;; rotates 180 degree around the z-axis. The last value is float-imprecision.\n",
    "(cl-transforms:euler->quaternion :az (* pi 0.5))  ;; rotates 90 degree to the left\n",
    "(cl-transforms:euler->quaternion :az (* pi -0.5)) ;; rotates 90 degree to the right\n",
    "\n",
    "(describe 'cl-transforms:euler->quaternion)"
   ]
  },
  {
   "cell_type": "markdown",
   "id": "71fa6fc6-09dc-4126-971a-c7e28294048a",
   "metadata": {},
   "source": [
    "The difference between a position and a pose is, that a position only describes a point, while a pose is the combination of position and orientation."
   ]
  },
  {
   "cell_type": "code",
   "execution_count": null,
   "id": "55c17995-2c1b-4c6c-9bf0-bde15ace283b",
   "metadata": {},
   "outputs": [],
   "source": [
    "(cl-transforms:make-pose (cl-transforms:make-3d-vector 1.0 2.0 3.0)\n",
    "                         (cl-transforms:make-identity-rotation))"
   ]
  },
  {
   "cell_type": "markdown",
   "id": "083f6a4a-8794-4b75-aea5-53761ca58bef",
   "metadata": {},
   "source": [
    "What's missing is a reference to something in the room. Every pose should have a reference frame, something that already has a fixed pose in the world, such that we can define a pose w.r.t. that other pose in the world. In our case this origin frame is called `map`. Such a relative pose also gets a `stamp` (like in time-stamp), but we can ignore that for now."
   ]
  },
  {
   "cell_type": "code",
   "execution_count": null,
   "id": "f4a9ce3a-b3ef-4624-9424-834f3bd5dd26",
   "metadata": {},
   "outputs": [],
   "source": [
    "(cl-transforms-stamped:make-pose-stamped \"map\" 0.0\n",
    "                                         (cl-transforms:make-3d-vector 1.0 2.0 3.0)\n",
    "                                         (cl-transforms:make-identity-rotation))"
   ]
  },
  {
   "cell_type": "markdown",
   "id": "173fcb83-e528-439f-8fb8-957bc7bb5b2c",
   "metadata": {},
   "source": [
    "To make our code small, let's define a function that constructs a pose for us"
   ]
  },
  {
   "cell_type": "code",
   "execution_count": null,
   "id": "3c8a9954-e156-42b8-86f5-3e610a1ed3e7",
   "metadata": {},
   "outputs": [],
   "source": [
    "(defun make-pose (frame point euler)\n",
    "    (declare (type string frame)      ;; verifies the type of 'frame' as string\n",
    "             (type list point euler)) ;; and list for 'point' and 'euler'\n",
    "    ;; this is the documentation string\n",
    "    \"Creates a cl-transforms pose in 3D space w.r.t. the given frame, point and euler.\n",
    "    frame - a string of the reference frame in the world.\n",
    "    point - given as a list of x y z coordinates, \n",
    "    euler - given as rotations around the x, y and z axis. (right-hand-rule)\"\n",
    "    ;; this checks if the arguments 'point' and 'euler' both have length 3\n",
    "    (if (and (eq (length point) 3) (eq (length euler) 3))\n",
    "        ;; destructuring-bind can assign the contents of a list to local variables.\n",
    "        ;; here it binds the 3 values of the 'euler' list to ax, ay and az\n",
    "        ;; mapcar with eval is required here to evaluate formulae like (* pi 0.5)\n",
    "        (destructuring-bind (ax ay az) (mapcar #'eval euler)\n",
    "          (cl-transforms-stamped:make-pose-stamped frame 0.0 \n",
    "                                                   (apply #'cl-transforms:make-3d-vector point)\n",
    "                                                   (cl-transforms:euler->quaternion :ax ax :ay ay :az az)))\n",
    "        ;; else-branch\n",
    "        (format T \"point ~a or euler ~a is not of length 3\" point euler)))"
   ]
  },
  {
   "cell_type": "code",
   "execution_count": null,
   "id": "ab6bdac0-cbd9-459f-bcf8-09982a6ebb72",
   "metadata": {
    "tags": []
   },
   "outputs": [],
   "source": [
    "(make-pose \"map\" '(1.0 2.0 3.0) '(0.0 0.0 (* pi 0.5)))"
   ]
  },
  {
   "cell_type": "markdown",
   "id": "7eaf6754-2cfa-4a32-ac42-b24515148ccf",
   "metadata": {},
   "source": [
    "## Visualizing\n",
    "\n",
    "All these poses seem pretty abstract, so let's visualize them in Bullet. The function `btr:add-vis-axis-object` can be applied to poses, physical objects and robot parts."
   ]
  },
  {
   "cell_type": "code",
   "execution_count": null,
   "id": "aee4f5c9-493f-4de7-afb6-61ae4e12ad38",
   "metadata": {},
   "outputs": [],
   "source": [
    ";; try and mess around with the poses values\n",
    "(btr:add-vis-axis-object (make-pose \"map\" '(0.0 0.0 2.0) '((* pi 0.0) (* pi 0.0) (* pi 0.0))))"
   ]
  },
  {
   "cell_type": "markdown",
   "id": "cde934bc-1180-404a-b166-828052b637b9",
   "metadata": {},
   "source": [
    "These are some examples to visualize the pose of part of the environment and the robot."
   ]
  },
  {
   "cell_type": "code",
   "execution_count": null,
   "id": "9158ad9b-9ac3-483e-9fa6-01d11ce312b3",
   "metadata": {
    "tags": []
   },
   "outputs": [],
   "source": [
    "(btr:add-vis-axis-object (btr:link-pose (btr:get-environment-object) \"sink_area_left_middle_drawer_handle\"))"
   ]
  },
  {
   "cell_type": "code",
   "execution_count": null,
   "id": "b05ee8b6-a07e-46ff-b3da-e75d753052ab",
   "metadata": {},
   "outputs": [],
   "source": [
    "(btr:add-vis-axis-object (btr:link-pose (btr:get-robot-object) \"l_gripper_tool_frame\"))"
   ]
  },
  {
   "cell_type": "code",
   "execution_count": null,
   "id": "abaa4df5-af41-461b-9161-fda3094f4e4c",
   "metadata": {},
   "outputs": [],
   "source": [
    "(btr:add-vis-axis-object (btr:link-pose (btr:get-robot-object) \"base_laser_link\"))"
   ]
  },
  {
   "cell_type": "code",
   "execution_count": null,
   "id": "a521788d-9c1b-4255-98c1-0bc3c06f3c3c",
   "metadata": {},
   "outputs": [],
   "source": [
    "(btr:add-vis-axis-object (btr:link-pose (btr:get-robot-object) \"torso_lift_link\"))"
   ]
  },
  {
   "cell_type": "code",
   "execution_count": null,
   "id": "e856bd75-c4f0-40a6-bc05-1feb3564e1c7",
   "metadata": {},
   "outputs": [],
   "source": [
    "(btr:add-vis-axis-object (btr:link-pose (btr:get-robot-object) \"wide_stereo_optical_frame\"))"
   ]
  },
  {
   "cell_type": "markdown",
   "id": "4673662c-a191-4c7c-b6fc-9b8ffee96988",
   "metadata": {},
   "source": [
    "To get a full list of the environment and robot parts, this will retreive all possible frames. We use Alexandria here to extract the keys of the hash-table, in which the links of the environment are defined."
   ]
  },
  {
   "cell_type": "code",
   "execution_count": null,
   "id": "ad081681-ba41-4430-a7b0-18ea99c2e9b5",
   "metadata": {
    "tags": []
   },
   "outputs": [],
   "source": [
    "(alexandria:hash-table-keys (slot-value (slot-value (btr:get-environment-object) 'btr:urdf) 'cl-urdf:links))"
   ]
  },
  {
   "cell_type": "code",
   "execution_count": null,
   "id": "9e496b96-6975-46a0-b731-d1d6d0c83ba8",
   "metadata": {
    "tags": []
   },
   "outputs": [],
   "source": [
    "(alexandria:hash-table-keys (slot-value (slot-value (btr:get-robot-object) 'btr:urdf) 'cl-urdf:links))"
   ]
  },
  {
   "cell_type": "markdown",
   "id": "f5147cb6-7ded-4b44-865b-812b2b49518d",
   "metadata": {},
   "source": [
    "We can also visualize areas. The following calculates and shows the distribution of poses that are suitable for the PR2 to stand, in order to reach the sink-area-left-middle-drawer-handle of the kitchen."
   ]
  },
  {
   "cell_type": "code",
   "execution_count": null,
   "id": "a1095786-da73-466b-8c71-48ae76f602cd",
   "metadata": {
    "tags": []
   },
   "outputs": [],
   "source": [
    ";; this takes a while to compute. lay back and observe.\n",
    "(btr-utils:visualize-designator-costmaps\n",
    " (a location\n",
    "    (reachable-for pr2)\n",
    "    (arm left)\n",
    "    (object (an object\n",
    "                (type cupboard)\n",
    "                (urdf-name sink-area-left-middle-drawer-handle)\n",
    "                (part-of iai-kitchen)))))"
   ]
  },
  {
   "cell_type": "markdown",
   "id": "81d48b34-fe0a-4875-bc6b-eea70849fcf9",
   "metadata": {},
   "source": [
    "## Designators\n",
    "That previous code block seems wierd. It looks completely different from the Lisp code that we previously saw. That's because it's a designator.\n",
    "\n",
    "Designators are underspecified, symbolic representations of something that's not evaluated yet. We can describe locations, objects and actions with that. As soon as we need a discrete pose of such a location, we can sample a pose of it and work with that. If that pose doesn't work well, we can take the next poose from that distribution. For our cases though, we can specify a location designator to just be one pose.\n",
    "\n",
    "### Locations"
   ]
  },
  {
   "cell_type": "code",
   "execution_count": null,
   "id": "121d08c7-6c8d-4557-8c6c-8699a9c8444f",
   "metadata": {},
   "outputs": [],
   "source": [
    "(a location)"
   ]
  },
  {
   "cell_type": "code",
   "execution_count": null,
   "id": "e78c0973-d971-4d39-ac17-14e00d0f8bf6",
   "metadata": {
    "tags": []
   },
   "outputs": [],
   "source": [
    "(let ((?some-locally-defined-pose (make-pose \"map\" '(0.0 0.0 2.0) '(0.0 0.0 0.0))))\n",
    "     (a location\n",
    "        (pose ?some-locally-defined-pose)))"
   ]
  },
  {
   "cell_type": "markdown",
   "id": "887b48a1-33df-4672-a6c3-9141221d075b",
   "metadata": {},
   "source": [
    "Note that the local variable has a `?` front of its name. This is common notation for values in a designator. Every time you want to use any kind of value in a designator, it must be defined as a variable starting with `?`. That is, such that the location designator identifies the variable to be evaluated. Evaluating a discrete value for a designator is called `referencing`."
   ]
  },
  {
   "cell_type": "code",
   "execution_count": null,
   "id": "b156c9ee-3ffc-412d-885b-c9d8179680b0",
   "metadata": {},
   "outputs": [],
   "source": [
    ";; let* can re-use locally defined variable within the definition of them\n",
    "(let* ((?some-locally-defined-pose (make-pose \"map\" '(0.0 0.0 2.0) '(0.0 0.0 0.0)))\n",
    "       (?some-location-designator (a location\n",
    "                                     (pose ?some-locally-defined-pose))))\n",
    "     (reference ?some-location-designator))"
   ]
  },
  {
   "cell_type": "markdown",
   "id": "1ec51365-0f8a-4bbe-b415-66a7850a0f90",
   "metadata": {},
   "source": [
    "Designator resolution is done by evaluating the key-value notation of the designator in logical facts, similar to first-order-logic programming, as it is done in Prolog. This is what makes designators to powerful. Since they are evaluated lazily, there may be more than one solution for the same designator.\n",
    "\n",
    "Let's dig deeper into that.\n",
    "\n",
    "### Objects"
   ]
  },
  {
   "cell_type": "code",
   "execution_count": null,
   "id": "283b681c-158a-43ce-8866-1590697a22e9",
   "metadata": {},
   "outputs": [],
   "source": [
    "(an object)"
   ]
  },
  {
   "cell_type": "markdown",
   "id": "fb00608a-4a9f-4665-b0ea-38af296a9c2c",
   "metadata": {},
   "source": [
    "An object designator, like for locations, can stay underspecified until we assign it to a specific object."
   ]
  },
  {
   "cell_type": "code",
   "execution_count": null,
   "id": "f52f9e03-130e-4d6b-867c-ac310f3fae08",
   "metadata": {},
   "outputs": [],
   "source": [
    "(an object\n",
    "    (type bottle))"
   ]
  },
  {
   "cell_type": "code",
   "execution_count": null,
   "id": "46dfe8cd-ff44-48a4-ac4b-06f731219596",
   "metadata": {
    "tags": []
   },
   "outputs": [],
   "source": [
    ";; this won't work\n",
    "(reference (an object (type bottle)))"
   ]
  },
  {
   "cell_type": "markdown",
   "id": "deedc94d-606c-451c-9ec7-3edd65c17fc4",
   "metadata": {},
   "source": [
    "Some designators can not be resolved, because there is no solution for them yet. Let's give it a solution. First, let's reset the simulation."
   ]
  },
  {
   "cell_type": "code",
   "execution_count": null,
   "id": "a0f8212e-0aa3-406c-a54d-828eadf7742b",
   "metadata": {},
   "outputs": [],
   "source": [
    "(demo::initialize)"
   ]
  },
  {
   "cell_type": "markdown",
   "id": "c048a8df-a8c6-4f2d-9813-778e41583bb7",
   "metadata": {},
   "source": [
    "The robot should stand in it's origin pose. Now spawn a bottle into the world."
   ]
  },
  {
   "cell_type": "code",
   "execution_count": null,
   "id": "bab2da87-663f-466c-a60a-067e8304e909",
   "metadata": {},
   "outputs": [],
   "source": [
    "(btr-utils:spawn-object 'that-one-bottle-in-the-front  \n",
    "                        :bottle \n",
    "                        :pose (make-pose \"map\" '(1.5 0.0 1.5) '(0 0 0)))"
   ]
  },
  {
   "cell_type": "markdown",
   "id": "2da45929-ba2a-4ee2-adef-3b91ba0b11bd",
   "metadata": {},
   "source": [
    "And to reference it, we need to perceive it.\n",
    "\n",
    "### Actions"
   ]
  },
  {
   "cell_type": "code",
   "execution_count": null,
   "id": "fb011ee8-7f84-4fc8-9771-0628c6e18932",
   "metadata": {},
   "outputs": [],
   "source": [
    "(urdf-proj:with-simulated-robot\n",
    "  (perform (an action\n",
    "               (type detecting)\n",
    "               (object (an object\n",
    "                           (type bottle))))))"
   ]
  },
  {
   "cell_type": "markdown",
   "id": "38d2d3d1-7507-4287-a87a-32f22cba02d7",
   "metadata": {},
   "source": [
    "The resulting object designator is now resolved, by detecting the object of type bottle in front of the robot. Don't mind that the bottle fell down into the sink. Performing an action also simulates the Bullet World.\n",
    "\n",
    "`urdf-proj:with-simulated-robot` is a macro that specifies, what process-modules we use for performing an action. Remember in the first paragraph of this lecture, where all plans in CRAM are basically platform-independent. This is that. With that macro we say, that the action should be executed on the simulated robot.\n",
    "\n",
    "An action in itself is not very spectacular until it's performed. `perform` references an action designator and translates its key-value pairs into parametrization for a Lisp function. If any parameters are missing, they are inferred through massive first-order-logic mechanisms. Every action must have a `type` at least, and what other parameters are required depends on the type of action. "
   ]
  },
  {
   "cell_type": "code",
   "execution_count": null,
   "id": "15a8a786-0a4b-4835-b2d4-cecff55b0bcf",
   "metadata": {
    "tags": []
   },
   "outputs": [],
   "source": [
    "(btr-utils:kill-all-objects) ;; cleanup objects\n",
    "\n",
    ";; place two bottle directly behind each other, while that-one-bottle-in-the-front occludes sight on that-other-bottle\n",
    "(btr-utils:spawn-object 'that-one-bottle-in-the-front \n",
    "                        :bottle \n",
    "                        :pose (make-pose \"map\" '(1.45 0.0 0.96) '(0 0 0)))\n",
    "(btr-utils:spawn-object 'that-other-bottle-in-the-back\n",
    "                        :bottle \n",
    "                        :pose (make-pose \"map\" '(1.55 0.0 0.96) '(0 0 0)))\n",
    "\n",
    ";; execute a bottle two times, while deleting one in between\n",
    "(urdf-proj:with-simulated-robot\n",
    " (let (first-bottle second-bottle) ;; define two empty local variables\n",
    "      ;; perceive a bottle\n",
    "      (setf first-bottle \n",
    "            (perform (an action\n",
    "                         (type detecting)\n",
    "                         (object (an object\n",
    "                                     (type bottle))))))\n",
    "      ;; remove the bottle in the front\n",
    "      (btr-utils:kill-object 'that-one-bottle-in-the-front)\n",
    "      ;; perceive again\n",
    "      (setf second-bottle \n",
    "            (perform (an action\n",
    "                         (type detecting)\n",
    "                         (object (an object\n",
    "                                     (type bottle))))))\n",
    "      (format NIL \"first bottle:~%~a~%~%second bottle:~%~a\" first-bottle second-bottle)))"
   ]
  },
  {
   "cell_type": "markdown",
   "id": "c2724864-498a-4d0e-8402-7d70d6fca575",
   "metadata": {},
   "source": [
    "See the outprint for the first and the second bottle and check the objects name. Mess around with the positioning of the two bottles, reset them and execute the actions again. The one in the back will never be perceived first, because the robot can't see it. Only when we remove the one in the front, he can.\n",
    "\n",
    "\n",
    "This is it for the CRAM basics. To dig deeper, head to lesson 3 about picking and placing objects."
   ]
  }
 ],
 "metadata": {
  "kernelspec": {
   "display_name": "Common Lisp",
   "language": "common-lisp",
   "name": "common-lisp"
  },
  "language_info": {
   "codemirror_mode": "text/x-common-lisp",
   "file_extension": ".lisp",
   "mimetype": "text/x-common-lisp",
   "name": "common-lisp",
   "pygments_lexer": "common-lisp",
   "version": "2.0.1.debian"
  }
 },
 "nbformat": 4,
 "nbformat_minor": 5
}
