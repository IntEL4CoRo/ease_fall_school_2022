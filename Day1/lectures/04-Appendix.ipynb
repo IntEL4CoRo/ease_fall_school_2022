{
 "cells": [
  {
   "cell_type": "markdown",
   "id": "83aa5bf5-0244-4731-8792-d136f9c7cdbe",
   "metadata": {},
   "source": [
    "# Appendix\n",
    "\n",
    "Thank you for participating!\n",
    "\n",
    "Credits go to Bhavya Wadhwa for putting so much effort into the Docker setup, and Mehreen Naeem for testing this lectures code.\n",
    "\n",
    "Here are some references if you want to find out more about CRAM:\n",
    "* [CRAM Website](https://cram-system.org) for more tutorials and the latest news\n",
    "* [CRAM Repository](https://github.com/cram2/cram) for the code\n",
    "* [Why Lisp?](http://cram-system.org/doc/package/why_lisp)\n",
    "* [CRAM](https://ai.uni-bremen.de/papers/beetz10cram.pdf)\n",
    "* [The Robot Household Marathon Experiment](https://arxiv.org/abs/2011.09792)\n",
    "* [Executing Underspecified Actions in Real World Based on Online Projection](https://ieeexplore.ieee.org/document/8967867)\n",
    "* [Towards Plan Transformations for Real-World Mobile Fetch and Place](https://ieeexplore.ieee.org/document/9197446)\n",
    "* [More research](http://cram-system.org/research)"
   ]
  }
 ],
 "metadata": {
  "kernelspec": {
   "display_name": "Common Lisp",
   "language": "common-lisp",
   "name": "common-lisp"
  },
  "language_info": {
   "codemirror_mode": "text/x-common-lisp",
   "file_extension": ".lisp",
   "mimetype": "text/x-common-lisp",
   "name": "common-lisp",
   "pygments_lexer": "common-lisp",
   "version": "2.0.1.debian"
  }
 },
 "nbformat": 4,
 "nbformat_minor": 5
}
