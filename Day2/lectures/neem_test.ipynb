{
 "cells": [
  {
   "cell_type": "markdown",
   "id": "5c2fc50f-08d4-4c5f-9d1e-5bb58ee995e9",
   "metadata": {
    "tags": []
   },
   "source": [
    "# Loading NEEM Data\n",
    "\n",
    "First we will load the neem data. For this we have to define the collections we want to import:"
   ]
  },
  {
   "cell_type": "code",
   "execution_count": 3,
   "id": "c038f284-f467-4ef1-8e86-c39490eef590",
   "metadata": {},
   "outputs": [
    {
     "data": {
      "text/plain": [
       "#<ASDF/LISP-ACTION:LOAD-OP >"
      ]
     },
     "execution_count": 3,
     "metadata": {},
     "output_type": "execute_result"
    },
    {
     "data": {
      "text/plain": [
       "#<ASDF/PLAN:SEQUENTIAL-PLAN {1004E08393}>"
      ]
     },
     "execution_count": 3,
     "metadata": {},
     "output_type": "execute_result"
    }
   ],
   "source": [
    "(ros-load:load-system \"cram_cloud_logger\" :cram-cloud-logger)"
   ]
  },
  {
   "cell_type": "code",
   "execution_count": 4,
   "id": "d64ba35f-d493-4763-a9a1-d718eb5dc15c",
   "metadata": {},
   "outputs": [
    {
     "data": {
      "text/plain": [
       "\"'/home/ros/src/neem-interface/src/neem-interface.pl'\""
      ]
     },
     "execution_count": 4,
     "metadata": {},
     "output_type": "execute_result"
    }
   ],
   "source": [
    " (setf ccl::*neem-interface-path* \"'/home/ros/src/neem-interface/src/neem-interface.pl'\")"
   ]
  },
  {
   "cell_type": "code",
   "execution_count": 5,
   "id": "7325ae78-4f0a-4cfb-9405-df1f990c099c",
   "metadata": {},
   "outputs": [
    {
     "data": {
      "text/plain": [
       "NIL"
      ]
     },
     "execution_count": 5,
     "metadata": {},
     "output_type": "execute_result"
    },
    {
     "name": "stdout",
     "output_type": "stream",
     "text": [
      "[(ROSLISP TOP) INFO] 1662044578.715: Node name is /cram\n",
      "[(ROSLISP TOP) INFO] 1662044578.716: Namespace is /\n",
      "[(ROSLISP TOP) INFO] 1662044578.716: Params are NIL\n",
      "[(ROSLISP TOP) INFO] 1662044578.716: Remappings are:\n",
      "[(ROSLISP TOP) INFO] 1662044578.716: master URI is 127.0.0.1:11311\n",
      "[(ROSLISP TOP) INFO] 1662044579.929: Node startup complete\n",
      "[(ROSNODE) INFO] 1662044579.936: ROS init #<FUNCTION CRAM-TF::INIT-TF>.\n",
      "[(CRAM-TF INIT-TF) INFO] 1662044579.936: Set *fixed-frame* to \"map\".\n",
      "[(CRAM-TF INIT-TF) INFO] 1662044579.983: Environment name is IAI-KITCHEN.\n",
      "[(CRAM-TF INIT-TF) INFO] 1662044580.068: Initialized *transformer* to a TRANSFORM-LISTENER.\n",
      "[(CRAM-TF INIT-TF) INFO] 1662044580.068: *tf-default-timeout* is 4.0.\n",
      "[(CRAM-TF INIT-TF) INFO] 1662044580.112: Robot name is PR2.\n",
      "[(CRAM-TF INIT-TF) INFO] 1662044580.123: *ODOM-FRAME* is unknown. Did you load a robot description package?\n",
      "[(CRAM-TF INIT-TF) INFO] 1662044580.124: *ROBOT-BASE-FRAME* is unknown. Did you load a robot description package?\n",
      "[(CRAM-TF INIT-TF) INFO] 1662044580.124: *ROBOT-TORSO-FRAME* is unknown. Did you load a robot description package?\n",
      "[(CRAM-TF INIT-TF) INFO] 1662044580.124: *ROBOT-TORSO-JOINT* is unknown. Did you load a robot description package?\n",
      "[(CRAM-TF INIT-TF) INFO] 1662044580.124: *ROBOT-LEFT-TOOL-FRAME* is unknown. Did you load a robot description package?\n",
      "[(CRAM-TF INIT-TF) INFO] 1662044580.124: *ROBOT-RIGHT-TOOL-FRAME* is unknown. Did you load a robot description package?\n",
      "[(ROSNODE) INFO] 1662044580.124: ROS init #<FUNCTION CRAM-TF::INIT-TF-BROADCASTER>.\n",
      "[(ROSNODE) INFO] 1662044580.127: ROS init #<FUNCTION CRAM-TF::INIT-MARKER-PUBLISHER>.\n"
     ]
    }
   ],
   "source": [
    " (roslisp-utilities:startup-ros :name \"cram\" :anonymous nil)"
   ]
  },
  {
   "cell_type": "markdown",
   "id": "709281e5-822f-468c-91f5-6d83667f5f88",
   "metadata": {},
   "source": [
    "Important: Always wait till the commands finish and return the solutions."
   ]
  },
  {
   "cell_type": "code",
   "execution_count": 6,
   "id": "56ab3c31-745e-4bc6-bd38-a8bcf0a6a25e",
   "metadata": {},
   "outputs": [
    {
     "data": {
      "text/plain": [
       "(NIL)"
      ]
     },
     "execution_count": 6,
     "metadata": {},
     "output_type": "execute_result"
    },
    {
     "name": "stdout",
     "output_type": "stream",
     "text": [
      "[(CCL SEND-QUERY-1) INFO] 1662044588.141: ensure_loaded('/home/ros/src/neem-interface/src/neem-interface.pl')\n",
      "[(CCL SEND-QUERY-1) INFO] 1662044588.157: mem_episode_start(RootAction,'package://iai_semantic_maps/owl/kitchen.owl','http://knowrob.org/kb/IAI-kitchen.owl#iai_kitchen_room_link','package://iai_kitchen/urdf_obj/kitchen.urdf','iai_kitchen/','package://knowrob/owl/robots/PR2.owl','http://knowrob.org/kb/PR2.owl#PR2_0','package://knowrob/urdf/pr2.urdf')\n",
      "[(CCL SEND-QUERY-1) INFO] 1662044591.944: mem_event_begin('http://www.ontologydesignpatterns.org/ont/dul/DUL.owl#Action_NRVDKBTX')\n"
     ]
    }
   ],
   "source": [
    " (ccl:start-episode)"
   ]
  },
  {
   "cell_type": "code",
   "execution_count": 7,
   "id": "b0f0cc38-df8c-4740-929d-3b2f670a8435",
   "metadata": {},
   "outputs": [
    {
     "data": {
      "text/plain": [
       "NIL"
      ]
     },
     "execution_count": 7,
     "metadata": {},
     "output_type": "execute_result"
    },
    {
     "name": "stdout",
     "output_type": "stream",
     "text": [
      "[(CCL SEND-QUERY-1) INFO] 1662044594.481: mem_event_end('http://www.ontologydesignpatterns.org/ont/dul/DUL.owl#Action_NRVDKBTX')\n",
      "[(CCL SEND-QUERY-1) INFO] 1662044594.513: mem_episode_stop('/home/neem_data')\n"
     ]
    }
   ],
   "source": [
    " (ccl:stop-episode)"
   ]
  }
 ],
 "metadata": {
  "kernelspec": {
   "display_name": "Common Lisp",
   "language": "common-lisp",
   "name": "common-lisp"
  },
  "language_info": {
   "codemirror_mode": "text/x-common-lisp",
   "file_extension": ".lisp",
   "mimetype": "text/x-common-lisp",
   "name": "common-lisp",
   "pygments_lexer": "common-lisp",
   "version": "2.0.1.debian"
  }
 },
 "nbformat": 4,
 "nbformat_minor": 5
}
