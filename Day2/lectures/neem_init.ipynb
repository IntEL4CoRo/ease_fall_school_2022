{
 "cells": [
  {
   "cell_type": "markdown",
   "id": "5c2fc50f-08d4-4c5f-9d1e-5bb58ee995e9",
   "metadata": {
    "tags": []
   },
   "source": [
    "# Loading NEEM Data\n",
    "\n",
    "First we will load the neem data. For this we have to define the collections we want to import:"
   ]
  },
  {
   "cell_type": "code",
   "execution_count": null,
   "id": "7ab939f2-36b9-4199-9a59-a127a597654a",
   "metadata": {
    "tags": []
   },
   "outputs": [],
   "source": [
    "(ros-load:load-system \"cram_pr2_pick_place_demo\" :cram-pr2-pick-place-demo)"
   ]
  },
  {
   "cell_type": "code",
   "execution_count": null,
   "id": "c038f284-f467-4ef1-8e86-c39490eef590",
   "metadata": {
    "tags": []
   },
   "outputs": [],
   "source": [
    "(ros-load:load-system \"cram_cloud_logger\" :cram-cloud-logger)"
   ]
  },
  {
   "cell_type": "code",
   "execution_count": null,
   "id": "d64ba35f-d493-4763-a9a1-d718eb5dc15c",
   "metadata": {
    "tags": []
   },
   "outputs": [],
   "source": [
    " (setf ccl::*neem-interface-path* \"'/home/ros/src/neem-interface/src/neem-interface.pl'\")"
   ]
  },
  {
   "cell_type": "code",
   "execution_count": null,
   "id": "e825cbea-8c46-43d6-945c-93be122a2cf7",
   "metadata": {
    "tags": []
   },
   "outputs": [],
   "source": [
    "(setf cram-tf:*tf-broadcasting-enabled* t)"
   ]
  },
  {
   "cell_type": "code",
   "execution_count": null,
   "id": "aa23fa82-4572-4bd6-80f6-9d8bff6712d0",
   "metadata": {
    "tags": []
   },
   "outputs": [],
   "source": [
    "(setf cram-tf:*tf-broadcasting-topic* \"tf\")"
   ]
  },
  {
   "cell_type": "code",
   "execution_count": null,
   "id": "7325ae78-4f0a-4cfb-9405-df1f990c099c",
   "metadata": {
    "tags": []
   },
   "outputs": [],
   "source": [
    " (roslisp-utilities:startup-ros :name \"cram\" :anonymous nil)"
   ]
  },
  {
   "cell_type": "code",
   "execution_count": null,
   "id": "145f7bcf-dd88-469c-a161-651b744a7f52",
   "metadata": {
    "tags": []
   },
   "outputs": [],
   "source": [
    "cram-tf:*tf-broadcasting-topic*"
   ]
  },
  {
   "cell_type": "markdown",
   "id": "709281e5-822f-468c-91f5-6d83667f5f88",
   "metadata": {},
   "source": [
    "Important: Always wait till the commands finish and return the solutions."
   ]
  },
  {
   "cell_type": "code",
   "execution_count": null,
   "id": "56ab3c31-745e-4bc6-bd38-a8bcf0a6a25e",
   "metadata": {
    "tags": []
   },
   "outputs": [],
   "source": [
    " (ccl:start-episode)"
   ]
  },
  {
   "cell_type": "code",
   "execution_count": null,
   "id": "0decfcc5-82f9-46ab-95a0-609dcf9e4f4a",
   "metadata": {
    "tags": []
   },
   "outputs": [],
   "source": [
    "ccl::*is-logging-enabled*"
   ]
  },
  {
   "cell_type": "code",
   "execution_count": null,
   "id": "f418c711-f6d8-4dd7-b6c6-38b43e6cab67",
   "metadata": {},
   "outputs": [],
   "source": [
    "(urdf-proj:with-simulated-robot\n",
    " (demo::setting-demo '(:bowl)))"
   ]
  },
  {
   "cell_type": "code",
   "execution_count": null,
   "id": "b0f0cc38-df8c-4740-929d-3b2f670a8435",
   "metadata": {
    "tags": []
   },
   "outputs": [],
   "source": [
    " (ccl:stop-episode)"
   ]
  }
 ],
 "metadata": {
  "kernelspec": {
   "display_name": "Common Lisp",
   "language": "common-lisp",
   "name": "common-lisp"
  },
  "language_info": {
   "codemirror_mode": "text/x-common-lisp",
   "file_extension": ".lisp",
   "mimetype": "text/x-common-lisp",
   "name": "common-lisp",
   "pygments_lexer": "common-lisp",
   "version": "2.0.1.debian"
  }
 },
 "nbformat": 4,
 "nbformat_minor": 5
}
